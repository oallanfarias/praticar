{
  "nbformat": 4,
  "nbformat_minor": 0,
  "metadata": {
    "colab": {
      "provenance": [],
      "collapsed_sections": [],
      "authorship_tag": "ABX9TyMe7g58V2311229F33kr18l"
    },
    "kernelspec": {
      "name": "python3",
      "display_name": "Python 3"
    },
    "language_info": {
      "name": "python"
    }
  },
  "cells": [
    {
      "cell_type": "markdown",
      "source": [
        "#Preparação do ambiente"
      ],
      "metadata": {
        "id": "5yfPvv6nvpIX"
      }
    },
    {
      "cell_type": "code",
      "source": [
        "#INSTALAÇÃO DA BIBLIOTECA PYSPARK\n",
        "!pip install pyspark"
      ],
      "metadata": {
        "id": "RAIzZFix4ok7"
      },
      "execution_count": null,
      "outputs": []
    },
    {
      "cell_type": "code",
      "source": [
        "#INSTALAÇÃO DA BIBLIOTECA GOOGLE CLOUD STORAGE FILE SYSTEM\n",
        "!pip install gcsfs"
      ],
      "metadata": {
        "id": "akLTR8Tl4sLR"
      },
      "execution_count": null,
      "outputs": []
    },
    {
      "cell_type": "code",
      "source": [
        "#INSTALAÇÃO DO MONGODB\n",
        "!pip install pymongo[srv]"
      ],
      "metadata": {
        "id": "L9Ivmx0x4rFC"
      },
      "execution_count": null,
      "outputs": []
    },
    {
      "cell_type": "code",
      "source": [
        "#MONGO\n",
        "import pymongo\n",
        "from pymongo import MongoClient\n",
        "\n",
        "#IMPORTAR BIBLIOTECAS DO CLOUD STORAGE\n",
        "from google.cloud import storage\n",
        "import os\n",
        "\n",
        "#IMPORTAR A BIBLIOTECA DO PANDAS\n",
        "import pandas as pd\n",
        "\n",
        "#IMPORTAR AS BIBLIOTECAS DO SPARK\n",
        "from pyspark.sql import SparkSession\n",
        "from pyspark import SparkConf\n",
        "import pyspark.sql.functions as F\n",
        "from pyspark.sql.types import *\n",
        "from pyspark.sql.window import Window"
      ],
      "metadata": {
        "id": "-CuWkbJP47dp"
      },
      "execution_count": null,
      "outputs": []
    },
    {
      "cell_type": "code",
      "source": [
        "#IMPORTAR O DRIVE\n",
        "from google.colab import drive\n",
        "drive.mount('/content/drive')"
      ],
      "metadata": {
        "colab": {
          "base_uri": "https://localhost:8080/"
        },
        "id": "MzGIDCUxqocp",
        "outputId": "e950e73e-419c-4585-d58c-7e20e5fe5a80"
      },
      "execution_count": null,
      "outputs": [
        {
          "output_type": "stream",
          "name": "stdout",
          "text": [
            "Mounted at /content/drive\n"
          ]
        }
      ]
    },
    {
      "cell_type": "code",
      "source": [
        "#CONFIGURAÇÂO CHAVE DE SEGURANÇA\n",
        "serviceAccount = '/content/drive/MyDrive/Key/' #chave retirada\n",
        "os.environ['GOOGLE_APPLICATION_CREDENTIALS'] = serviceAccount"
      ],
      "metadata": {
        "id": "B8_wUVglrhF9"
      },
      "execution_count": null,
      "outputs": []
    },
    {
      "cell_type": "markdown",
      "source": [
        "#Extração"
      ],
      "metadata": {
        "id": "S78cNvkkx0Ev"
      }
    },
    {
      "cell_type": "code",
      "source": [
        "#CÓDIGOS DE ACESSO A BUCKET PARA CRIAR UM DATAFRAME NO PYSPARK A PARTIR DO DATASET\n",
        "client = storage.Client()\n",
        "\n",
        "#CRIAR UMA VARIÁVEL PARA RECEBER O NOME DA BUCKET\n",
        "bucket = client.get_bucket('') #bucket retirado\n",
        "\n",
        "#ESCOLHER O ARQUIVO DENTRO DA BUCKET\n",
        "bucket.blob('marketing_campaign.csv')\n",
        "\n",
        "#CRIAR UMA VARIÁVEL QUE VAI RECEBER O CAMINHO DO ARQUIVO\n",
        "path = 'gs://' #caminho retirado"
      ],
      "metadata": {
        "id": "Kmyn6L8Wr7-d"
      },
      "execution_count": null,
      "outputs": []
    },
    {
      "cell_type": "code",
      "source": [
        "#PARA MOSTRAR O MAXIMO DE COLUNAS\n",
        "pd.set_option('max_columns',None)"
      ],
      "metadata": {
        "id": "dFF9Xa0P5tjK"
      },
      "execution_count": null,
      "outputs": []
    },
    {
      "cell_type": "code",
      "source": [
        "#LER O ARQUIVO E ENVIAR DO BUCKET PARA PARA O PANDAS \n",
        "df = pd.read_csv('gs://')  #caminho retirado"
      ],
      "metadata": {
        "id": "gsvvyscC6TN6"
      },
      "execution_count": null,
      "outputs": []
    },
    {
      "cell_type": "markdown",
      "source": [
        "<font color=cyan>ENVIANDO COPIA DO ARQUIVO ORIGINAL PARA O MONGO\n",
        "- Comentei as três células abaixo para não duplicar o bd "
      ],
      "metadata": {
        "id": "FclcRpGZjIO1"
      }
    },
    {
      "cell_type": "code",
      "source": [
        "#CONECTAR AO ATLAS\n",
        "client = pymongo.MongoClient('mongodb+srv://chave.rbmhmgf.mongodb.net/?retryWrites=true&w=majority') #chave de acesso retirado"
      ],
      "metadata": {
        "id": "Dewq7hOg52rS"
      },
      "execution_count": null,
      "outputs": []
    },
    {
      "cell_type": "code",
      "source": [
        "#CARREGANDO ARQUIVO PARA O MONGODB\n",
        "#db = client['projetoindi']\n",
        "#colecaoprojetoindi = db.original"
      ],
      "metadata": {
        "id": "pn2usnqkMCR4"
      },
      "execution_count": null,
      "outputs": []
    },
    {
      "cell_type": "code",
      "source": [
        "#df = df.to_dict(\"records\")\n",
        "#colecaoprojetoindi.insert_many(df)"
      ],
      "metadata": {
        "id": "MX6DuAbclxWF"
      },
      "execution_count": null,
      "outputs": []
    },
    {
      "cell_type": "code",
      "source": [
        "#colecaoprojetoindi.count_documents({})"
      ],
      "metadata": {
        "id": "sLh6HLBCLqQf"
      },
      "execution_count": null,
      "outputs": []
    },
    {
      "cell_type": "markdown",
      "source": [
        "#Tratamento"
      ],
      "metadata": {
        "id": "cfdpLo9SjIh5"
      }
    },
    {
      "cell_type": "markdown",
      "source": [
        "##<font color=cyan>Pandas\n",
        "- EXTRAIR O DATAFRAME\n",
        "- TRADUZIR COLUNAS E DADOS PARA O PT-BR\n",
        "- VERIFICAR INCONSISTENCIAS\n",
        "- REALIZAR LIMPEZA DE DADOS\n",
        "- FAZER UMA BREVE ANÁLISE DOS DADOS\n",
        "\n"
      ],
      "metadata": {
        "id": "CMWa8zS_jL6p"
      }
    },
    {
      "cell_type": "code",
      "source": [
        "#MOSTRAR AS CINCO PRIMEIRAS LINHAS DO ARQUIVO\n",
        "df.head(5)"
      ],
      "metadata": {
        "colab": {
          "base_uri": "https://localhost:8080/",
          "height": 270
        },
        "id": "EQtJ7UgN7mgW",
        "outputId": "99b63dcb-6c9c-4ff5-f2c6-954ed08491e8"
      },
      "execution_count": null,
      "outputs": [
        {
          "output_type": "execute_result",
          "data": {
            "text/plain": [
              "     ID  Year_Birth   Education Marital_Status   Income  Kidhome  Teenhome  \\\n",
              "0  5524        1957  Graduation         Single  58138.0        0         0   \n",
              "1  2174        1954  Graduation         Single  46344.0        1         1   \n",
              "2  4141        1965  Graduation       Together  71613.0        0         0   \n",
              "3  6182        1984  Graduation       Together  26646.0        1         0   \n",
              "4  5324        1981         PhD        Married  58293.0        1         0   \n",
              "\n",
              "  Dt_Customer  Recency  MntWines  MntFruits  MntMeatProducts  MntFishProducts  \\\n",
              "0  04-09-2012       58       635         88              546              172   \n",
              "1  08-03-2014       38        11          1                6                2   \n",
              "2  21-08-2013       26       426         49              127              111   \n",
              "3  10-02-2014       26        11          4               20               10   \n",
              "4  19-01-2014       94       173         43              118               46   \n",
              "\n",
              "   MntSweetProducts  MntGoldProds  NumDealsPurchases  NumWebPurchases  \\\n",
              "0                88            88                  3                8   \n",
              "1                 1             6                  2                1   \n",
              "2                21            42                  1                8   \n",
              "3                 3             5                  2                2   \n",
              "4                27            15                  5                5   \n",
              "\n",
              "   NumCatalogPurchases  NumStorePurchases  NumWebVisitsMonth  AcceptedCmp3  \\\n",
              "0                   10                  4                  7             0   \n",
              "1                    1                  2                  5             0   \n",
              "2                    2                 10                  4             0   \n",
              "3                    0                  4                  6             0   \n",
              "4                    3                  6                  5             0   \n",
              "\n",
              "   AcceptedCmp4  AcceptedCmp5  AcceptedCmp1  AcceptedCmp2  Complain  \\\n",
              "0             0             0             0             0         0   \n",
              "1             0             0             0             0         0   \n",
              "2             0             0             0             0         0   \n",
              "3             0             0             0             0         0   \n",
              "4             0             0             0             0         0   \n",
              "\n",
              "   Z_CostContact  Z_Revenue  Response  \n",
              "0              3         11         1  \n",
              "1              3         11         0  \n",
              "2              3         11         0  \n",
              "3              3         11         0  \n",
              "4              3         11         0  "
            ],
            "text/html": [
              "\n",
              "  <div id=\"df-c055a278-00ab-4e23-a0e0-af77e3ab032a\">\n",
              "    <div class=\"colab-df-container\">\n",
              "      <div>\n",
              "<style scoped>\n",
              "    .dataframe tbody tr th:only-of-type {\n",
              "        vertical-align: middle;\n",
              "    }\n",
              "\n",
              "    .dataframe tbody tr th {\n",
              "        vertical-align: top;\n",
              "    }\n",
              "\n",
              "    .dataframe thead th {\n",
              "        text-align: right;\n",
              "    }\n",
              "</style>\n",
              "<table border=\"1\" class=\"dataframe\">\n",
              "  <thead>\n",
              "    <tr style=\"text-align: right;\">\n",
              "      <th></th>\n",
              "      <th>ID</th>\n",
              "      <th>Year_Birth</th>\n",
              "      <th>Education</th>\n",
              "      <th>Marital_Status</th>\n",
              "      <th>Income</th>\n",
              "      <th>Kidhome</th>\n",
              "      <th>Teenhome</th>\n",
              "      <th>Dt_Customer</th>\n",
              "      <th>Recency</th>\n",
              "      <th>MntWines</th>\n",
              "      <th>MntFruits</th>\n",
              "      <th>MntMeatProducts</th>\n",
              "      <th>MntFishProducts</th>\n",
              "      <th>MntSweetProducts</th>\n",
              "      <th>MntGoldProds</th>\n",
              "      <th>NumDealsPurchases</th>\n",
              "      <th>NumWebPurchases</th>\n",
              "      <th>NumCatalogPurchases</th>\n",
              "      <th>NumStorePurchases</th>\n",
              "      <th>NumWebVisitsMonth</th>\n",
              "      <th>AcceptedCmp3</th>\n",
              "      <th>AcceptedCmp4</th>\n",
              "      <th>AcceptedCmp5</th>\n",
              "      <th>AcceptedCmp1</th>\n",
              "      <th>AcceptedCmp2</th>\n",
              "      <th>Complain</th>\n",
              "      <th>Z_CostContact</th>\n",
              "      <th>Z_Revenue</th>\n",
              "      <th>Response</th>\n",
              "    </tr>\n",
              "  </thead>\n",
              "  <tbody>\n",
              "    <tr>\n",
              "      <th>0</th>\n",
              "      <td>5524</td>\n",
              "      <td>1957</td>\n",
              "      <td>Graduation</td>\n",
              "      <td>Single</td>\n",
              "      <td>58138.0</td>\n",
              "      <td>0</td>\n",
              "      <td>0</td>\n",
              "      <td>04-09-2012</td>\n",
              "      <td>58</td>\n",
              "      <td>635</td>\n",
              "      <td>88</td>\n",
              "      <td>546</td>\n",
              "      <td>172</td>\n",
              "      <td>88</td>\n",
              "      <td>88</td>\n",
              "      <td>3</td>\n",
              "      <td>8</td>\n",
              "      <td>10</td>\n",
              "      <td>4</td>\n",
              "      <td>7</td>\n",
              "      <td>0</td>\n",
              "      <td>0</td>\n",
              "      <td>0</td>\n",
              "      <td>0</td>\n",
              "      <td>0</td>\n",
              "      <td>0</td>\n",
              "      <td>3</td>\n",
              "      <td>11</td>\n",
              "      <td>1</td>\n",
              "    </tr>\n",
              "    <tr>\n",
              "      <th>1</th>\n",
              "      <td>2174</td>\n",
              "      <td>1954</td>\n",
              "      <td>Graduation</td>\n",
              "      <td>Single</td>\n",
              "      <td>46344.0</td>\n",
              "      <td>1</td>\n",
              "      <td>1</td>\n",
              "      <td>08-03-2014</td>\n",
              "      <td>38</td>\n",
              "      <td>11</td>\n",
              "      <td>1</td>\n",
              "      <td>6</td>\n",
              "      <td>2</td>\n",
              "      <td>1</td>\n",
              "      <td>6</td>\n",
              "      <td>2</td>\n",
              "      <td>1</td>\n",
              "      <td>1</td>\n",
              "      <td>2</td>\n",
              "      <td>5</td>\n",
              "      <td>0</td>\n",
              "      <td>0</td>\n",
              "      <td>0</td>\n",
              "      <td>0</td>\n",
              "      <td>0</td>\n",
              "      <td>0</td>\n",
              "      <td>3</td>\n",
              "      <td>11</td>\n",
              "      <td>0</td>\n",
              "    </tr>\n",
              "    <tr>\n",
              "      <th>2</th>\n",
              "      <td>4141</td>\n",
              "      <td>1965</td>\n",
              "      <td>Graduation</td>\n",
              "      <td>Together</td>\n",
              "      <td>71613.0</td>\n",
              "      <td>0</td>\n",
              "      <td>0</td>\n",
              "      <td>21-08-2013</td>\n",
              "      <td>26</td>\n",
              "      <td>426</td>\n",
              "      <td>49</td>\n",
              "      <td>127</td>\n",
              "      <td>111</td>\n",
              "      <td>21</td>\n",
              "      <td>42</td>\n",
              "      <td>1</td>\n",
              "      <td>8</td>\n",
              "      <td>2</td>\n",
              "      <td>10</td>\n",
              "      <td>4</td>\n",
              "      <td>0</td>\n",
              "      <td>0</td>\n",
              "      <td>0</td>\n",
              "      <td>0</td>\n",
              "      <td>0</td>\n",
              "      <td>0</td>\n",
              "      <td>3</td>\n",
              "      <td>11</td>\n",
              "      <td>0</td>\n",
              "    </tr>\n",
              "    <tr>\n",
              "      <th>3</th>\n",
              "      <td>6182</td>\n",
              "      <td>1984</td>\n",
              "      <td>Graduation</td>\n",
              "      <td>Together</td>\n",
              "      <td>26646.0</td>\n",
              "      <td>1</td>\n",
              "      <td>0</td>\n",
              "      <td>10-02-2014</td>\n",
              "      <td>26</td>\n",
              "      <td>11</td>\n",
              "      <td>4</td>\n",
              "      <td>20</td>\n",
              "      <td>10</td>\n",
              "      <td>3</td>\n",
              "      <td>5</td>\n",
              "      <td>2</td>\n",
              "      <td>2</td>\n",
              "      <td>0</td>\n",
              "      <td>4</td>\n",
              "      <td>6</td>\n",
              "      <td>0</td>\n",
              "      <td>0</td>\n",
              "      <td>0</td>\n",
              "      <td>0</td>\n",
              "      <td>0</td>\n",
              "      <td>0</td>\n",
              "      <td>3</td>\n",
              "      <td>11</td>\n",
              "      <td>0</td>\n",
              "    </tr>\n",
              "    <tr>\n",
              "      <th>4</th>\n",
              "      <td>5324</td>\n",
              "      <td>1981</td>\n",
              "      <td>PhD</td>\n",
              "      <td>Married</td>\n",
              "      <td>58293.0</td>\n",
              "      <td>1</td>\n",
              "      <td>0</td>\n",
              "      <td>19-01-2014</td>\n",
              "      <td>94</td>\n",
              "      <td>173</td>\n",
              "      <td>43</td>\n",
              "      <td>118</td>\n",
              "      <td>46</td>\n",
              "      <td>27</td>\n",
              "      <td>15</td>\n",
              "      <td>5</td>\n",
              "      <td>5</td>\n",
              "      <td>3</td>\n",
              "      <td>6</td>\n",
              "      <td>5</td>\n",
              "      <td>0</td>\n",
              "      <td>0</td>\n",
              "      <td>0</td>\n",
              "      <td>0</td>\n",
              "      <td>0</td>\n",
              "      <td>0</td>\n",
              "      <td>3</td>\n",
              "      <td>11</td>\n",
              "      <td>0</td>\n",
              "    </tr>\n",
              "  </tbody>\n",
              "</table>\n",
              "</div>\n",
              "      <button class=\"colab-df-convert\" onclick=\"convertToInteractive('df-c055a278-00ab-4e23-a0e0-af77e3ab032a')\"\n",
              "              title=\"Convert this dataframe to an interactive table.\"\n",
              "              style=\"display:none;\">\n",
              "        \n",
              "  <svg xmlns=\"http://www.w3.org/2000/svg\" height=\"24px\"viewBox=\"0 0 24 24\"\n",
              "       width=\"24px\">\n",
              "    <path d=\"M0 0h24v24H0V0z\" fill=\"none\"/>\n",
              "    <path d=\"M18.56 5.44l.94 2.06.94-2.06 2.06-.94-2.06-.94-.94-2.06-.94 2.06-2.06.94zm-11 1L8.5 8.5l.94-2.06 2.06-.94-2.06-.94L8.5 2.5l-.94 2.06-2.06.94zm10 10l.94 2.06.94-2.06 2.06-.94-2.06-.94-.94-2.06-.94 2.06-2.06.94z\"/><path d=\"M17.41 7.96l-1.37-1.37c-.4-.4-.92-.59-1.43-.59-.52 0-1.04.2-1.43.59L10.3 9.45l-7.72 7.72c-.78.78-.78 2.05 0 2.83L4 21.41c.39.39.9.59 1.41.59.51 0 1.02-.2 1.41-.59l7.78-7.78 2.81-2.81c.8-.78.8-2.07 0-2.86zM5.41 20L4 18.59l7.72-7.72 1.47 1.35L5.41 20z\"/>\n",
              "  </svg>\n",
              "      </button>\n",
              "      \n",
              "  <style>\n",
              "    .colab-df-container {\n",
              "      display:flex;\n",
              "      flex-wrap:wrap;\n",
              "      gap: 12px;\n",
              "    }\n",
              "\n",
              "    .colab-df-convert {\n",
              "      background-color: #E8F0FE;\n",
              "      border: none;\n",
              "      border-radius: 50%;\n",
              "      cursor: pointer;\n",
              "      display: none;\n",
              "      fill: #1967D2;\n",
              "      height: 32px;\n",
              "      padding: 0 0 0 0;\n",
              "      width: 32px;\n",
              "    }\n",
              "\n",
              "    .colab-df-convert:hover {\n",
              "      background-color: #E2EBFA;\n",
              "      box-shadow: 0px 1px 2px rgba(60, 64, 67, 0.3), 0px 1px 3px 1px rgba(60, 64, 67, 0.15);\n",
              "      fill: #174EA6;\n",
              "    }\n",
              "\n",
              "    [theme=dark] .colab-df-convert {\n",
              "      background-color: #3B4455;\n",
              "      fill: #D2E3FC;\n",
              "    }\n",
              "\n",
              "    [theme=dark] .colab-df-convert:hover {\n",
              "      background-color: #434B5C;\n",
              "      box-shadow: 0px 1px 3px 1px rgba(0, 0, 0, 0.15);\n",
              "      filter: drop-shadow(0px 1px 2px rgba(0, 0, 0, 0.3));\n",
              "      fill: #FFFFFF;\n",
              "    }\n",
              "  </style>\n",
              "\n",
              "      <script>\n",
              "        const buttonEl =\n",
              "          document.querySelector('#df-c055a278-00ab-4e23-a0e0-af77e3ab032a button.colab-df-convert');\n",
              "        buttonEl.style.display =\n",
              "          google.colab.kernel.accessAllowed ? 'block' : 'none';\n",
              "\n",
              "        async function convertToInteractive(key) {\n",
              "          const element = document.querySelector('#df-c055a278-00ab-4e23-a0e0-af77e3ab032a');\n",
              "          const dataTable =\n",
              "            await google.colab.kernel.invokeFunction('convertToInteractive',\n",
              "                                                     [key], {});\n",
              "          if (!dataTable) return;\n",
              "\n",
              "          const docLinkHtml = 'Like what you see? Visit the ' +\n",
              "            '<a target=\"_blank\" href=https://colab.research.google.com/notebooks/data_table.ipynb>data table notebook</a>'\n",
              "            + ' to learn more about interactive tables.';\n",
              "          element.innerHTML = '';\n",
              "          dataTable['output_type'] = 'display_data';\n",
              "          await google.colab.output.renderOutput(dataTable, element);\n",
              "          const docLink = document.createElement('div');\n",
              "          docLink.innerHTML = docLinkHtml;\n",
              "          element.appendChild(docLink);\n",
              "        }\n",
              "      </script>\n",
              "    </div>\n",
              "  </div>\n",
              "  "
            ]
          },
          "metadata": {},
          "execution_count": 14
        }
      ]
    },
    {
      "cell_type": "code",
      "source": [
        "#MOSTRAR AS CINCO ÚLTIMAS LINHAS DO ARQUIVO\n",
        "df.tail(5)"
      ],
      "metadata": {
        "colab": {
          "base_uri": "https://localhost:8080/",
          "height": 270
        },
        "id": "HW35hYG28PWe",
        "outputId": "36f09c36-e672-4907-82b5-cae8343dbf85"
      },
      "execution_count": null,
      "outputs": [
        {
          "output_type": "execute_result",
          "data": {
            "text/plain": [
              "         ID  Year_Birth   Education Marital_Status   Income  Kidhome  \\\n",
              "2235  10870        1967  Graduation        Married  61223.0        0   \n",
              "2236   4001        1946         PhD       Together  64014.0        2   \n",
              "2237   7270        1981  Graduation       Divorced  56981.0        0   \n",
              "2238   8235        1956      Master       Together  69245.0        0   \n",
              "2239   9405        1954         PhD        Married  52869.0        1   \n",
              "\n",
              "      Teenhome Dt_Customer  Recency  MntWines  MntFruits  MntMeatProducts  \\\n",
              "2235         1  13-06-2013       46       709         43              182   \n",
              "2236         1  10-06-2014       56       406          0               30   \n",
              "2237         0  25-01-2014       91       908         48              217   \n",
              "2238         1  24-01-2014        8       428         30              214   \n",
              "2239         1  15-10-2012       40        84          3               61   \n",
              "\n",
              "      MntFishProducts  MntSweetProducts  MntGoldProds  NumDealsPurchases  \\\n",
              "2235               42               118           247                  2   \n",
              "2236                0                 0             8                  7   \n",
              "2237               32                12            24                  1   \n",
              "2238               80                30            61                  2   \n",
              "2239                2                 1            21                  3   \n",
              "\n",
              "      NumWebPurchases  NumCatalogPurchases  NumStorePurchases  \\\n",
              "2235                9                    3                  4   \n",
              "2236                8                    2                  5   \n",
              "2237                2                    3                 13   \n",
              "2238                6                    5                 10   \n",
              "2239                3                    1                  4   \n",
              "\n",
              "      NumWebVisitsMonth  AcceptedCmp3  AcceptedCmp4  AcceptedCmp5  \\\n",
              "2235                  5             0             0             0   \n",
              "2236                  7             0             0             0   \n",
              "2237                  6             0             1             0   \n",
              "2238                  3             0             0             0   \n",
              "2239                  7             0             0             0   \n",
              "\n",
              "      AcceptedCmp1  AcceptedCmp2  Complain  Z_CostContact  Z_Revenue  Response  \n",
              "2235             0             0         0              3         11         0  \n",
              "2236             1             0         0              3         11         0  \n",
              "2237             0             0         0              3         11         0  \n",
              "2238             0             0         0              3         11         0  \n",
              "2239             0             0         0              3         11         1  "
            ],
            "text/html": [
              "\n",
              "  <div id=\"df-be2d2d99-baf2-4778-82fd-4f8b2b53a609\">\n",
              "    <div class=\"colab-df-container\">\n",
              "      <div>\n",
              "<style scoped>\n",
              "    .dataframe tbody tr th:only-of-type {\n",
              "        vertical-align: middle;\n",
              "    }\n",
              "\n",
              "    .dataframe tbody tr th {\n",
              "        vertical-align: top;\n",
              "    }\n",
              "\n",
              "    .dataframe thead th {\n",
              "        text-align: right;\n",
              "    }\n",
              "</style>\n",
              "<table border=\"1\" class=\"dataframe\">\n",
              "  <thead>\n",
              "    <tr style=\"text-align: right;\">\n",
              "      <th></th>\n",
              "      <th>ID</th>\n",
              "      <th>Year_Birth</th>\n",
              "      <th>Education</th>\n",
              "      <th>Marital_Status</th>\n",
              "      <th>Income</th>\n",
              "      <th>Kidhome</th>\n",
              "      <th>Teenhome</th>\n",
              "      <th>Dt_Customer</th>\n",
              "      <th>Recency</th>\n",
              "      <th>MntWines</th>\n",
              "      <th>MntFruits</th>\n",
              "      <th>MntMeatProducts</th>\n",
              "      <th>MntFishProducts</th>\n",
              "      <th>MntSweetProducts</th>\n",
              "      <th>MntGoldProds</th>\n",
              "      <th>NumDealsPurchases</th>\n",
              "      <th>NumWebPurchases</th>\n",
              "      <th>NumCatalogPurchases</th>\n",
              "      <th>NumStorePurchases</th>\n",
              "      <th>NumWebVisitsMonth</th>\n",
              "      <th>AcceptedCmp3</th>\n",
              "      <th>AcceptedCmp4</th>\n",
              "      <th>AcceptedCmp5</th>\n",
              "      <th>AcceptedCmp1</th>\n",
              "      <th>AcceptedCmp2</th>\n",
              "      <th>Complain</th>\n",
              "      <th>Z_CostContact</th>\n",
              "      <th>Z_Revenue</th>\n",
              "      <th>Response</th>\n",
              "    </tr>\n",
              "  </thead>\n",
              "  <tbody>\n",
              "    <tr>\n",
              "      <th>2235</th>\n",
              "      <td>10870</td>\n",
              "      <td>1967</td>\n",
              "      <td>Graduation</td>\n",
              "      <td>Married</td>\n",
              "      <td>61223.0</td>\n",
              "      <td>0</td>\n",
              "      <td>1</td>\n",
              "      <td>13-06-2013</td>\n",
              "      <td>46</td>\n",
              "      <td>709</td>\n",
              "      <td>43</td>\n",
              "      <td>182</td>\n",
              "      <td>42</td>\n",
              "      <td>118</td>\n",
              "      <td>247</td>\n",
              "      <td>2</td>\n",
              "      <td>9</td>\n",
              "      <td>3</td>\n",
              "      <td>4</td>\n",
              "      <td>5</td>\n",
              "      <td>0</td>\n",
              "      <td>0</td>\n",
              "      <td>0</td>\n",
              "      <td>0</td>\n",
              "      <td>0</td>\n",
              "      <td>0</td>\n",
              "      <td>3</td>\n",
              "      <td>11</td>\n",
              "      <td>0</td>\n",
              "    </tr>\n",
              "    <tr>\n",
              "      <th>2236</th>\n",
              "      <td>4001</td>\n",
              "      <td>1946</td>\n",
              "      <td>PhD</td>\n",
              "      <td>Together</td>\n",
              "      <td>64014.0</td>\n",
              "      <td>2</td>\n",
              "      <td>1</td>\n",
              "      <td>10-06-2014</td>\n",
              "      <td>56</td>\n",
              "      <td>406</td>\n",
              "      <td>0</td>\n",
              "      <td>30</td>\n",
              "      <td>0</td>\n",
              "      <td>0</td>\n",
              "      <td>8</td>\n",
              "      <td>7</td>\n",
              "      <td>8</td>\n",
              "      <td>2</td>\n",
              "      <td>5</td>\n",
              "      <td>7</td>\n",
              "      <td>0</td>\n",
              "      <td>0</td>\n",
              "      <td>0</td>\n",
              "      <td>1</td>\n",
              "      <td>0</td>\n",
              "      <td>0</td>\n",
              "      <td>3</td>\n",
              "      <td>11</td>\n",
              "      <td>0</td>\n",
              "    </tr>\n",
              "    <tr>\n",
              "      <th>2237</th>\n",
              "      <td>7270</td>\n",
              "      <td>1981</td>\n",
              "      <td>Graduation</td>\n",
              "      <td>Divorced</td>\n",
              "      <td>56981.0</td>\n",
              "      <td>0</td>\n",
              "      <td>0</td>\n",
              "      <td>25-01-2014</td>\n",
              "      <td>91</td>\n",
              "      <td>908</td>\n",
              "      <td>48</td>\n",
              "      <td>217</td>\n",
              "      <td>32</td>\n",
              "      <td>12</td>\n",
              "      <td>24</td>\n",
              "      <td>1</td>\n",
              "      <td>2</td>\n",
              "      <td>3</td>\n",
              "      <td>13</td>\n",
              "      <td>6</td>\n",
              "      <td>0</td>\n",
              "      <td>1</td>\n",
              "      <td>0</td>\n",
              "      <td>0</td>\n",
              "      <td>0</td>\n",
              "      <td>0</td>\n",
              "      <td>3</td>\n",
              "      <td>11</td>\n",
              "      <td>0</td>\n",
              "    </tr>\n",
              "    <tr>\n",
              "      <th>2238</th>\n",
              "      <td>8235</td>\n",
              "      <td>1956</td>\n",
              "      <td>Master</td>\n",
              "      <td>Together</td>\n",
              "      <td>69245.0</td>\n",
              "      <td>0</td>\n",
              "      <td>1</td>\n",
              "      <td>24-01-2014</td>\n",
              "      <td>8</td>\n",
              "      <td>428</td>\n",
              "      <td>30</td>\n",
              "      <td>214</td>\n",
              "      <td>80</td>\n",
              "      <td>30</td>\n",
              "      <td>61</td>\n",
              "      <td>2</td>\n",
              "      <td>6</td>\n",
              "      <td>5</td>\n",
              "      <td>10</td>\n",
              "      <td>3</td>\n",
              "      <td>0</td>\n",
              "      <td>0</td>\n",
              "      <td>0</td>\n",
              "      <td>0</td>\n",
              "      <td>0</td>\n",
              "      <td>0</td>\n",
              "      <td>3</td>\n",
              "      <td>11</td>\n",
              "      <td>0</td>\n",
              "    </tr>\n",
              "    <tr>\n",
              "      <th>2239</th>\n",
              "      <td>9405</td>\n",
              "      <td>1954</td>\n",
              "      <td>PhD</td>\n",
              "      <td>Married</td>\n",
              "      <td>52869.0</td>\n",
              "      <td>1</td>\n",
              "      <td>1</td>\n",
              "      <td>15-10-2012</td>\n",
              "      <td>40</td>\n",
              "      <td>84</td>\n",
              "      <td>3</td>\n",
              "      <td>61</td>\n",
              "      <td>2</td>\n",
              "      <td>1</td>\n",
              "      <td>21</td>\n",
              "      <td>3</td>\n",
              "      <td>3</td>\n",
              "      <td>1</td>\n",
              "      <td>4</td>\n",
              "      <td>7</td>\n",
              "      <td>0</td>\n",
              "      <td>0</td>\n",
              "      <td>0</td>\n",
              "      <td>0</td>\n",
              "      <td>0</td>\n",
              "      <td>0</td>\n",
              "      <td>3</td>\n",
              "      <td>11</td>\n",
              "      <td>1</td>\n",
              "    </tr>\n",
              "  </tbody>\n",
              "</table>\n",
              "</div>\n",
              "      <button class=\"colab-df-convert\" onclick=\"convertToInteractive('df-be2d2d99-baf2-4778-82fd-4f8b2b53a609')\"\n",
              "              title=\"Convert this dataframe to an interactive table.\"\n",
              "              style=\"display:none;\">\n",
              "        \n",
              "  <svg xmlns=\"http://www.w3.org/2000/svg\" height=\"24px\"viewBox=\"0 0 24 24\"\n",
              "       width=\"24px\">\n",
              "    <path d=\"M0 0h24v24H0V0z\" fill=\"none\"/>\n",
              "    <path d=\"M18.56 5.44l.94 2.06.94-2.06 2.06-.94-2.06-.94-.94-2.06-.94 2.06-2.06.94zm-11 1L8.5 8.5l.94-2.06 2.06-.94-2.06-.94L8.5 2.5l-.94 2.06-2.06.94zm10 10l.94 2.06.94-2.06 2.06-.94-2.06-.94-.94-2.06-.94 2.06-2.06.94z\"/><path d=\"M17.41 7.96l-1.37-1.37c-.4-.4-.92-.59-1.43-.59-.52 0-1.04.2-1.43.59L10.3 9.45l-7.72 7.72c-.78.78-.78 2.05 0 2.83L4 21.41c.39.39.9.59 1.41.59.51 0 1.02-.2 1.41-.59l7.78-7.78 2.81-2.81c.8-.78.8-2.07 0-2.86zM5.41 20L4 18.59l7.72-7.72 1.47 1.35L5.41 20z\"/>\n",
              "  </svg>\n",
              "      </button>\n",
              "      \n",
              "  <style>\n",
              "    .colab-df-container {\n",
              "      display:flex;\n",
              "      flex-wrap:wrap;\n",
              "      gap: 12px;\n",
              "    }\n",
              "\n",
              "    .colab-df-convert {\n",
              "      background-color: #E8F0FE;\n",
              "      border: none;\n",
              "      border-radius: 50%;\n",
              "      cursor: pointer;\n",
              "      display: none;\n",
              "      fill: #1967D2;\n",
              "      height: 32px;\n",
              "      padding: 0 0 0 0;\n",
              "      width: 32px;\n",
              "    }\n",
              "\n",
              "    .colab-df-convert:hover {\n",
              "      background-color: #E2EBFA;\n",
              "      box-shadow: 0px 1px 2px rgba(60, 64, 67, 0.3), 0px 1px 3px 1px rgba(60, 64, 67, 0.15);\n",
              "      fill: #174EA6;\n",
              "    }\n",
              "\n",
              "    [theme=dark] .colab-df-convert {\n",
              "      background-color: #3B4455;\n",
              "      fill: #D2E3FC;\n",
              "    }\n",
              "\n",
              "    [theme=dark] .colab-df-convert:hover {\n",
              "      background-color: #434B5C;\n",
              "      box-shadow: 0px 1px 3px 1px rgba(0, 0, 0, 0.15);\n",
              "      filter: drop-shadow(0px 1px 2px rgba(0, 0, 0, 0.3));\n",
              "      fill: #FFFFFF;\n",
              "    }\n",
              "  </style>\n",
              "\n",
              "      <script>\n",
              "        const buttonEl =\n",
              "          document.querySelector('#df-be2d2d99-baf2-4778-82fd-4f8b2b53a609 button.colab-df-convert');\n",
              "        buttonEl.style.display =\n",
              "          google.colab.kernel.accessAllowed ? 'block' : 'none';\n",
              "\n",
              "        async function convertToInteractive(key) {\n",
              "          const element = document.querySelector('#df-be2d2d99-baf2-4778-82fd-4f8b2b53a609');\n",
              "          const dataTable =\n",
              "            await google.colab.kernel.invokeFunction('convertToInteractive',\n",
              "                                                     [key], {});\n",
              "          if (!dataTable) return;\n",
              "\n",
              "          const docLinkHtml = 'Like what you see? Visit the ' +\n",
              "            '<a target=\"_blank\" href=https://colab.research.google.com/notebooks/data_table.ipynb>data table notebook</a>'\n",
              "            + ' to learn more about interactive tables.';\n",
              "          element.innerHTML = '';\n",
              "          dataTable['output_type'] = 'display_data';\n",
              "          await google.colab.output.renderOutput(dataTable, element);\n",
              "          const docLink = document.createElement('div');\n",
              "          docLink.innerHTML = docLinkHtml;\n",
              "          element.appendChild(docLink);\n",
              "        }\n",
              "      </script>\n",
              "    </div>\n",
              "  </div>\n",
              "  "
            ]
          },
          "metadata": {},
          "execution_count": 15
        }
      ]
    },
    {
      "cell_type": "code",
      "source": [
        "#MOSTRAR INFORMAÇÕES SOBRE O DF\n",
        "df.info()"
      ],
      "metadata": {
        "colab": {
          "base_uri": "https://localhost:8080/"
        },
        "id": "l9lpLgtIv8E9",
        "outputId": "89ea9e4c-febc-4e0f-a72c-071442820a07"
      },
      "execution_count": null,
      "outputs": [
        {
          "output_type": "stream",
          "name": "stdout",
          "text": [
            "<class 'pandas.core.frame.DataFrame'>\n",
            "RangeIndex: 2240 entries, 0 to 2239\n",
            "Data columns (total 29 columns):\n",
            " #   Column               Non-Null Count  Dtype  \n",
            "---  ------               --------------  -----  \n",
            " 0   ID                   2240 non-null   int64  \n",
            " 1   Year_Birth           2240 non-null   int64  \n",
            " 2   Education            2240 non-null   object \n",
            " 3   Marital_Status       2240 non-null   object \n",
            " 4   Income               2216 non-null   float64\n",
            " 5   Kidhome              2240 non-null   int64  \n",
            " 6   Teenhome             2240 non-null   int64  \n",
            " 7   Dt_Customer          2240 non-null   object \n",
            " 8   Recency              2240 non-null   int64  \n",
            " 9   MntWines             2240 non-null   int64  \n",
            " 10  MntFruits            2240 non-null   int64  \n",
            " 11  MntMeatProducts      2240 non-null   int64  \n",
            " 12  MntFishProducts      2240 non-null   int64  \n",
            " 13  MntSweetProducts     2240 non-null   int64  \n",
            " 14  MntGoldProds         2240 non-null   int64  \n",
            " 15  NumDealsPurchases    2240 non-null   int64  \n",
            " 16  NumWebPurchases      2240 non-null   int64  \n",
            " 17  NumCatalogPurchases  2240 non-null   int64  \n",
            " 18  NumStorePurchases    2240 non-null   int64  \n",
            " 19  NumWebVisitsMonth    2240 non-null   int64  \n",
            " 20  AcceptedCmp3         2240 non-null   int64  \n",
            " 21  AcceptedCmp4         2240 non-null   int64  \n",
            " 22  AcceptedCmp5         2240 non-null   int64  \n",
            " 23  AcceptedCmp1         2240 non-null   int64  \n",
            " 24  AcceptedCmp2         2240 non-null   int64  \n",
            " 25  Complain             2240 non-null   int64  \n",
            " 26  Z_CostContact        2240 non-null   int64  \n",
            " 27  Z_Revenue            2240 non-null   int64  \n",
            " 28  Response             2240 non-null   int64  \n",
            "dtypes: float64(1), int64(25), object(3)\n",
            "memory usage: 507.6+ KB\n"
          ]
        }
      ]
    },
    {
      "cell_type": "code",
      "source": [
        "#VERIFICANDO VALORES QUE SÃO ÚNICOS DA COLUNA 'Education'\n",
        "df.Education.unique()"
      ],
      "metadata": {
        "colab": {
          "base_uri": "https://localhost:8080/"
        },
        "id": "46ZnfKmcwPrT",
        "outputId": "3b67dd94-ecf1-4c6f-9536-1e9ca619040b"
      },
      "execution_count": null,
      "outputs": [
        {
          "output_type": "execute_result",
          "data": {
            "text/plain": [
              "array(['Graduation', 'PhD', 'Master', 'Basic', '2n Cycle'], dtype=object)"
            ]
          },
          "metadata": {},
          "execution_count": 17
        }
      ]
    },
    {
      "cell_type": "code",
      "source": [
        "#VERIFICANDO VALORES QUE SÃO ÚNICOS DA COLUNA 'Marital_Status'\n",
        "df.Marital_Status.unique()"
      ],
      "metadata": {
        "colab": {
          "base_uri": "https://localhost:8080/"
        },
        "id": "PpgXw_KNwV4b",
        "outputId": "bb8bfa9f-4928-41a2-a8bc-a5640768c9a9"
      },
      "execution_count": null,
      "outputs": [
        {
          "output_type": "execute_result",
          "data": {
            "text/plain": [
              "array(['Single', 'Together', 'Married', 'Divorced', 'Widow', 'Alone',\n",
              "       'Absurd', 'YOLO'], dtype=object)"
            ]
          },
          "metadata": {},
          "execution_count": 18
        }
      ]
    },
    {
      "cell_type": "markdown",
      "source": [
        "<font color=cian>**OBSERVAÇÕES:**\n",
        "- Traduzir os nomes das colunas para o pt-br;\n",
        "- Mudar a coluna 'DT_Customer' de object para date;\n",
        "- Traduzir os valores da coluna 'Education' para o pt-br;\n",
        "- Traduzir os valores da coluna 'Marital_Status' para o pt-br;\n",
        "\n"
      ],
      "metadata": {
        "id": "35QuoaW98-9Y"
      }
    },
    {
      "cell_type": "code",
      "source": [
        "#REALIZANDO UM BACKUP DO DF PARA DF1\n",
        "df1 = df.copy()"
      ],
      "metadata": {
        "id": "1fjFT_Pxz75X"
      },
      "execution_count": null,
      "outputs": []
    },
    {
      "cell_type": "code",
      "source": [
        "#VISUALIZAR COLUNAS\n",
        "df1.columns"
      ],
      "metadata": {
        "colab": {
          "base_uri": "https://localhost:8080/"
        },
        "id": "RoKM8gp71-w9",
        "outputId": "589562d8-ea75-40bb-9c60-a1f240ba4895"
      },
      "execution_count": null,
      "outputs": [
        {
          "output_type": "execute_result",
          "data": {
            "text/plain": [
              "Index(['ID', 'Year_Birth', 'Education', 'Marital_Status', 'Income', 'Kidhome',\n",
              "       'Teenhome', 'Dt_Customer', 'Recency', 'MntWines', 'MntFruits',\n",
              "       'MntMeatProducts', 'MntFishProducts', 'MntSweetProducts',\n",
              "       'MntGoldProds', 'NumDealsPurchases', 'NumWebPurchases',\n",
              "       'NumCatalogPurchases', 'NumStorePurchases', 'NumWebVisitsMonth',\n",
              "       'AcceptedCmp3', 'AcceptedCmp4', 'AcceptedCmp5', 'AcceptedCmp1',\n",
              "       'AcceptedCmp2', 'Complain', 'Z_CostContact', 'Z_Revenue', 'Response'],\n",
              "      dtype='object')"
            ]
          },
          "metadata": {},
          "execution_count": 20
        }
      ]
    },
    {
      "cell_type": "code",
      "source": [
        "#TRADUZINDO NOME DAS COLUNAS\n",
        "df1.rename(columns={'Year_Birth':'AnoDeNascimento',\n",
        "                    'Education':'Escolaridade',\n",
        "                    'Marital_Status':'EstadoCivil',\n",
        "                    'Income':'Renda',\n",
        "                    'Kidhome':'CriançasEmCasa',\n",
        "                    'Teenhome':'AdolescentesEmCasa',\n",
        "                    'Dt_Customer':'DataDoCadastroDoCliente',\n",
        "                    'Recency':'DiasDaUltimaCompra',\n",
        "                    'MntWines':'TktMedioVinho',\n",
        "                    'MntFruits':'TktMedioFrutas',\n",
        "                    'MntMeatProducts':'TktMedioCarne',\n",
        "                    'MntFishProducts':'TktMedioPeixe',\n",
        "                    'MntSweetProducts':'TktMedioDoces',\n",
        "                    'MntGoldProds':'TktMedioOuro',\n",
        "                    'NumDealsPurchases':'ComprasEmOferta',\n",
        "                    'NumWebPurchases':'ComprasPelaInternet',\n",
        "                    'NumCatalogPurchases':'ComprasPeloCatalogo',\n",
        "                    'NumStorePurchases':'ComprasNaLoja',\n",
        "                    'NumWebVisitsMonth':'VisitaPelaInternetNoMes',\n",
        "                    'AcceptedCmp3':'AceitouCampanha3',\n",
        "                    'AcceptedCmp4':'AceitouCampanha4',\n",
        "                    'AcceptedCmp5':'AceitouCampanha5',\n",
        "                    'AcceptedCmp1':'AceitouCampanha1',\n",
        "                    'AcceptedCmp2':'AceitouCampanha2',\n",
        "                    'Complain':'Reclamações',\n",
        "                    'Z_CostContact':'Z_CustoContato',\n",
        "                    'Z_Revenue':'Z_Receita',\n",
        "                    'Response':'AceitouUltimaCampanha'\n",
        "                    }, inplace=True)"
      ],
      "metadata": {
        "id": "IytcGN2Nz_5X"
      },
      "execution_count": null,
      "outputs": []
    },
    {
      "cell_type": "code",
      "source": [
        "#VERIFICANDO A MUDANÇA\n",
        "df1.columns"
      ],
      "metadata": {
        "colab": {
          "base_uri": "https://localhost:8080/"
        },
        "id": "W75sdjoe_R_U",
        "outputId": "fc75239b-cb36-4fbc-c9b5-4b03477a29ac"
      },
      "execution_count": null,
      "outputs": [
        {
          "output_type": "execute_result",
          "data": {
            "text/plain": [
              "Index(['ID', 'AnoDeNascimento', 'Escolaridade', 'EstadoCivil', 'Renda',\n",
              "       'CriançasEmCasa', 'AdolescentesEmCasa', 'DataDoCadastroDoCliente',\n",
              "       'DiasDaUltimaCompra', 'TktMedioVinho', 'TktMedioFrutas',\n",
              "       'TktMedioCarne', 'TktMedioPeixe', 'TktMedioDoces', 'TktMedioOuro',\n",
              "       'ComprasEmOferta', 'ComprasPelaInternet', 'ComprasPeloCatalogo',\n",
              "       'ComprasNaLoja', 'VisitaPelaInternetNoMes', 'AceitouCampanha3',\n",
              "       'AceitouCampanha4', 'AceitouCampanha5', 'AceitouCampanha1',\n",
              "       'AceitouCampanha2', 'Reclamações', 'Z_CustoContato', 'Z_Receita',\n",
              "       'AceitouUltimaCampanha'],\n",
              "      dtype='object')"
            ]
          },
          "metadata": {},
          "execution_count": 22
        }
      ]
    },
    {
      "cell_type": "code",
      "source": [
        "#CONVERTENDO 'DataDoCadastroDoCliente' DE 'object' PARA 'datetime'\n",
        "df1['DataDoCadastroDoCliente'] = pd.to_datetime(df1['DataDoCadastroDoCliente'])"
      ],
      "metadata": {
        "id": "WzTooQkpARF8"
      },
      "execution_count": null,
      "outputs": []
    },
    {
      "cell_type": "code",
      "source": [
        "#VERIFICANDO AS MUDANÇAS de 'DataDoCadastroDoCliente'\n",
        "df1.dtypes"
      ],
      "metadata": {
        "colab": {
          "base_uri": "https://localhost:8080/"
        },
        "id": "UDAKQHfaBTMO",
        "outputId": "ebfb49d0-9df2-46ad-c199-889db956491f"
      },
      "execution_count": null,
      "outputs": [
        {
          "output_type": "execute_result",
          "data": {
            "text/plain": [
              "ID                                  int64\n",
              "AnoDeNascimento                     int64\n",
              "Escolaridade                       object\n",
              "EstadoCivil                        object\n",
              "Renda                             float64\n",
              "CriançasEmCasa                      int64\n",
              "AdolescentesEmCasa                  int64\n",
              "DataDoCadastroDoCliente    datetime64[ns]\n",
              "DiasDaUltimaCompra                  int64\n",
              "TktMedioVinho                       int64\n",
              "TktMedioFrutas                      int64\n",
              "TktMedioCarne                       int64\n",
              "TktMedioPeixe                       int64\n",
              "TktMedioDoces                       int64\n",
              "TktMedioOuro                        int64\n",
              "ComprasEmOferta                     int64\n",
              "ComprasPelaInternet                 int64\n",
              "ComprasPeloCatalogo                 int64\n",
              "ComprasNaLoja                       int64\n",
              "VisitaPelaInternetNoMes             int64\n",
              "AceitouCampanha3                    int64\n",
              "AceitouCampanha4                    int64\n",
              "AceitouCampanha5                    int64\n",
              "AceitouCampanha1                    int64\n",
              "AceitouCampanha2                    int64\n",
              "Reclamações                         int64\n",
              "Z_CustoContato                      int64\n",
              "Z_Receita                           int64\n",
              "AceitouUltimaCampanha               int64\n",
              "dtype: object"
            ]
          },
          "metadata": {},
          "execution_count": 24
        }
      ]
    },
    {
      "cell_type": "code",
      "source": [
        "df1.head(3)"
      ],
      "metadata": {
        "colab": {
          "base_uri": "https://localhost:8080/",
          "height": 207
        },
        "id": "CA8ginadBWeG",
        "outputId": "46b0acba-3075-4d2c-84cc-8220514424ef"
      },
      "execution_count": null,
      "outputs": [
        {
          "output_type": "execute_result",
          "data": {
            "text/plain": [
              "     ID  AnoDeNascimento Escolaridade EstadoCivil    Renda  CriançasEmCasa  \\\n",
              "0  5524             1957   Graduation      Single  58138.0               0   \n",
              "1  2174             1954   Graduation      Single  46344.0               1   \n",
              "2  4141             1965   Graduation    Together  71613.0               0   \n",
              "\n",
              "   AdolescentesEmCasa DataDoCadastroDoCliente  DiasDaUltimaCompra  \\\n",
              "0                   0              2012-04-09                  58   \n",
              "1                   1              2014-08-03                  38   \n",
              "2                   0              2013-08-21                  26   \n",
              "\n",
              "   TktMedioVinho  TktMedioFrutas  TktMedioCarne  TktMedioPeixe  TktMedioDoces  \\\n",
              "0            635              88            546            172             88   \n",
              "1             11               1              6              2              1   \n",
              "2            426              49            127            111             21   \n",
              "\n",
              "   TktMedioOuro  ComprasEmOferta  ComprasPelaInternet  ComprasPeloCatalogo  \\\n",
              "0            88                3                    8                   10   \n",
              "1             6                2                    1                    1   \n",
              "2            42                1                    8                    2   \n",
              "\n",
              "   ComprasNaLoja  VisitaPelaInternetNoMes  AceitouCampanha3  AceitouCampanha4  \\\n",
              "0              4                        7                 0                 0   \n",
              "1              2                        5                 0                 0   \n",
              "2             10                        4                 0                 0   \n",
              "\n",
              "   AceitouCampanha5  AceitouCampanha1  AceitouCampanha2  Reclamações  \\\n",
              "0                 0                 0                 0            0   \n",
              "1                 0                 0                 0            0   \n",
              "2                 0                 0                 0            0   \n",
              "\n",
              "   Z_CustoContato  Z_Receita  AceitouUltimaCampanha  \n",
              "0               3         11                      1  \n",
              "1               3         11                      0  \n",
              "2               3         11                      0  "
            ],
            "text/html": [
              "\n",
              "  <div id=\"df-f0984363-334b-4968-b7ed-6e2683dde1a6\">\n",
              "    <div class=\"colab-df-container\">\n",
              "      <div>\n",
              "<style scoped>\n",
              "    .dataframe tbody tr th:only-of-type {\n",
              "        vertical-align: middle;\n",
              "    }\n",
              "\n",
              "    .dataframe tbody tr th {\n",
              "        vertical-align: top;\n",
              "    }\n",
              "\n",
              "    .dataframe thead th {\n",
              "        text-align: right;\n",
              "    }\n",
              "</style>\n",
              "<table border=\"1\" class=\"dataframe\">\n",
              "  <thead>\n",
              "    <tr style=\"text-align: right;\">\n",
              "      <th></th>\n",
              "      <th>ID</th>\n",
              "      <th>AnoDeNascimento</th>\n",
              "      <th>Escolaridade</th>\n",
              "      <th>EstadoCivil</th>\n",
              "      <th>Renda</th>\n",
              "      <th>CriançasEmCasa</th>\n",
              "      <th>AdolescentesEmCasa</th>\n",
              "      <th>DataDoCadastroDoCliente</th>\n",
              "      <th>DiasDaUltimaCompra</th>\n",
              "      <th>TktMedioVinho</th>\n",
              "      <th>TktMedioFrutas</th>\n",
              "      <th>TktMedioCarne</th>\n",
              "      <th>TktMedioPeixe</th>\n",
              "      <th>TktMedioDoces</th>\n",
              "      <th>TktMedioOuro</th>\n",
              "      <th>ComprasEmOferta</th>\n",
              "      <th>ComprasPelaInternet</th>\n",
              "      <th>ComprasPeloCatalogo</th>\n",
              "      <th>ComprasNaLoja</th>\n",
              "      <th>VisitaPelaInternetNoMes</th>\n",
              "      <th>AceitouCampanha3</th>\n",
              "      <th>AceitouCampanha4</th>\n",
              "      <th>AceitouCampanha5</th>\n",
              "      <th>AceitouCampanha1</th>\n",
              "      <th>AceitouCampanha2</th>\n",
              "      <th>Reclamações</th>\n",
              "      <th>Z_CustoContato</th>\n",
              "      <th>Z_Receita</th>\n",
              "      <th>AceitouUltimaCampanha</th>\n",
              "    </tr>\n",
              "  </thead>\n",
              "  <tbody>\n",
              "    <tr>\n",
              "      <th>0</th>\n",
              "      <td>5524</td>\n",
              "      <td>1957</td>\n",
              "      <td>Graduation</td>\n",
              "      <td>Single</td>\n",
              "      <td>58138.0</td>\n",
              "      <td>0</td>\n",
              "      <td>0</td>\n",
              "      <td>2012-04-09</td>\n",
              "      <td>58</td>\n",
              "      <td>635</td>\n",
              "      <td>88</td>\n",
              "      <td>546</td>\n",
              "      <td>172</td>\n",
              "      <td>88</td>\n",
              "      <td>88</td>\n",
              "      <td>3</td>\n",
              "      <td>8</td>\n",
              "      <td>10</td>\n",
              "      <td>4</td>\n",
              "      <td>7</td>\n",
              "      <td>0</td>\n",
              "      <td>0</td>\n",
              "      <td>0</td>\n",
              "      <td>0</td>\n",
              "      <td>0</td>\n",
              "      <td>0</td>\n",
              "      <td>3</td>\n",
              "      <td>11</td>\n",
              "      <td>1</td>\n",
              "    </tr>\n",
              "    <tr>\n",
              "      <th>1</th>\n",
              "      <td>2174</td>\n",
              "      <td>1954</td>\n",
              "      <td>Graduation</td>\n",
              "      <td>Single</td>\n",
              "      <td>46344.0</td>\n",
              "      <td>1</td>\n",
              "      <td>1</td>\n",
              "      <td>2014-08-03</td>\n",
              "      <td>38</td>\n",
              "      <td>11</td>\n",
              "      <td>1</td>\n",
              "      <td>6</td>\n",
              "      <td>2</td>\n",
              "      <td>1</td>\n",
              "      <td>6</td>\n",
              "      <td>2</td>\n",
              "      <td>1</td>\n",
              "      <td>1</td>\n",
              "      <td>2</td>\n",
              "      <td>5</td>\n",
              "      <td>0</td>\n",
              "      <td>0</td>\n",
              "      <td>0</td>\n",
              "      <td>0</td>\n",
              "      <td>0</td>\n",
              "      <td>0</td>\n",
              "      <td>3</td>\n",
              "      <td>11</td>\n",
              "      <td>0</td>\n",
              "    </tr>\n",
              "    <tr>\n",
              "      <th>2</th>\n",
              "      <td>4141</td>\n",
              "      <td>1965</td>\n",
              "      <td>Graduation</td>\n",
              "      <td>Together</td>\n",
              "      <td>71613.0</td>\n",
              "      <td>0</td>\n",
              "      <td>0</td>\n",
              "      <td>2013-08-21</td>\n",
              "      <td>26</td>\n",
              "      <td>426</td>\n",
              "      <td>49</td>\n",
              "      <td>127</td>\n",
              "      <td>111</td>\n",
              "      <td>21</td>\n",
              "      <td>42</td>\n",
              "      <td>1</td>\n",
              "      <td>8</td>\n",
              "      <td>2</td>\n",
              "      <td>10</td>\n",
              "      <td>4</td>\n",
              "      <td>0</td>\n",
              "      <td>0</td>\n",
              "      <td>0</td>\n",
              "      <td>0</td>\n",
              "      <td>0</td>\n",
              "      <td>0</td>\n",
              "      <td>3</td>\n",
              "      <td>11</td>\n",
              "      <td>0</td>\n",
              "    </tr>\n",
              "  </tbody>\n",
              "</table>\n",
              "</div>\n",
              "      <button class=\"colab-df-convert\" onclick=\"convertToInteractive('df-f0984363-334b-4968-b7ed-6e2683dde1a6')\"\n",
              "              title=\"Convert this dataframe to an interactive table.\"\n",
              "              style=\"display:none;\">\n",
              "        \n",
              "  <svg xmlns=\"http://www.w3.org/2000/svg\" height=\"24px\"viewBox=\"0 0 24 24\"\n",
              "       width=\"24px\">\n",
              "    <path d=\"M0 0h24v24H0V0z\" fill=\"none\"/>\n",
              "    <path d=\"M18.56 5.44l.94 2.06.94-2.06 2.06-.94-2.06-.94-.94-2.06-.94 2.06-2.06.94zm-11 1L8.5 8.5l.94-2.06 2.06-.94-2.06-.94L8.5 2.5l-.94 2.06-2.06.94zm10 10l.94 2.06.94-2.06 2.06-.94-2.06-.94-.94-2.06-.94 2.06-2.06.94z\"/><path d=\"M17.41 7.96l-1.37-1.37c-.4-.4-.92-.59-1.43-.59-.52 0-1.04.2-1.43.59L10.3 9.45l-7.72 7.72c-.78.78-.78 2.05 0 2.83L4 21.41c.39.39.9.59 1.41.59.51 0 1.02-.2 1.41-.59l7.78-7.78 2.81-2.81c.8-.78.8-2.07 0-2.86zM5.41 20L4 18.59l7.72-7.72 1.47 1.35L5.41 20z\"/>\n",
              "  </svg>\n",
              "      </button>\n",
              "      \n",
              "  <style>\n",
              "    .colab-df-container {\n",
              "      display:flex;\n",
              "      flex-wrap:wrap;\n",
              "      gap: 12px;\n",
              "    }\n",
              "\n",
              "    .colab-df-convert {\n",
              "      background-color: #E8F0FE;\n",
              "      border: none;\n",
              "      border-radius: 50%;\n",
              "      cursor: pointer;\n",
              "      display: none;\n",
              "      fill: #1967D2;\n",
              "      height: 32px;\n",
              "      padding: 0 0 0 0;\n",
              "      width: 32px;\n",
              "    }\n",
              "\n",
              "    .colab-df-convert:hover {\n",
              "      background-color: #E2EBFA;\n",
              "      box-shadow: 0px 1px 2px rgba(60, 64, 67, 0.3), 0px 1px 3px 1px rgba(60, 64, 67, 0.15);\n",
              "      fill: #174EA6;\n",
              "    }\n",
              "\n",
              "    [theme=dark] .colab-df-convert {\n",
              "      background-color: #3B4455;\n",
              "      fill: #D2E3FC;\n",
              "    }\n",
              "\n",
              "    [theme=dark] .colab-df-convert:hover {\n",
              "      background-color: #434B5C;\n",
              "      box-shadow: 0px 1px 3px 1px rgba(0, 0, 0, 0.15);\n",
              "      filter: drop-shadow(0px 1px 2px rgba(0, 0, 0, 0.3));\n",
              "      fill: #FFFFFF;\n",
              "    }\n",
              "  </style>\n",
              "\n",
              "      <script>\n",
              "        const buttonEl =\n",
              "          document.querySelector('#df-f0984363-334b-4968-b7ed-6e2683dde1a6 button.colab-df-convert');\n",
              "        buttonEl.style.display =\n",
              "          google.colab.kernel.accessAllowed ? 'block' : 'none';\n",
              "\n",
              "        async function convertToInteractive(key) {\n",
              "          const element = document.querySelector('#df-f0984363-334b-4968-b7ed-6e2683dde1a6');\n",
              "          const dataTable =\n",
              "            await google.colab.kernel.invokeFunction('convertToInteractive',\n",
              "                                                     [key], {});\n",
              "          if (!dataTable) return;\n",
              "\n",
              "          const docLinkHtml = 'Like what you see? Visit the ' +\n",
              "            '<a target=\"_blank\" href=https://colab.research.google.com/notebooks/data_table.ipynb>data table notebook</a>'\n",
              "            + ' to learn more about interactive tables.';\n",
              "          element.innerHTML = '';\n",
              "          dataTable['output_type'] = 'display_data';\n",
              "          await google.colab.output.renderOutput(dataTable, element);\n",
              "          const docLink = document.createElement('div');\n",
              "          docLink.innerHTML = docLinkHtml;\n",
              "          element.appendChild(docLink);\n",
              "        }\n",
              "      </script>\n",
              "    </div>\n",
              "  </div>\n",
              "  "
            ]
          },
          "metadata": {},
          "execution_count": 25
        }
      ]
    },
    {
      "cell_type": "code",
      "source": [
        "#VERIFICANDO VALORES DE 'Escolaridade'\n",
        "df1['Escolaridade'].unique()"
      ],
      "metadata": {
        "colab": {
          "base_uri": "https://localhost:8080/"
        },
        "id": "rn1662pZB4B-",
        "outputId": "3312685f-2aad-4853-8a04-7d973fe3400f"
      },
      "execution_count": null,
      "outputs": [
        {
          "output_type": "execute_result",
          "data": {
            "text/plain": [
              "array(['Graduation', 'PhD', 'Master', 'Basic', '2n Cycle'], dtype=object)"
            ]
          },
          "metadata": {},
          "execution_count": 26
        }
      ]
    },
    {
      "cell_type": "code",
      "source": [
        "#VERIFICANDO VALORES DE 'EstadoCivil'\n",
        "df1['EstadoCivil'].unique()"
      ],
      "metadata": {
        "colab": {
          "base_uri": "https://localhost:8080/"
        },
        "id": "tJqEHgGBCXdJ",
        "outputId": "7c912e3b-f681-4455-8bdd-2d8125a6f014"
      },
      "execution_count": null,
      "outputs": [
        {
          "output_type": "execute_result",
          "data": {
            "text/plain": [
              "array(['Single', 'Together', 'Married', 'Divorced', 'Widow', 'Alone',\n",
              "       'Absurd', 'YOLO'], dtype=object)"
            ]
          },
          "metadata": {},
          "execution_count": 27
        }
      ]
    },
    {
      "cell_type": "code",
      "source": [
        "#TRADUZINDO VALORES DE 'Escolaridade'\n",
        "df1['Escolaridade'].replace({'Graduation':'Ensino Superior',\n",
        "                             'PhD':'Doutorado',\n",
        "                             'Master':'Mestrado',\n",
        "                             'Basic':'Ensino Fundamental',\n",
        "                             '2n Cycle':'Ensino Médio',\n",
        "                             },inplace=True)"
      ],
      "metadata": {
        "id": "aK1aifDhJYVo"
      },
      "execution_count": null,
      "outputs": []
    },
    {
      "cell_type": "code",
      "source": [
        "#TRADUZINDO VALORES DE 'EstadoCivil'\n",
        "df1['EstadoCivil'].replace({'Single':'Solteiro',\n",
        "                            'Together':'União Estável',\n",
        "                            'Married':'Casado',\n",
        "                            'Divorced':'Divorciado',\n",
        "                            'Widow':'Viúvo',\n",
        "                            'Alone':'Solteiro',\n",
        "                            'Absurd':'Não Respondeu',\n",
        "                            'YOLO':'Solteiro'\n",
        "                            },inplace=True)"
      ],
      "metadata": {
        "id": "dY_iYc92KMg5"
      },
      "execution_count": null,
      "outputs": []
    },
    {
      "cell_type": "code",
      "source": [
        "#VERIFICANDO AS MUDANÇAS\n",
        "df1.head(3)"
      ],
      "metadata": {
        "colab": {
          "base_uri": "https://localhost:8080/",
          "height": 260
        },
        "id": "D4rh7mR7MK5N",
        "outputId": "04d6a49f-7394-4859-b6e9-f69f1d508fe1"
      },
      "execution_count": null,
      "outputs": [
        {
          "output_type": "execute_result",
          "data": {
            "text/plain": [
              "     ID  AnoDeNascimento     Escolaridade    EstadoCivil    Renda  \\\n",
              "0  5524             1957  Ensino Superior       Solteiro  58138.0   \n",
              "1  2174             1954  Ensino Superior       Solteiro  46344.0   \n",
              "2  4141             1965  Ensino Superior  União Estável  71613.0   \n",
              "\n",
              "   CriançasEmCasa  AdolescentesEmCasa DataDoCadastroDoCliente  \\\n",
              "0               0                   0              2012-04-09   \n",
              "1               1                   1              2014-08-03   \n",
              "2               0                   0              2013-08-21   \n",
              "\n",
              "   DiasDaUltimaCompra  TktMedioVinho  TktMedioFrutas  TktMedioCarne  \\\n",
              "0                  58            635              88            546   \n",
              "1                  38             11               1              6   \n",
              "2                  26            426              49            127   \n",
              "\n",
              "   TktMedioPeixe  TktMedioDoces  TktMedioOuro  ComprasEmOferta  \\\n",
              "0            172             88            88                3   \n",
              "1              2              1             6                2   \n",
              "2            111             21            42                1   \n",
              "\n",
              "   ComprasPelaInternet  ComprasPeloCatalogo  ComprasNaLoja  \\\n",
              "0                    8                   10              4   \n",
              "1                    1                    1              2   \n",
              "2                    8                    2             10   \n",
              "\n",
              "   VisitaPelaInternetNoMes  AceitouCampanha3  AceitouCampanha4  \\\n",
              "0                        7                 0                 0   \n",
              "1                        5                 0                 0   \n",
              "2                        4                 0                 0   \n",
              "\n",
              "   AceitouCampanha5  AceitouCampanha1  AceitouCampanha2  Reclamações  \\\n",
              "0                 0                 0                 0            0   \n",
              "1                 0                 0                 0            0   \n",
              "2                 0                 0                 0            0   \n",
              "\n",
              "   Z_CustoContato  Z_Receita  AceitouUltimaCampanha  \n",
              "0               3         11                      1  \n",
              "1               3         11                      0  \n",
              "2               3         11                      0  "
            ],
            "text/html": [
              "\n",
              "  <div id=\"df-95407be9-3365-4f52-bbdf-d5d9e07ff10d\">\n",
              "    <div class=\"colab-df-container\">\n",
              "      <div>\n",
              "<style scoped>\n",
              "    .dataframe tbody tr th:only-of-type {\n",
              "        vertical-align: middle;\n",
              "    }\n",
              "\n",
              "    .dataframe tbody tr th {\n",
              "        vertical-align: top;\n",
              "    }\n",
              "\n",
              "    .dataframe thead th {\n",
              "        text-align: right;\n",
              "    }\n",
              "</style>\n",
              "<table border=\"1\" class=\"dataframe\">\n",
              "  <thead>\n",
              "    <tr style=\"text-align: right;\">\n",
              "      <th></th>\n",
              "      <th>ID</th>\n",
              "      <th>AnoDeNascimento</th>\n",
              "      <th>Escolaridade</th>\n",
              "      <th>EstadoCivil</th>\n",
              "      <th>Renda</th>\n",
              "      <th>CriançasEmCasa</th>\n",
              "      <th>AdolescentesEmCasa</th>\n",
              "      <th>DataDoCadastroDoCliente</th>\n",
              "      <th>DiasDaUltimaCompra</th>\n",
              "      <th>TktMedioVinho</th>\n",
              "      <th>TktMedioFrutas</th>\n",
              "      <th>TktMedioCarne</th>\n",
              "      <th>TktMedioPeixe</th>\n",
              "      <th>TktMedioDoces</th>\n",
              "      <th>TktMedioOuro</th>\n",
              "      <th>ComprasEmOferta</th>\n",
              "      <th>ComprasPelaInternet</th>\n",
              "      <th>ComprasPeloCatalogo</th>\n",
              "      <th>ComprasNaLoja</th>\n",
              "      <th>VisitaPelaInternetNoMes</th>\n",
              "      <th>AceitouCampanha3</th>\n",
              "      <th>AceitouCampanha4</th>\n",
              "      <th>AceitouCampanha5</th>\n",
              "      <th>AceitouCampanha1</th>\n",
              "      <th>AceitouCampanha2</th>\n",
              "      <th>Reclamações</th>\n",
              "      <th>Z_CustoContato</th>\n",
              "      <th>Z_Receita</th>\n",
              "      <th>AceitouUltimaCampanha</th>\n",
              "    </tr>\n",
              "  </thead>\n",
              "  <tbody>\n",
              "    <tr>\n",
              "      <th>0</th>\n",
              "      <td>5524</td>\n",
              "      <td>1957</td>\n",
              "      <td>Ensino Superior</td>\n",
              "      <td>Solteiro</td>\n",
              "      <td>58138.0</td>\n",
              "      <td>0</td>\n",
              "      <td>0</td>\n",
              "      <td>2012-04-09</td>\n",
              "      <td>58</td>\n",
              "      <td>635</td>\n",
              "      <td>88</td>\n",
              "      <td>546</td>\n",
              "      <td>172</td>\n",
              "      <td>88</td>\n",
              "      <td>88</td>\n",
              "      <td>3</td>\n",
              "      <td>8</td>\n",
              "      <td>10</td>\n",
              "      <td>4</td>\n",
              "      <td>7</td>\n",
              "      <td>0</td>\n",
              "      <td>0</td>\n",
              "      <td>0</td>\n",
              "      <td>0</td>\n",
              "      <td>0</td>\n",
              "      <td>0</td>\n",
              "      <td>3</td>\n",
              "      <td>11</td>\n",
              "      <td>1</td>\n",
              "    </tr>\n",
              "    <tr>\n",
              "      <th>1</th>\n",
              "      <td>2174</td>\n",
              "      <td>1954</td>\n",
              "      <td>Ensino Superior</td>\n",
              "      <td>Solteiro</td>\n",
              "      <td>46344.0</td>\n",
              "      <td>1</td>\n",
              "      <td>1</td>\n",
              "      <td>2014-08-03</td>\n",
              "      <td>38</td>\n",
              "      <td>11</td>\n",
              "      <td>1</td>\n",
              "      <td>6</td>\n",
              "      <td>2</td>\n",
              "      <td>1</td>\n",
              "      <td>6</td>\n",
              "      <td>2</td>\n",
              "      <td>1</td>\n",
              "      <td>1</td>\n",
              "      <td>2</td>\n",
              "      <td>5</td>\n",
              "      <td>0</td>\n",
              "      <td>0</td>\n",
              "      <td>0</td>\n",
              "      <td>0</td>\n",
              "      <td>0</td>\n",
              "      <td>0</td>\n",
              "      <td>3</td>\n",
              "      <td>11</td>\n",
              "      <td>0</td>\n",
              "    </tr>\n",
              "    <tr>\n",
              "      <th>2</th>\n",
              "      <td>4141</td>\n",
              "      <td>1965</td>\n",
              "      <td>Ensino Superior</td>\n",
              "      <td>União Estável</td>\n",
              "      <td>71613.0</td>\n",
              "      <td>0</td>\n",
              "      <td>0</td>\n",
              "      <td>2013-08-21</td>\n",
              "      <td>26</td>\n",
              "      <td>426</td>\n",
              "      <td>49</td>\n",
              "      <td>127</td>\n",
              "      <td>111</td>\n",
              "      <td>21</td>\n",
              "      <td>42</td>\n",
              "      <td>1</td>\n",
              "      <td>8</td>\n",
              "      <td>2</td>\n",
              "      <td>10</td>\n",
              "      <td>4</td>\n",
              "      <td>0</td>\n",
              "      <td>0</td>\n",
              "      <td>0</td>\n",
              "      <td>0</td>\n",
              "      <td>0</td>\n",
              "      <td>0</td>\n",
              "      <td>3</td>\n",
              "      <td>11</td>\n",
              "      <td>0</td>\n",
              "    </tr>\n",
              "  </tbody>\n",
              "</table>\n",
              "</div>\n",
              "      <button class=\"colab-df-convert\" onclick=\"convertToInteractive('df-95407be9-3365-4f52-bbdf-d5d9e07ff10d')\"\n",
              "              title=\"Convert this dataframe to an interactive table.\"\n",
              "              style=\"display:none;\">\n",
              "        \n",
              "  <svg xmlns=\"http://www.w3.org/2000/svg\" height=\"24px\"viewBox=\"0 0 24 24\"\n",
              "       width=\"24px\">\n",
              "    <path d=\"M0 0h24v24H0V0z\" fill=\"none\"/>\n",
              "    <path d=\"M18.56 5.44l.94 2.06.94-2.06 2.06-.94-2.06-.94-.94-2.06-.94 2.06-2.06.94zm-11 1L8.5 8.5l.94-2.06 2.06-.94-2.06-.94L8.5 2.5l-.94 2.06-2.06.94zm10 10l.94 2.06.94-2.06 2.06-.94-2.06-.94-.94-2.06-.94 2.06-2.06.94z\"/><path d=\"M17.41 7.96l-1.37-1.37c-.4-.4-.92-.59-1.43-.59-.52 0-1.04.2-1.43.59L10.3 9.45l-7.72 7.72c-.78.78-.78 2.05 0 2.83L4 21.41c.39.39.9.59 1.41.59.51 0 1.02-.2 1.41-.59l7.78-7.78 2.81-2.81c.8-.78.8-2.07 0-2.86zM5.41 20L4 18.59l7.72-7.72 1.47 1.35L5.41 20z\"/>\n",
              "  </svg>\n",
              "      </button>\n",
              "      \n",
              "  <style>\n",
              "    .colab-df-container {\n",
              "      display:flex;\n",
              "      flex-wrap:wrap;\n",
              "      gap: 12px;\n",
              "    }\n",
              "\n",
              "    .colab-df-convert {\n",
              "      background-color: #E8F0FE;\n",
              "      border: none;\n",
              "      border-radius: 50%;\n",
              "      cursor: pointer;\n",
              "      display: none;\n",
              "      fill: #1967D2;\n",
              "      height: 32px;\n",
              "      padding: 0 0 0 0;\n",
              "      width: 32px;\n",
              "    }\n",
              "\n",
              "    .colab-df-convert:hover {\n",
              "      background-color: #E2EBFA;\n",
              "      box-shadow: 0px 1px 2px rgba(60, 64, 67, 0.3), 0px 1px 3px 1px rgba(60, 64, 67, 0.15);\n",
              "      fill: #174EA6;\n",
              "    }\n",
              "\n",
              "    [theme=dark] .colab-df-convert {\n",
              "      background-color: #3B4455;\n",
              "      fill: #D2E3FC;\n",
              "    }\n",
              "\n",
              "    [theme=dark] .colab-df-convert:hover {\n",
              "      background-color: #434B5C;\n",
              "      box-shadow: 0px 1px 3px 1px rgba(0, 0, 0, 0.15);\n",
              "      filter: drop-shadow(0px 1px 2px rgba(0, 0, 0, 0.3));\n",
              "      fill: #FFFFFF;\n",
              "    }\n",
              "  </style>\n",
              "\n",
              "      <script>\n",
              "        const buttonEl =\n",
              "          document.querySelector('#df-95407be9-3365-4f52-bbdf-d5d9e07ff10d button.colab-df-convert');\n",
              "        buttonEl.style.display =\n",
              "          google.colab.kernel.accessAllowed ? 'block' : 'none';\n",
              "\n",
              "        async function convertToInteractive(key) {\n",
              "          const element = document.querySelector('#df-95407be9-3365-4f52-bbdf-d5d9e07ff10d');\n",
              "          const dataTable =\n",
              "            await google.colab.kernel.invokeFunction('convertToInteractive',\n",
              "                                                     [key], {});\n",
              "          if (!dataTable) return;\n",
              "\n",
              "          const docLinkHtml = 'Like what you see? Visit the ' +\n",
              "            '<a target=\"_blank\" href=https://colab.research.google.com/notebooks/data_table.ipynb>data table notebook</a>'\n",
              "            + ' to learn more about interactive tables.';\n",
              "          element.innerHTML = '';\n",
              "          dataTable['output_type'] = 'display_data';\n",
              "          await google.colab.output.renderOutput(dataTable, element);\n",
              "          const docLink = document.createElement('div');\n",
              "          docLink.innerHTML = docLinkHtml;\n",
              "          element.appendChild(docLink);\n",
              "        }\n",
              "      </script>\n",
              "    </div>\n",
              "  </div>\n",
              "  "
            ]
          },
          "metadata": {},
          "execution_count": 30
        }
      ]
    },
    {
      "cell_type": "code",
      "source": [
        "#VERIFICANDO COLUNAS COM DADOS NULOS\n",
        "df1.isna().sum()"
      ],
      "metadata": {
        "colab": {
          "base_uri": "https://localhost:8080/"
        },
        "id": "gsZRvZWn9krv",
        "outputId": "50a3ecbd-7219-4008-ef9e-b2ac6f5d5241"
      },
      "execution_count": null,
      "outputs": [
        {
          "output_type": "execute_result",
          "data": {
            "text/plain": [
              "ID                          0\n",
              "AnoDeNascimento             0\n",
              "Escolaridade                0\n",
              "EstadoCivil                 0\n",
              "Renda                      24\n",
              "CriançasEmCasa              0\n",
              "AdolescentesEmCasa          0\n",
              "DataDoCadastroDoCliente     0\n",
              "DiasDaUltimaCompra          0\n",
              "TktMedioVinho               0\n",
              "TktMedioFrutas              0\n",
              "TktMedioCarne               0\n",
              "TktMedioPeixe               0\n",
              "TktMedioDoces               0\n",
              "TktMedioOuro                0\n",
              "ComprasEmOferta             0\n",
              "ComprasPelaInternet         0\n",
              "ComprasPeloCatalogo         0\n",
              "ComprasNaLoja               0\n",
              "VisitaPelaInternetNoMes     0\n",
              "AceitouCampanha3            0\n",
              "AceitouCampanha4            0\n",
              "AceitouCampanha5            0\n",
              "AceitouCampanha1            0\n",
              "AceitouCampanha2            0\n",
              "Reclamações                 0\n",
              "Z_CustoContato              0\n",
              "Z_Receita                   0\n",
              "AceitouUltimaCampanha       0\n",
              "dtype: int64"
            ]
          },
          "metadata": {},
          "execution_count": 31
        }
      ]
    },
    {
      "cell_type": "code",
      "source": [
        "#MOSTRANDO OS DADOS NAN DA COLUNA 'Renda' \n",
        "filtroRendaNA = df1.Renda.isna()\n",
        "RendaNA = df1.loc[filtroRendaNA]\n",
        "RendaNA.head(24)"
      ],
      "metadata": {
        "colab": {
          "base_uri": "https://localhost:8080/",
          "height": 1000
        },
        "id": "pE71rF7Do_e0",
        "outputId": "84c05d3a-73c2-4d6a-e374-47a44c7d5670"
      },
      "execution_count": null,
      "outputs": [
        {
          "output_type": "execute_result",
          "data": {
            "text/plain": [
              "         ID  AnoDeNascimento     Escolaridade    EstadoCivil  Renda  \\\n",
              "10     1994             1983  Ensino Superior         Casado    NaN   \n",
              "27     5255             1986  Ensino Superior       Solteiro    NaN   \n",
              "43     7281             1959        Doutorado       Solteiro    NaN   \n",
              "48     7244             1951  Ensino Superior       Solteiro    NaN   \n",
              "58     8557             1982  Ensino Superior       Solteiro    NaN   \n",
              "71    10629             1973     Ensino Médio         Casado    NaN   \n",
              "90     8996             1957        Doutorado         Casado    NaN   \n",
              "91     9235             1957  Ensino Superior       Solteiro    NaN   \n",
              "92     5798             1973         Mestrado  União Estável    NaN   \n",
              "128    8268             1961        Doutorado         Casado    NaN   \n",
              "133    1295             1963  Ensino Superior         Casado    NaN   \n",
              "312    2437             1989  Ensino Superior         Casado    NaN   \n",
              "319    2863             1970  Ensino Superior       Solteiro    NaN   \n",
              "1379  10475             1970         Mestrado  União Estável    NaN   \n",
              "1382   2902             1958  Ensino Superior  União Estável    NaN   \n",
              "1383   4345             1964     Ensino Médio       Solteiro    NaN   \n",
              "1386   3769             1972        Doutorado  União Estável    NaN   \n",
              "2059   7187             1969         Mestrado  União Estável    NaN   \n",
              "2061   1612             1981        Doutorado       Solteiro    NaN   \n",
              "2078   5079             1971  Ensino Superior         Casado    NaN   \n",
              "2079  10339             1954         Mestrado  União Estável    NaN   \n",
              "2081   3117             1955  Ensino Superior       Solteiro    NaN   \n",
              "2084   5250             1943         Mestrado          Viúvo    NaN   \n",
              "2228   8720             1978     Ensino Médio  União Estável    NaN   \n",
              "\n",
              "      CriançasEmCasa  AdolescentesEmCasa DataDoCadastroDoCliente  \\\n",
              "10                 1                   0              2013-11-15   \n",
              "27                 1                   0              2013-02-20   \n",
              "43                 0                   0              2013-05-11   \n",
              "48                 2                   1              2014-01-01   \n",
              "58                 1                   0              2013-06-17   \n",
              "71                 1                   0              2012-09-14   \n",
              "90                 2                   1              2012-11-19   \n",
              "91                 1                   1              2014-05-27   \n",
              "92                 0                   0              2013-11-23   \n",
              "128                0                   1              2013-11-07   \n",
              "133                0                   1              2013-11-08   \n",
              "312                0                   0              2013-03-06   \n",
              "319                1                   2              2013-08-23   \n",
              "1379               0                   1              2013-01-04   \n",
              "1382               1                   1              2012-03-09   \n",
              "1383               1                   1              2014-12-01   \n",
              "1386               1                   0              2014-02-03   \n",
              "2059               1                   1              2013-05-18   \n",
              "2061               1                   0              2013-05-31   \n",
              "2078               1                   1              2013-03-03   \n",
              "2079               0                   1              2013-06-23   \n",
              "2081               0                   1              2013-10-18   \n",
              "2084               0                   0              2013-10-30   \n",
              "2228               0                   0              2012-12-08   \n",
              "\n",
              "      DiasDaUltimaCompra  TktMedioVinho  TktMedioFrutas  TktMedioCarne  \\\n",
              "10                    11              5               5              6   \n",
              "27                    19              5               1              3   \n",
              "43                    80             81              11             50   \n",
              "48                    96             48               5             48   \n",
              "58                    57             11               3             22   \n",
              "71                    25             25               3             43   \n",
              "90                     4            230              42            192   \n",
              "91                    45              7               0              8   \n",
              "92                    87            445              37            359   \n",
              "128                   23            352               0             27   \n",
              "133                   96            231              65            196   \n",
              "312                   69            861             138            461   \n",
              "319                   67            738              20            172   \n",
              "1379                  39            187               5             65   \n",
              "1382                  87             19               4             12   \n",
              "1383                  49              5               1              9   \n",
              "1386                  17             25               1             13   \n",
              "2059                  52            375              42             48   \n",
              "2061                  82             23               0             15   \n",
              "2078                  82             71               1             16   \n",
              "2079                  83            161               0             22   \n",
              "2081                  95            264               0             21   \n",
              "2084                  75            532             126            490   \n",
              "2228                  53             32               2           1607   \n",
              "\n",
              "      TktMedioPeixe  TktMedioDoces  TktMedioOuro  ComprasEmOferta  \\\n",
              "10                0              2             1                1   \n",
              "27                3            263           362                0   \n",
              "43                3              2            39                1   \n",
              "48                6             10             7                3   \n",
              "58                2              2             6                2   \n",
              "71               17              4            17                3   \n",
              "90               49             37            53               12   \n",
              "91                2              0             1                1   \n",
              "92               98             28            18                1   \n",
              "128              10              0            15                3   \n",
              "133              38             71           124                1   \n",
              "312              60             30            61                1   \n",
              "319              52             50            20                6   \n",
              "1379             26             20            14                2   \n",
              "1382              2              2             6                1   \n",
              "1383              2              0             4                1   \n",
              "1386              0              0             3                1   \n",
              "2059             94             66            96                7   \n",
              "2061              0              2             7                2   \n",
              "2078              0              0             9                4   \n",
              "2079              0              0            24                2   \n",
              "2081             12              6           147                3   \n",
              "2084            164            126           126                1   \n",
              "2228             12              4            22                0   \n",
              "\n",
              "      ComprasPelaInternet  ComprasPeloCatalogo  ComprasNaLoja  \\\n",
              "10                      1                    0              2   \n",
              "27                     27                    0              0   \n",
              "43                      1                    3              4   \n",
              "48                      2                    1              4   \n",
              "58                      2                    0              3   \n",
              "71                      3                    0              3   \n",
              "90                      7                    2              8   \n",
              "91                      1                    0              2   \n",
              "92                      2                    4              8   \n",
              "128                     6                    1              7   \n",
              "133                     6                    5              7   \n",
              "312                     6                    5             12   \n",
              "319                     2                    3             10   \n",
              "1379                    4                    2              6   \n",
              "1382                    1                    0              3   \n",
              "1383                    1                    0              2   \n",
              "1386                    1                    0              3   \n",
              "2059                    4                   10              4   \n",
              "2061                    3                    0              3   \n",
              "2078                    2                    1              3   \n",
              "2079                    4                    1              4   \n",
              "2081                    6                    1              5   \n",
              "2084                    5                    5             11   \n",
              "2228                    0                    0              1   \n",
              "\n",
              "      VisitaPelaInternetNoMes  AceitouCampanha3  AceitouCampanha4  \\\n",
              "10                          7                 0                 0   \n",
              "27                          1                 0                 0   \n",
              "43                          2                 0                 0   \n",
              "48                          6                 0                 0   \n",
              "58                          6                 0                 0   \n",
              "71                          8                 0                 0   \n",
              "90                          9                 0                 0   \n",
              "91                          7                 0                 0   \n",
              "92                          1                 0                 0   \n",
              "128                         6                 0                 0   \n",
              "133                         4                 0                 0   \n",
              "312                         3                 0                 1   \n",
              "319                         7                 0                 1   \n",
              "1379                        5                 0                 0   \n",
              "1382                        5                 0                 0   \n",
              "1383                        7                 0                 0   \n",
              "1386                        7                 0                 0   \n",
              "2059                        3                 0                 0   \n",
              "2061                        6                 0                 0   \n",
              "2078                        8                 0                 0   \n",
              "2079                        6                 0                 0   \n",
              "2081                        7                 0                 0   \n",
              "2084                        1                 0                 0   \n",
              "2228                        0                 0                 1   \n",
              "\n",
              "      AceitouCampanha5  AceitouCampanha1  AceitouCampanha2  Reclamações  \\\n",
              "10                   0                 0                 0            0   \n",
              "27                   0                 0                 0            0   \n",
              "43                   0                 0                 0            0   \n",
              "48                   0                 0                 0            0   \n",
              "58                   0                 0                 0            0   \n",
              "71                   0                 0                 0            0   \n",
              "90                   0                 0                 0            0   \n",
              "91                   0                 0                 0            0   \n",
              "92                   0                 0                 0            0   \n",
              "128                  0                 0                 0            0   \n",
              "133                  0                 0                 0            0   \n",
              "312                  0                 1                 0            0   \n",
              "319                  0                 1                 0            0   \n",
              "1379                 0                 0                 0            0   \n",
              "1382                 0                 0                 0            0   \n",
              "1383                 0                 0                 0            0   \n",
              "1386                 0                 0                 0            0   \n",
              "2059                 0                 0                 0            0   \n",
              "2061                 0                 0                 0            0   \n",
              "2078                 0                 0                 0            0   \n",
              "2079                 0                 0                 0            0   \n",
              "2081                 0                 0                 0            0   \n",
              "2084                 1                 0                 0            0   \n",
              "2228                 0                 0                 0            0   \n",
              "\n",
              "      Z_CustoContato  Z_Receita  AceitouUltimaCampanha  \n",
              "10                 3         11                      0  \n",
              "27                 3         11                      0  \n",
              "43                 3         11                      0  \n",
              "48                 3         11                      0  \n",
              "58                 3         11                      0  \n",
              "71                 3         11                      0  \n",
              "90                 3         11                      0  \n",
              "91                 3         11                      0  \n",
              "92                 3         11                      0  \n",
              "128                3         11                      0  \n",
              "133                3         11                      0  \n",
              "312                3         11                      0  \n",
              "319                3         11                      0  \n",
              "1379               3         11                      0  \n",
              "1382               3         11                      0  \n",
              "1383               3         11                      0  \n",
              "1386               3         11                      0  \n",
              "2059               3         11                      0  \n",
              "2061               3         11                      0  \n",
              "2078               3         11                      0  \n",
              "2079               3         11                      0  \n",
              "2081               3         11                      0  \n",
              "2084               3         11                      1  \n",
              "2228               3         11                      0  "
            ],
            "text/html": [
              "\n",
              "  <div id=\"df-b0152b45-846a-497b-9dab-17555c218a40\">\n",
              "    <div class=\"colab-df-container\">\n",
              "      <div>\n",
              "<style scoped>\n",
              "    .dataframe tbody tr th:only-of-type {\n",
              "        vertical-align: middle;\n",
              "    }\n",
              "\n",
              "    .dataframe tbody tr th {\n",
              "        vertical-align: top;\n",
              "    }\n",
              "\n",
              "    .dataframe thead th {\n",
              "        text-align: right;\n",
              "    }\n",
              "</style>\n",
              "<table border=\"1\" class=\"dataframe\">\n",
              "  <thead>\n",
              "    <tr style=\"text-align: right;\">\n",
              "      <th></th>\n",
              "      <th>ID</th>\n",
              "      <th>AnoDeNascimento</th>\n",
              "      <th>Escolaridade</th>\n",
              "      <th>EstadoCivil</th>\n",
              "      <th>Renda</th>\n",
              "      <th>CriançasEmCasa</th>\n",
              "      <th>AdolescentesEmCasa</th>\n",
              "      <th>DataDoCadastroDoCliente</th>\n",
              "      <th>DiasDaUltimaCompra</th>\n",
              "      <th>TktMedioVinho</th>\n",
              "      <th>TktMedioFrutas</th>\n",
              "      <th>TktMedioCarne</th>\n",
              "      <th>TktMedioPeixe</th>\n",
              "      <th>TktMedioDoces</th>\n",
              "      <th>TktMedioOuro</th>\n",
              "      <th>ComprasEmOferta</th>\n",
              "      <th>ComprasPelaInternet</th>\n",
              "      <th>ComprasPeloCatalogo</th>\n",
              "      <th>ComprasNaLoja</th>\n",
              "      <th>VisitaPelaInternetNoMes</th>\n",
              "      <th>AceitouCampanha3</th>\n",
              "      <th>AceitouCampanha4</th>\n",
              "      <th>AceitouCampanha5</th>\n",
              "      <th>AceitouCampanha1</th>\n",
              "      <th>AceitouCampanha2</th>\n",
              "      <th>Reclamações</th>\n",
              "      <th>Z_CustoContato</th>\n",
              "      <th>Z_Receita</th>\n",
              "      <th>AceitouUltimaCampanha</th>\n",
              "    </tr>\n",
              "  </thead>\n",
              "  <tbody>\n",
              "    <tr>\n",
              "      <th>10</th>\n",
              "      <td>1994</td>\n",
              "      <td>1983</td>\n",
              "      <td>Ensino Superior</td>\n",
              "      <td>Casado</td>\n",
              "      <td>NaN</td>\n",
              "      <td>1</td>\n",
              "      <td>0</td>\n",
              "      <td>2013-11-15</td>\n",
              "      <td>11</td>\n",
              "      <td>5</td>\n",
              "      <td>5</td>\n",
              "      <td>6</td>\n",
              "      <td>0</td>\n",
              "      <td>2</td>\n",
              "      <td>1</td>\n",
              "      <td>1</td>\n",
              "      <td>1</td>\n",
              "      <td>0</td>\n",
              "      <td>2</td>\n",
              "      <td>7</td>\n",
              "      <td>0</td>\n",
              "      <td>0</td>\n",
              "      <td>0</td>\n",
              "      <td>0</td>\n",
              "      <td>0</td>\n",
              "      <td>0</td>\n",
              "      <td>3</td>\n",
              "      <td>11</td>\n",
              "      <td>0</td>\n",
              "    </tr>\n",
              "    <tr>\n",
              "      <th>27</th>\n",
              "      <td>5255</td>\n",
              "      <td>1986</td>\n",
              "      <td>Ensino Superior</td>\n",
              "      <td>Solteiro</td>\n",
              "      <td>NaN</td>\n",
              "      <td>1</td>\n",
              "      <td>0</td>\n",
              "      <td>2013-02-20</td>\n",
              "      <td>19</td>\n",
              "      <td>5</td>\n",
              "      <td>1</td>\n",
              "      <td>3</td>\n",
              "      <td>3</td>\n",
              "      <td>263</td>\n",
              "      <td>362</td>\n",
              "      <td>0</td>\n",
              "      <td>27</td>\n",
              "      <td>0</td>\n",
              "      <td>0</td>\n",
              "      <td>1</td>\n",
              "      <td>0</td>\n",
              "      <td>0</td>\n",
              "      <td>0</td>\n",
              "      <td>0</td>\n",
              "      <td>0</td>\n",
              "      <td>0</td>\n",
              "      <td>3</td>\n",
              "      <td>11</td>\n",
              "      <td>0</td>\n",
              "    </tr>\n",
              "    <tr>\n",
              "      <th>43</th>\n",
              "      <td>7281</td>\n",
              "      <td>1959</td>\n",
              "      <td>Doutorado</td>\n",
              "      <td>Solteiro</td>\n",
              "      <td>NaN</td>\n",
              "      <td>0</td>\n",
              "      <td>0</td>\n",
              "      <td>2013-05-11</td>\n",
              "      <td>80</td>\n",
              "      <td>81</td>\n",
              "      <td>11</td>\n",
              "      <td>50</td>\n",
              "      <td>3</td>\n",
              "      <td>2</td>\n",
              "      <td>39</td>\n",
              "      <td>1</td>\n",
              "      <td>1</td>\n",
              "      <td>3</td>\n",
              "      <td>4</td>\n",
              "      <td>2</td>\n",
              "      <td>0</td>\n",
              "      <td>0</td>\n",
              "      <td>0</td>\n",
              "      <td>0</td>\n",
              "      <td>0</td>\n",
              "      <td>0</td>\n",
              "      <td>3</td>\n",
              "      <td>11</td>\n",
              "      <td>0</td>\n",
              "    </tr>\n",
              "    <tr>\n",
              "      <th>48</th>\n",
              "      <td>7244</td>\n",
              "      <td>1951</td>\n",
              "      <td>Ensino Superior</td>\n",
              "      <td>Solteiro</td>\n",
              "      <td>NaN</td>\n",
              "      <td>2</td>\n",
              "      <td>1</td>\n",
              "      <td>2014-01-01</td>\n",
              "      <td>96</td>\n",
              "      <td>48</td>\n",
              "      <td>5</td>\n",
              "      <td>48</td>\n",
              "      <td>6</td>\n",
              "      <td>10</td>\n",
              "      <td>7</td>\n",
              "      <td>3</td>\n",
              "      <td>2</td>\n",
              "      <td>1</td>\n",
              "      <td>4</td>\n",
              "      <td>6</td>\n",
              "      <td>0</td>\n",
              "      <td>0</td>\n",
              "      <td>0</td>\n",
              "      <td>0</td>\n",
              "      <td>0</td>\n",
              "      <td>0</td>\n",
              "      <td>3</td>\n",
              "      <td>11</td>\n",
              "      <td>0</td>\n",
              "    </tr>\n",
              "    <tr>\n",
              "      <th>58</th>\n",
              "      <td>8557</td>\n",
              "      <td>1982</td>\n",
              "      <td>Ensino Superior</td>\n",
              "      <td>Solteiro</td>\n",
              "      <td>NaN</td>\n",
              "      <td>1</td>\n",
              "      <td>0</td>\n",
              "      <td>2013-06-17</td>\n",
              "      <td>57</td>\n",
              "      <td>11</td>\n",
              "      <td>3</td>\n",
              "      <td>22</td>\n",
              "      <td>2</td>\n",
              "      <td>2</td>\n",
              "      <td>6</td>\n",
              "      <td>2</td>\n",
              "      <td>2</td>\n",
              "      <td>0</td>\n",
              "      <td>3</td>\n",
              "      <td>6</td>\n",
              "      <td>0</td>\n",
              "      <td>0</td>\n",
              "      <td>0</td>\n",
              "      <td>0</td>\n",
              "      <td>0</td>\n",
              "      <td>0</td>\n",
              "      <td>3</td>\n",
              "      <td>11</td>\n",
              "      <td>0</td>\n",
              "    </tr>\n",
              "    <tr>\n",
              "      <th>71</th>\n",
              "      <td>10629</td>\n",
              "      <td>1973</td>\n",
              "      <td>Ensino Médio</td>\n",
              "      <td>Casado</td>\n",
              "      <td>NaN</td>\n",
              "      <td>1</td>\n",
              "      <td>0</td>\n",
              "      <td>2012-09-14</td>\n",
              "      <td>25</td>\n",
              "      <td>25</td>\n",
              "      <td>3</td>\n",
              "      <td>43</td>\n",
              "      <td>17</td>\n",
              "      <td>4</td>\n",
              "      <td>17</td>\n",
              "      <td>3</td>\n",
              "      <td>3</td>\n",
              "      <td>0</td>\n",
              "      <td>3</td>\n",
              "      <td>8</td>\n",
              "      <td>0</td>\n",
              "      <td>0</td>\n",
              "      <td>0</td>\n",
              "      <td>0</td>\n",
              "      <td>0</td>\n",
              "      <td>0</td>\n",
              "      <td>3</td>\n",
              "      <td>11</td>\n",
              "      <td>0</td>\n",
              "    </tr>\n",
              "    <tr>\n",
              "      <th>90</th>\n",
              "      <td>8996</td>\n",
              "      <td>1957</td>\n",
              "      <td>Doutorado</td>\n",
              "      <td>Casado</td>\n",
              "      <td>NaN</td>\n",
              "      <td>2</td>\n",
              "      <td>1</td>\n",
              "      <td>2012-11-19</td>\n",
              "      <td>4</td>\n",
              "      <td>230</td>\n",
              "      <td>42</td>\n",
              "      <td>192</td>\n",
              "      <td>49</td>\n",
              "      <td>37</td>\n",
              "      <td>53</td>\n",
              "      <td>12</td>\n",
              "      <td>7</td>\n",
              "      <td>2</td>\n",
              "      <td>8</td>\n",
              "      <td>9</td>\n",
              "      <td>0</td>\n",
              "      <td>0</td>\n",
              "      <td>0</td>\n",
              "      <td>0</td>\n",
              "      <td>0</td>\n",
              "      <td>0</td>\n",
              "      <td>3</td>\n",
              "      <td>11</td>\n",
              "      <td>0</td>\n",
              "    </tr>\n",
              "    <tr>\n",
              "      <th>91</th>\n",
              "      <td>9235</td>\n",
              "      <td>1957</td>\n",
              "      <td>Ensino Superior</td>\n",
              "      <td>Solteiro</td>\n",
              "      <td>NaN</td>\n",
              "      <td>1</td>\n",
              "      <td>1</td>\n",
              "      <td>2014-05-27</td>\n",
              "      <td>45</td>\n",
              "      <td>7</td>\n",
              "      <td>0</td>\n",
              "      <td>8</td>\n",
              "      <td>2</td>\n",
              "      <td>0</td>\n",
              "      <td>1</td>\n",
              "      <td>1</td>\n",
              "      <td>1</td>\n",
              "      <td>0</td>\n",
              "      <td>2</td>\n",
              "      <td>7</td>\n",
              "      <td>0</td>\n",
              "      <td>0</td>\n",
              "      <td>0</td>\n",
              "      <td>0</td>\n",
              "      <td>0</td>\n",
              "      <td>0</td>\n",
              "      <td>3</td>\n",
              "      <td>11</td>\n",
              "      <td>0</td>\n",
              "    </tr>\n",
              "    <tr>\n",
              "      <th>92</th>\n",
              "      <td>5798</td>\n",
              "      <td>1973</td>\n",
              "      <td>Mestrado</td>\n",
              "      <td>União Estável</td>\n",
              "      <td>NaN</td>\n",
              "      <td>0</td>\n",
              "      <td>0</td>\n",
              "      <td>2013-11-23</td>\n",
              "      <td>87</td>\n",
              "      <td>445</td>\n",
              "      <td>37</td>\n",
              "      <td>359</td>\n",
              "      <td>98</td>\n",
              "      <td>28</td>\n",
              "      <td>18</td>\n",
              "      <td>1</td>\n",
              "      <td>2</td>\n",
              "      <td>4</td>\n",
              "      <td>8</td>\n",
              "      <td>1</td>\n",
              "      <td>0</td>\n",
              "      <td>0</td>\n",
              "      <td>0</td>\n",
              "      <td>0</td>\n",
              "      <td>0</td>\n",
              "      <td>0</td>\n",
              "      <td>3</td>\n",
              "      <td>11</td>\n",
              "      <td>0</td>\n",
              "    </tr>\n",
              "    <tr>\n",
              "      <th>128</th>\n",
              "      <td>8268</td>\n",
              "      <td>1961</td>\n",
              "      <td>Doutorado</td>\n",
              "      <td>Casado</td>\n",
              "      <td>NaN</td>\n",
              "      <td>0</td>\n",
              "      <td>1</td>\n",
              "      <td>2013-11-07</td>\n",
              "      <td>23</td>\n",
              "      <td>352</td>\n",
              "      <td>0</td>\n",
              "      <td>27</td>\n",
              "      <td>10</td>\n",
              "      <td>0</td>\n",
              "      <td>15</td>\n",
              "      <td>3</td>\n",
              "      <td>6</td>\n",
              "      <td>1</td>\n",
              "      <td>7</td>\n",
              "      <td>6</td>\n",
              "      <td>0</td>\n",
              "      <td>0</td>\n",
              "      <td>0</td>\n",
              "      <td>0</td>\n",
              "      <td>0</td>\n",
              "      <td>0</td>\n",
              "      <td>3</td>\n",
              "      <td>11</td>\n",
              "      <td>0</td>\n",
              "    </tr>\n",
              "    <tr>\n",
              "      <th>133</th>\n",
              "      <td>1295</td>\n",
              "      <td>1963</td>\n",
              "      <td>Ensino Superior</td>\n",
              "      <td>Casado</td>\n",
              "      <td>NaN</td>\n",
              "      <td>0</td>\n",
              "      <td>1</td>\n",
              "      <td>2013-11-08</td>\n",
              "      <td>96</td>\n",
              "      <td>231</td>\n",
              "      <td>65</td>\n",
              "      <td>196</td>\n",
              "      <td>38</td>\n",
              "      <td>71</td>\n",
              "      <td>124</td>\n",
              "      <td>1</td>\n",
              "      <td>6</td>\n",
              "      <td>5</td>\n",
              "      <td>7</td>\n",
              "      <td>4</td>\n",
              "      <td>0</td>\n",
              "      <td>0</td>\n",
              "      <td>0</td>\n",
              "      <td>0</td>\n",
              "      <td>0</td>\n",
              "      <td>0</td>\n",
              "      <td>3</td>\n",
              "      <td>11</td>\n",
              "      <td>0</td>\n",
              "    </tr>\n",
              "    <tr>\n",
              "      <th>312</th>\n",
              "      <td>2437</td>\n",
              "      <td>1989</td>\n",
              "      <td>Ensino Superior</td>\n",
              "      <td>Casado</td>\n",
              "      <td>NaN</td>\n",
              "      <td>0</td>\n",
              "      <td>0</td>\n",
              "      <td>2013-03-06</td>\n",
              "      <td>69</td>\n",
              "      <td>861</td>\n",
              "      <td>138</td>\n",
              "      <td>461</td>\n",
              "      <td>60</td>\n",
              "      <td>30</td>\n",
              "      <td>61</td>\n",
              "      <td>1</td>\n",
              "      <td>6</td>\n",
              "      <td>5</td>\n",
              "      <td>12</td>\n",
              "      <td>3</td>\n",
              "      <td>0</td>\n",
              "      <td>1</td>\n",
              "      <td>0</td>\n",
              "      <td>1</td>\n",
              "      <td>0</td>\n",
              "      <td>0</td>\n",
              "      <td>3</td>\n",
              "      <td>11</td>\n",
              "      <td>0</td>\n",
              "    </tr>\n",
              "    <tr>\n",
              "      <th>319</th>\n",
              "      <td>2863</td>\n",
              "      <td>1970</td>\n",
              "      <td>Ensino Superior</td>\n",
              "      <td>Solteiro</td>\n",
              "      <td>NaN</td>\n",
              "      <td>1</td>\n",
              "      <td>2</td>\n",
              "      <td>2013-08-23</td>\n",
              "      <td>67</td>\n",
              "      <td>738</td>\n",
              "      <td>20</td>\n",
              "      <td>172</td>\n",
              "      <td>52</td>\n",
              "      <td>50</td>\n",
              "      <td>20</td>\n",
              "      <td>6</td>\n",
              "      <td>2</td>\n",
              "      <td>3</td>\n",
              "      <td>10</td>\n",
              "      <td>7</td>\n",
              "      <td>0</td>\n",
              "      <td>1</td>\n",
              "      <td>0</td>\n",
              "      <td>1</td>\n",
              "      <td>0</td>\n",
              "      <td>0</td>\n",
              "      <td>3</td>\n",
              "      <td>11</td>\n",
              "      <td>0</td>\n",
              "    </tr>\n",
              "    <tr>\n",
              "      <th>1379</th>\n",
              "      <td>10475</td>\n",
              "      <td>1970</td>\n",
              "      <td>Mestrado</td>\n",
              "      <td>União Estável</td>\n",
              "      <td>NaN</td>\n",
              "      <td>0</td>\n",
              "      <td>1</td>\n",
              "      <td>2013-01-04</td>\n",
              "      <td>39</td>\n",
              "      <td>187</td>\n",
              "      <td>5</td>\n",
              "      <td>65</td>\n",
              "      <td>26</td>\n",
              "      <td>20</td>\n",
              "      <td>14</td>\n",
              "      <td>2</td>\n",
              "      <td>4</td>\n",
              "      <td>2</td>\n",
              "      <td>6</td>\n",
              "      <td>5</td>\n",
              "      <td>0</td>\n",
              "      <td>0</td>\n",
              "      <td>0</td>\n",
              "      <td>0</td>\n",
              "      <td>0</td>\n",
              "      <td>0</td>\n",
              "      <td>3</td>\n",
              "      <td>11</td>\n",
              "      <td>0</td>\n",
              "    </tr>\n",
              "    <tr>\n",
              "      <th>1382</th>\n",
              "      <td>2902</td>\n",
              "      <td>1958</td>\n",
              "      <td>Ensino Superior</td>\n",
              "      <td>União Estável</td>\n",
              "      <td>NaN</td>\n",
              "      <td>1</td>\n",
              "      <td>1</td>\n",
              "      <td>2012-03-09</td>\n",
              "      <td>87</td>\n",
              "      <td>19</td>\n",
              "      <td>4</td>\n",
              "      <td>12</td>\n",
              "      <td>2</td>\n",
              "      <td>2</td>\n",
              "      <td>6</td>\n",
              "      <td>1</td>\n",
              "      <td>1</td>\n",
              "      <td>0</td>\n",
              "      <td>3</td>\n",
              "      <td>5</td>\n",
              "      <td>0</td>\n",
              "      <td>0</td>\n",
              "      <td>0</td>\n",
              "      <td>0</td>\n",
              "      <td>0</td>\n",
              "      <td>0</td>\n",
              "      <td>3</td>\n",
              "      <td>11</td>\n",
              "      <td>0</td>\n",
              "    </tr>\n",
              "    <tr>\n",
              "      <th>1383</th>\n",
              "      <td>4345</td>\n",
              "      <td>1964</td>\n",
              "      <td>Ensino Médio</td>\n",
              "      <td>Solteiro</td>\n",
              "      <td>NaN</td>\n",
              "      <td>1</td>\n",
              "      <td>1</td>\n",
              "      <td>2014-12-01</td>\n",
              "      <td>49</td>\n",
              "      <td>5</td>\n",
              "      <td>1</td>\n",
              "      <td>9</td>\n",
              "      <td>2</td>\n",
              "      <td>0</td>\n",
              "      <td>4</td>\n",
              "      <td>1</td>\n",
              "      <td>1</td>\n",
              "      <td>0</td>\n",
              "      <td>2</td>\n",
              "      <td>7</td>\n",
              "      <td>0</td>\n",
              "      <td>0</td>\n",
              "      <td>0</td>\n",
              "      <td>0</td>\n",
              "      <td>0</td>\n",
              "      <td>0</td>\n",
              "      <td>3</td>\n",
              "      <td>11</td>\n",
              "      <td>0</td>\n",
              "    </tr>\n",
              "    <tr>\n",
              "      <th>1386</th>\n",
              "      <td>3769</td>\n",
              "      <td>1972</td>\n",
              "      <td>Doutorado</td>\n",
              "      <td>União Estável</td>\n",
              "      <td>NaN</td>\n",
              "      <td>1</td>\n",
              "      <td>0</td>\n",
              "      <td>2014-02-03</td>\n",
              "      <td>17</td>\n",
              "      <td>25</td>\n",
              "      <td>1</td>\n",
              "      <td>13</td>\n",
              "      <td>0</td>\n",
              "      <td>0</td>\n",
              "      <td>3</td>\n",
              "      <td>1</td>\n",
              "      <td>1</td>\n",
              "      <td>0</td>\n",
              "      <td>3</td>\n",
              "      <td>7</td>\n",
              "      <td>0</td>\n",
              "      <td>0</td>\n",
              "      <td>0</td>\n",
              "      <td>0</td>\n",
              "      <td>0</td>\n",
              "      <td>0</td>\n",
              "      <td>3</td>\n",
              "      <td>11</td>\n",
              "      <td>0</td>\n",
              "    </tr>\n",
              "    <tr>\n",
              "      <th>2059</th>\n",
              "      <td>7187</td>\n",
              "      <td>1969</td>\n",
              "      <td>Mestrado</td>\n",
              "      <td>União Estável</td>\n",
              "      <td>NaN</td>\n",
              "      <td>1</td>\n",
              "      <td>1</td>\n",
              "      <td>2013-05-18</td>\n",
              "      <td>52</td>\n",
              "      <td>375</td>\n",
              "      <td>42</td>\n",
              "      <td>48</td>\n",
              "      <td>94</td>\n",
              "      <td>66</td>\n",
              "      <td>96</td>\n",
              "      <td>7</td>\n",
              "      <td>4</td>\n",
              "      <td>10</td>\n",
              "      <td>4</td>\n",
              "      <td>3</td>\n",
              "      <td>0</td>\n",
              "      <td>0</td>\n",
              "      <td>0</td>\n",
              "      <td>0</td>\n",
              "      <td>0</td>\n",
              "      <td>0</td>\n",
              "      <td>3</td>\n",
              "      <td>11</td>\n",
              "      <td>0</td>\n",
              "    </tr>\n",
              "    <tr>\n",
              "      <th>2061</th>\n",
              "      <td>1612</td>\n",
              "      <td>1981</td>\n",
              "      <td>Doutorado</td>\n",
              "      <td>Solteiro</td>\n",
              "      <td>NaN</td>\n",
              "      <td>1</td>\n",
              "      <td>0</td>\n",
              "      <td>2013-05-31</td>\n",
              "      <td>82</td>\n",
              "      <td>23</td>\n",
              "      <td>0</td>\n",
              "      <td>15</td>\n",
              "      <td>0</td>\n",
              "      <td>2</td>\n",
              "      <td>7</td>\n",
              "      <td>2</td>\n",
              "      <td>3</td>\n",
              "      <td>0</td>\n",
              "      <td>3</td>\n",
              "      <td>6</td>\n",
              "      <td>0</td>\n",
              "      <td>0</td>\n",
              "      <td>0</td>\n",
              "      <td>0</td>\n",
              "      <td>0</td>\n",
              "      <td>0</td>\n",
              "      <td>3</td>\n",
              "      <td>11</td>\n",
              "      <td>0</td>\n",
              "    </tr>\n",
              "    <tr>\n",
              "      <th>2078</th>\n",
              "      <td>5079</td>\n",
              "      <td>1971</td>\n",
              "      <td>Ensino Superior</td>\n",
              "      <td>Casado</td>\n",
              "      <td>NaN</td>\n",
              "      <td>1</td>\n",
              "      <td>1</td>\n",
              "      <td>2013-03-03</td>\n",
              "      <td>82</td>\n",
              "      <td>71</td>\n",
              "      <td>1</td>\n",
              "      <td>16</td>\n",
              "      <td>0</td>\n",
              "      <td>0</td>\n",
              "      <td>9</td>\n",
              "      <td>4</td>\n",
              "      <td>2</td>\n",
              "      <td>1</td>\n",
              "      <td>3</td>\n",
              "      <td>8</td>\n",
              "      <td>0</td>\n",
              "      <td>0</td>\n",
              "      <td>0</td>\n",
              "      <td>0</td>\n",
              "      <td>0</td>\n",
              "      <td>0</td>\n",
              "      <td>3</td>\n",
              "      <td>11</td>\n",
              "      <td>0</td>\n",
              "    </tr>\n",
              "    <tr>\n",
              "      <th>2079</th>\n",
              "      <td>10339</td>\n",
              "      <td>1954</td>\n",
              "      <td>Mestrado</td>\n",
              "      <td>União Estável</td>\n",
              "      <td>NaN</td>\n",
              "      <td>0</td>\n",
              "      <td>1</td>\n",
              "      <td>2013-06-23</td>\n",
              "      <td>83</td>\n",
              "      <td>161</td>\n",
              "      <td>0</td>\n",
              "      <td>22</td>\n",
              "      <td>0</td>\n",
              "      <td>0</td>\n",
              "      <td>24</td>\n",
              "      <td>2</td>\n",
              "      <td>4</td>\n",
              "      <td>1</td>\n",
              "      <td>4</td>\n",
              "      <td>6</td>\n",
              "      <td>0</td>\n",
              "      <td>0</td>\n",
              "      <td>0</td>\n",
              "      <td>0</td>\n",
              "      <td>0</td>\n",
              "      <td>0</td>\n",
              "      <td>3</td>\n",
              "      <td>11</td>\n",
              "      <td>0</td>\n",
              "    </tr>\n",
              "    <tr>\n",
              "      <th>2081</th>\n",
              "      <td>3117</td>\n",
              "      <td>1955</td>\n",
              "      <td>Ensino Superior</td>\n",
              "      <td>Solteiro</td>\n",
              "      <td>NaN</td>\n",
              "      <td>0</td>\n",
              "      <td>1</td>\n",
              "      <td>2013-10-18</td>\n",
              "      <td>95</td>\n",
              "      <td>264</td>\n",
              "      <td>0</td>\n",
              "      <td>21</td>\n",
              "      <td>12</td>\n",
              "      <td>6</td>\n",
              "      <td>147</td>\n",
              "      <td>3</td>\n",
              "      <td>6</td>\n",
              "      <td>1</td>\n",
              "      <td>5</td>\n",
              "      <td>7</td>\n",
              "      <td>0</td>\n",
              "      <td>0</td>\n",
              "      <td>0</td>\n",
              "      <td>0</td>\n",
              "      <td>0</td>\n",
              "      <td>0</td>\n",
              "      <td>3</td>\n",
              "      <td>11</td>\n",
              "      <td>0</td>\n",
              "    </tr>\n",
              "    <tr>\n",
              "      <th>2084</th>\n",
              "      <td>5250</td>\n",
              "      <td>1943</td>\n",
              "      <td>Mestrado</td>\n",
              "      <td>Viúvo</td>\n",
              "      <td>NaN</td>\n",
              "      <td>0</td>\n",
              "      <td>0</td>\n",
              "      <td>2013-10-30</td>\n",
              "      <td>75</td>\n",
              "      <td>532</td>\n",
              "      <td>126</td>\n",
              "      <td>490</td>\n",
              "      <td>164</td>\n",
              "      <td>126</td>\n",
              "      <td>126</td>\n",
              "      <td>1</td>\n",
              "      <td>5</td>\n",
              "      <td>5</td>\n",
              "      <td>11</td>\n",
              "      <td>1</td>\n",
              "      <td>0</td>\n",
              "      <td>0</td>\n",
              "      <td>1</td>\n",
              "      <td>0</td>\n",
              "      <td>0</td>\n",
              "      <td>0</td>\n",
              "      <td>3</td>\n",
              "      <td>11</td>\n",
              "      <td>1</td>\n",
              "    </tr>\n",
              "    <tr>\n",
              "      <th>2228</th>\n",
              "      <td>8720</td>\n",
              "      <td>1978</td>\n",
              "      <td>Ensino Médio</td>\n",
              "      <td>União Estável</td>\n",
              "      <td>NaN</td>\n",
              "      <td>0</td>\n",
              "      <td>0</td>\n",
              "      <td>2012-12-08</td>\n",
              "      <td>53</td>\n",
              "      <td>32</td>\n",
              "      <td>2</td>\n",
              "      <td>1607</td>\n",
              "      <td>12</td>\n",
              "      <td>4</td>\n",
              "      <td>22</td>\n",
              "      <td>0</td>\n",
              "      <td>0</td>\n",
              "      <td>0</td>\n",
              "      <td>1</td>\n",
              "      <td>0</td>\n",
              "      <td>0</td>\n",
              "      <td>1</td>\n",
              "      <td>0</td>\n",
              "      <td>0</td>\n",
              "      <td>0</td>\n",
              "      <td>0</td>\n",
              "      <td>3</td>\n",
              "      <td>11</td>\n",
              "      <td>0</td>\n",
              "    </tr>\n",
              "  </tbody>\n",
              "</table>\n",
              "</div>\n",
              "      <button class=\"colab-df-convert\" onclick=\"convertToInteractive('df-b0152b45-846a-497b-9dab-17555c218a40')\"\n",
              "              title=\"Convert this dataframe to an interactive table.\"\n",
              "              style=\"display:none;\">\n",
              "        \n",
              "  <svg xmlns=\"http://www.w3.org/2000/svg\" height=\"24px\"viewBox=\"0 0 24 24\"\n",
              "       width=\"24px\">\n",
              "    <path d=\"M0 0h24v24H0V0z\" fill=\"none\"/>\n",
              "    <path d=\"M18.56 5.44l.94 2.06.94-2.06 2.06-.94-2.06-.94-.94-2.06-.94 2.06-2.06.94zm-11 1L8.5 8.5l.94-2.06 2.06-.94-2.06-.94L8.5 2.5l-.94 2.06-2.06.94zm10 10l.94 2.06.94-2.06 2.06-.94-2.06-.94-.94-2.06-.94 2.06-2.06.94z\"/><path d=\"M17.41 7.96l-1.37-1.37c-.4-.4-.92-.59-1.43-.59-.52 0-1.04.2-1.43.59L10.3 9.45l-7.72 7.72c-.78.78-.78 2.05 0 2.83L4 21.41c.39.39.9.59 1.41.59.51 0 1.02-.2 1.41-.59l7.78-7.78 2.81-2.81c.8-.78.8-2.07 0-2.86zM5.41 20L4 18.59l7.72-7.72 1.47 1.35L5.41 20z\"/>\n",
              "  </svg>\n",
              "      </button>\n",
              "      \n",
              "  <style>\n",
              "    .colab-df-container {\n",
              "      display:flex;\n",
              "      flex-wrap:wrap;\n",
              "      gap: 12px;\n",
              "    }\n",
              "\n",
              "    .colab-df-convert {\n",
              "      background-color: #E8F0FE;\n",
              "      border: none;\n",
              "      border-radius: 50%;\n",
              "      cursor: pointer;\n",
              "      display: none;\n",
              "      fill: #1967D2;\n",
              "      height: 32px;\n",
              "      padding: 0 0 0 0;\n",
              "      width: 32px;\n",
              "    }\n",
              "\n",
              "    .colab-df-convert:hover {\n",
              "      background-color: #E2EBFA;\n",
              "      box-shadow: 0px 1px 2px rgba(60, 64, 67, 0.3), 0px 1px 3px 1px rgba(60, 64, 67, 0.15);\n",
              "      fill: #174EA6;\n",
              "    }\n",
              "\n",
              "    [theme=dark] .colab-df-convert {\n",
              "      background-color: #3B4455;\n",
              "      fill: #D2E3FC;\n",
              "    }\n",
              "\n",
              "    [theme=dark] .colab-df-convert:hover {\n",
              "      background-color: #434B5C;\n",
              "      box-shadow: 0px 1px 3px 1px rgba(0, 0, 0, 0.15);\n",
              "      filter: drop-shadow(0px 1px 2px rgba(0, 0, 0, 0.3));\n",
              "      fill: #FFFFFF;\n",
              "    }\n",
              "  </style>\n",
              "\n",
              "      <script>\n",
              "        const buttonEl =\n",
              "          document.querySelector('#df-b0152b45-846a-497b-9dab-17555c218a40 button.colab-df-convert');\n",
              "        buttonEl.style.display =\n",
              "          google.colab.kernel.accessAllowed ? 'block' : 'none';\n",
              "\n",
              "        async function convertToInteractive(key) {\n",
              "          const element = document.querySelector('#df-b0152b45-846a-497b-9dab-17555c218a40');\n",
              "          const dataTable =\n",
              "            await google.colab.kernel.invokeFunction('convertToInteractive',\n",
              "                                                     [key], {});\n",
              "          if (!dataTable) return;\n",
              "\n",
              "          const docLinkHtml = 'Like what you see? Visit the ' +\n",
              "            '<a target=\"_blank\" href=https://colab.research.google.com/notebooks/data_table.ipynb>data table notebook</a>'\n",
              "            + ' to learn more about interactive tables.';\n",
              "          element.innerHTML = '';\n",
              "          dataTable['output_type'] = 'display_data';\n",
              "          await google.colab.output.renderOutput(dataTable, element);\n",
              "          const docLink = document.createElement('div');\n",
              "          docLink.innerHTML = docLinkHtml;\n",
              "          element.appendChild(docLink);\n",
              "        }\n",
              "      </script>\n",
              "    </div>\n",
              "  </div>\n",
              "  "
            ]
          },
          "metadata": {},
          "execution_count": 32
        }
      ]
    },
    {
      "cell_type": "code",
      "source": [
        "#VERIFICA SE OS VALORES EM 'ID' SÃO ÚNICOS \n",
        "df1['ID'].is_unique"
      ],
      "metadata": {
        "colab": {
          "base_uri": "https://localhost:8080/"
        },
        "id": "XCbVE56IPtd9",
        "outputId": "f377c6f5-a085-4fa1-b90b-8f93787830d8"
      },
      "execution_count": null,
      "outputs": [
        {
          "output_type": "execute_result",
          "data": {
            "text/plain": [
              "True"
            ]
          },
          "metadata": {},
          "execution_count": 33
        }
      ]
    },
    {
      "cell_type": "code",
      "source": [
        "#VERIFICANDO VALORES DE 'AnoDeNascimento'\n",
        "df1['AnoDeNascimento'].sort_values(ascending=True).unique()"
      ],
      "metadata": {
        "colab": {
          "base_uri": "https://localhost:8080/"
        },
        "id": "1rWY9CN47orx",
        "outputId": "3e1a3997-f123-4332-ff60-2a60ed71a3d3"
      },
      "execution_count": null,
      "outputs": [
        {
          "output_type": "execute_result",
          "data": {
            "text/plain": [
              "array([1893, 1899, 1900, 1940, 1941, 1943, 1944, 1945, 1946, 1947, 1948,\n",
              "       1949, 1950, 1951, 1952, 1953, 1954, 1955, 1956, 1957, 1958, 1959,\n",
              "       1960, 1961, 1962, 1963, 1964, 1965, 1966, 1967, 1968, 1969, 1970,\n",
              "       1971, 1972, 1973, 1974, 1975, 1976, 1977, 1978, 1979, 1980, 1981,\n",
              "       1982, 1983, 1984, 1985, 1986, 1987, 1988, 1989, 1990, 1991, 1992,\n",
              "       1993, 1994, 1995, 1996])"
            ]
          },
          "metadata": {},
          "execution_count": 34
        }
      ]
    },
    {
      "cell_type": "code",
      "source": [
        "#AGRUPAMENTO POR 'Escolaridade'\n",
        "df1.groupby(['Escolaridade']).size().sort_values(ascending=False)"
      ],
      "metadata": {
        "colab": {
          "base_uri": "https://localhost:8080/"
        },
        "id": "_fCl8ixswZA4",
        "outputId": "a219c217-3708-452b-ad9f-b070b2c39da7"
      },
      "execution_count": null,
      "outputs": [
        {
          "output_type": "execute_result",
          "data": {
            "text/plain": [
              "Escolaridade\n",
              "Ensino Superior       1127\n",
              "Doutorado              486\n",
              "Mestrado               370\n",
              "Ensino Médio           203\n",
              "Ensino Fundamental      54\n",
              "dtype: int64"
            ]
          },
          "metadata": {},
          "execution_count": 35
        }
      ]
    },
    {
      "cell_type": "code",
      "source": [
        "#AGRUPAMENTO POR 'Estado Civil' \n",
        "df1.groupby(['EstadoCivil']).size().sort_values(ascending=False)"
      ],
      "metadata": {
        "colab": {
          "base_uri": "https://localhost:8080/"
        },
        "id": "fprWq8q2wHaU",
        "outputId": "62606620-2773-4aa9-a1b5-d11306f68a75"
      },
      "execution_count": null,
      "outputs": [
        {
          "output_type": "execute_result",
          "data": {
            "text/plain": [
              "EstadoCivil\n",
              "Casado           864\n",
              "União Estável    580\n",
              "Solteiro         485\n",
              "Divorciado       232\n",
              "Viúvo             77\n",
              "Não Respondeu      2\n",
              "dtype: int64"
            ]
          },
          "metadata": {},
          "execution_count": 36
        }
      ]
    },
    {
      "cell_type": "code",
      "source": [
        "#VERIFICANDO VALORES DE 'CriançasEmCasa'\n",
        "df1['CriançasEmCasa'].unique()"
      ],
      "metadata": {
        "colab": {
          "base_uri": "https://localhost:8080/"
        },
        "id": "cCaP9pAe8anz",
        "outputId": "5811de0b-00f4-4177-e029-062e3fc2e5f6"
      },
      "execution_count": null,
      "outputs": [
        {
          "output_type": "execute_result",
          "data": {
            "text/plain": [
              "array([0, 1, 2])"
            ]
          },
          "metadata": {},
          "execution_count": 37
        }
      ]
    },
    {
      "cell_type": "code",
      "source": [
        "#VERIFICANDO VALORES DE 'AdolescentesEmCasa'\n",
        "df1['AdolescentesEmCasa'].unique()"
      ],
      "metadata": {
        "colab": {
          "base_uri": "https://localhost:8080/"
        },
        "id": "L-_VVfKT7oo4",
        "outputId": "13d0f259-41d5-44ee-bfbd-6de43a3becfe"
      },
      "execution_count": null,
      "outputs": [
        {
          "output_type": "execute_result",
          "data": {
            "text/plain": [
              "array([0, 1, 2])"
            ]
          },
          "metadata": {},
          "execution_count": 38
        }
      ]
    },
    {
      "cell_type": "code",
      "source": [
        "#VERIFICANDO VALORES DE 'DataDoCadastroDoCliente'\n",
        "df1['DataDoCadastroDoCliente'].sort_values(ascending=True)"
      ],
      "metadata": {
        "colab": {
          "base_uri": "https://localhost:8080/"
        },
        "id": "klINvzbi7omR",
        "outputId": "5c4a7374-89a5-43f8-90a0-48b6cf2f578f"
      },
      "execution_count": null,
      "outputs": [
        {
          "output_type": "execute_result",
          "data": {
            "text/plain": [
              "2029   2012-01-08\n",
              "976    2012-01-08\n",
              "2194   2012-01-08\n",
              "724    2012-01-08\n",
              "1473   2012-01-09\n",
              "          ...    \n",
              "153    2014-12-05\n",
              "815    2014-12-05\n",
              "216    2014-12-05\n",
              "50     2014-12-05\n",
              "2003   2014-12-06\n",
              "Name: DataDoCadastroDoCliente, Length: 2240, dtype: datetime64[ns]"
            ]
          },
          "metadata": {},
          "execution_count": 39
        }
      ]
    },
    {
      "cell_type": "code",
      "source": [
        "#VERIFICANDO VALORES DE 'DiasDaUltimaCompra'\n",
        "df1['DiasDaUltimaCompra'].sort_values(ascending=True).unique()"
      ],
      "metadata": {
        "colab": {
          "base_uri": "https://localhost:8080/"
        },
        "id": "Eb8D9vml7oj2",
        "outputId": "605d6114-5dbe-43dc-e01b-e542ef4bbe34"
      },
      "execution_count": null,
      "outputs": [
        {
          "output_type": "execute_result",
          "data": {
            "text/plain": [
              "array([ 0,  1,  2,  3,  4,  5,  6,  7,  8,  9, 10, 11, 12, 13, 14, 15, 16,\n",
              "       17, 18, 19, 20, 21, 22, 23, 24, 25, 26, 27, 28, 29, 30, 31, 32, 33,\n",
              "       34, 35, 36, 37, 38, 39, 40, 41, 42, 43, 44, 45, 46, 47, 48, 49, 50,\n",
              "       51, 52, 53, 54, 55, 56, 57, 58, 59, 60, 61, 62, 63, 64, 65, 66, 67,\n",
              "       68, 69, 70, 71, 72, 73, 74, 75, 76, 77, 78, 79, 80, 81, 82, 83, 84,\n",
              "       85, 86, 87, 88, 89, 90, 91, 92, 93, 94, 95, 96, 97, 98, 99])"
            ]
          },
          "metadata": {},
          "execution_count": 114
        }
      ]
    },
    {
      "cell_type": "code",
      "source": [
        "#VERIFICANDO VALORES DE 'TktMedioVinho'\n",
        "df1['TktMedioVinho'].sort_values(ascending=False)"
      ],
      "metadata": {
        "colab": {
          "base_uri": "https://localhost:8080/"
        },
        "id": "Fitp3zJH7ogk",
        "outputId": "d9c28caa-4eba-4791-9f25-8fa35fdcf0dc"
      },
      "execution_count": null,
      "outputs": [
        {
          "output_type": "execute_result",
          "data": {
            "text/plain": [
              "1749    1493\n",
              "824     1492\n",
              "559     1492\n",
              "2098    1486\n",
              "917     1478\n",
              "        ... \n",
              "1170       0\n",
              "1780       0\n",
              "136        0\n",
              "445        0\n",
              "738        0\n",
              "Name: TktMedioVinho, Length: 2240, dtype: int64"
            ]
          },
          "metadata": {},
          "execution_count": 41
        }
      ]
    },
    {
      "cell_type": "code",
      "source": [
        "#VERIFICANDO VALORES DE 'TktMedioFrutas'\n",
        "df1['TktMedioFrutas'].sort_values(ascending=False)"
      ],
      "metadata": {
        "colab": {
          "base_uri": "https://localhost:8080/"
        },
        "id": "9YEPCtb67odx",
        "outputId": "fa0a7570-0468-43a8-eace-1dd09be5401d"
      },
      "execution_count": null,
      "outputs": [
        {
          "output_type": "execute_result",
          "data": {
            "text/plain": [
              "855     199\n",
              "1480    199\n",
              "1508    197\n",
              "1526    194\n",
              "2217    194\n",
              "       ... \n",
              "419       0\n",
              "1804      0\n",
              "415       0\n",
              "1802      0\n",
              "1430      0\n",
              "Name: TktMedioFrutas, Length: 2240, dtype: int64"
            ]
          },
          "metadata": {},
          "execution_count": 42
        }
      ]
    },
    {
      "cell_type": "code",
      "source": [
        "#VERIFICANDO VALORES DE 'TktMedioCarne'\n",
        "df1['TktMedioCarne'].sort_values(ascending=False)"
      ],
      "metadata": {
        "colab": {
          "base_uri": "https://localhost:8080/"
        },
        "id": "kiux-LKb7oU0",
        "outputId": "0c9bdb9a-5aea-47db-e427-e80a14c7d992"
      },
      "execution_count": null,
      "outputs": [
        {
          "output_type": "execute_result",
          "data": {
            "text/plain": [
              "1653    1725\n",
              "21      1725\n",
              "687     1622\n",
              "2228    1607\n",
              "164     1582\n",
              "        ... \n",
              "1846       1\n",
              "981        1\n",
              "205        1\n",
              "1420       1\n",
              "1861       0\n",
              "Name: TktMedioCarne, Length: 2240, dtype: int64"
            ]
          },
          "metadata": {},
          "execution_count": 43
        }
      ]
    },
    {
      "cell_type": "code",
      "source": [
        "#VERIFICANDO VALORES DE 'TktMedioPeixe'\n",
        "df1['TktMedioPeixe'].sort_values(ascending=False)"
      ],
      "metadata": {
        "colab": {
          "base_uri": "https://localhost:8080/"
        },
        "id": "-qDm9Rg5NxXk",
        "outputId": "97c50680-e2e2-40e9-e5b8-3b1e41040a71"
      },
      "execution_count": null,
      "outputs": [
        {
          "output_type": "execute_result",
          "data": {
            "text/plain": [
              "1199    259\n",
              "1644    258\n",
              "1799    258\n",
              "1699    258\n",
              "214     254\n",
              "       ... \n",
              "1538      0\n",
              "1543      0\n",
              "1545      0\n",
              "281       0\n",
              "1077      0\n",
              "Name: TktMedioPeixe, Length: 2240, dtype: int64"
            ]
          },
          "metadata": {},
          "execution_count": 44
        }
      ]
    },
    {
      "cell_type": "code",
      "source": [
        "#VERIFICANDO VALORES DE 'TktMedioDoces'\n",
        "df1['TktMedioDoces'].sort_values(ascending=False)"
      ],
      "metadata": {
        "colab": {
          "base_uri": "https://localhost:8080/"
        },
        "id": "-dN8YxL1NxUa",
        "outputId": "c769cee4-68d3-4072-ee44-81d280dd6d0d"
      },
      "execution_count": null,
      "outputs": [
        {
          "output_type": "execute_result",
          "data": {
            "text/plain": [
              "27      263\n",
              "1898    262\n",
              "634     198\n",
              "1513    197\n",
              "1671    196\n",
              "       ... \n",
              "346       0\n",
              "134       0\n",
              "1904      0\n",
              "1342      0\n",
              "635       0\n",
              "Name: TktMedioDoces, Length: 2240, dtype: int64"
            ]
          },
          "metadata": {},
          "execution_count": 45
        }
      ]
    },
    {
      "cell_type": "code",
      "source": [
        "#VERIFICANDO VALORES DE 'TktMedioOuro'\n",
        "df1['TktMedioOuro'].sort_values(ascending=False)"
      ],
      "metadata": {
        "colab": {
          "base_uri": "https://localhost:8080/"
        },
        "id": "rueOfVeqNxRb",
        "outputId": "e26077aa-291f-4fea-ab3c-afcb3f45bd8e"
      },
      "execution_count": null,
      "outputs": [
        {
          "output_type": "execute_result",
          "data": {
            "text/plain": [
              "27      362\n",
              "1975    321\n",
              "1806    291\n",
              "1328    262\n",
              "723     249\n",
              "       ... \n",
              "66        0\n",
              "2131      0\n",
              "730       0\n",
              "735       0\n",
              "775       0\n",
              "Name: TktMedioOuro, Length: 2240, dtype: int64"
            ]
          },
          "metadata": {},
          "execution_count": 46
        }
      ]
    },
    {
      "cell_type": "code",
      "source": [
        "#VERIFICANDO VALORES DE 'ComprasEmOferta'\n",
        "df1['ComprasEmOferta'].sort_values(ascending=False)"
      ],
      "metadata": {
        "colab": {
          "base_uri": "https://localhost:8080/"
        },
        "id": "7KXyEnHmNxOd",
        "outputId": "daddc315-cc71-49f8-fdc5-cb492082f27c"
      },
      "execution_count": null,
      "outputs": [
        {
          "output_type": "execute_result",
          "data": {
            "text/plain": [
              "1042    15\n",
              "1245    15\n",
              "432     15\n",
              "164     15\n",
              "21      15\n",
              "        ..\n",
              "814      0\n",
              "124      0\n",
              "116      0\n",
              "1982     0\n",
              "1697     0\n",
              "Name: ComprasEmOferta, Length: 2240, dtype: int64"
            ]
          },
          "metadata": {},
          "execution_count": 47
        }
      ]
    },
    {
      "cell_type": "code",
      "source": [
        "#VERIFICANDO VALORES DE 'ComprasPelaInternet'\n",
        "df1['ComprasPelaInternet'].sort_values(ascending=False)"
      ],
      "metadata": {
        "colab": {
          "base_uri": "https://localhost:8080/"
        },
        "id": "22Q00kSyNxLk",
        "outputId": "b35959c8-65c2-4c63-f1c1-f196d06939a3"
      },
      "execution_count": null,
      "outputs": [
        {
          "output_type": "execute_result",
          "data": {
            "text/plain": [
              "27      27\n",
              "1898    27\n",
              "1975    25\n",
              "1806    23\n",
              "1022    11\n",
              "        ..\n",
              "617      0\n",
              "2015     0\n",
              "1352     0\n",
              "2003     0\n",
              "1128     0\n",
              "Name: ComprasPelaInternet, Length: 2240, dtype: int64"
            ]
          },
          "metadata": {},
          "execution_count": 48
        }
      ]
    },
    {
      "cell_type": "code",
      "source": [
        "#VERIFICANDO VALORES DE 'ComprasPeloCatalogo'\n",
        "df1['ComprasPeloCatalogo'].sort_values(ascending=False)"
      ],
      "metadata": {
        "colab": {
          "base_uri": "https://localhost:8080/"
        },
        "id": "abKCC1WpNxIh",
        "outputId": "7236f413-bfb8-46b9-faed-77b3f8d75b61"
      },
      "execution_count": null,
      "outputs": [
        {
          "output_type": "execute_result",
          "data": {
            "text/plain": [
              "1653    28\n",
              "21      28\n",
              "687     28\n",
              "164     22\n",
              "1828    11\n",
              "        ..\n",
              "799      0\n",
              "398      0\n",
              "1592     0\n",
              "1594     0\n",
              "775      0\n",
              "Name: ComprasPeloCatalogo, Length: 2240, dtype: int64"
            ]
          },
          "metadata": {},
          "execution_count": 49
        }
      ]
    },
    {
      "cell_type": "code",
      "source": [
        "#VERIFICANDO VALORES DE 'ComprasNaLoja'\n",
        "df1['ComprasNaLoja'].sort_values(ascending=False)"
      ],
      "metadata": {
        "colab": {
          "base_uri": "https://localhost:8080/"
        },
        "id": "DGplgGoXNxBg",
        "outputId": "ed8b1ee1-b28a-487c-e40e-637ff91f7409"
      },
      "execution_count": null,
      "outputs": [
        {
          "output_type": "execute_result",
          "data": {
            "text/plain": [
              "1187    13\n",
              "803     13\n",
              "1144    13\n",
              "286     13\n",
              "1150    13\n",
              "        ..\n",
              "164      0\n",
              "2214     0\n",
              "27       0\n",
              "1042     0\n",
              "2132     0\n",
              "Name: ComprasNaLoja, Length: 2240, dtype: int64"
            ]
          },
          "metadata": {},
          "execution_count": 50
        }
      ]
    },
    {
      "cell_type": "code",
      "source": [
        "#VERIFICANDO VALORES DE 'VisitaPelaInternetNoMes'\n",
        "df1['VisitaPelaInternetNoMes'].sort_values(ascending=False)"
      ],
      "metadata": {
        "colab": {
          "base_uri": "https://localhost:8080/"
        },
        "id": "zvE7N8PvUWLW",
        "outputId": "53e56354-602f-4eb5-c65e-5c4aa39e0f87"
      },
      "execution_count": null,
      "outputs": [
        {
          "output_type": "execute_result",
          "data": {
            "text/plain": [
              "9       20\n",
              "1245    20\n",
              "774     20\n",
              "1846    19\n",
              "1042    19\n",
              "        ..\n",
              "905      0\n",
              "1806     0\n",
              "2132     0\n",
              "164      0\n",
              "1910     0\n",
              "Name: VisitaPelaInternetNoMes, Length: 2240, dtype: int64"
            ]
          },
          "metadata": {},
          "execution_count": 51
        }
      ]
    },
    {
      "cell_type": "code",
      "source": [
        "#VERIFICANDO VALORES DE 'AceitouCampanha3'\n",
        "df1['AceitouCampanha3'].unique()"
      ],
      "metadata": {
        "colab": {
          "base_uri": "https://localhost:8080/"
        },
        "id": "92MPbRixOk1A",
        "outputId": "aa344b2b-0779-42e4-874b-78b1028008a8"
      },
      "execution_count": null,
      "outputs": [
        {
          "output_type": "execute_result",
          "data": {
            "text/plain": [
              "array([0, 1])"
            ]
          },
          "metadata": {},
          "execution_count": 52
        }
      ]
    },
    {
      "cell_type": "code",
      "source": [
        "#VERIFICANDO VALORES DE 'AceitouCampanha4'\n",
        "df1['AceitouCampanha4'].unique()"
      ],
      "metadata": {
        "colab": {
          "base_uri": "https://localhost:8080/"
        },
        "id": "DWH7hbQTOxIQ",
        "outputId": "1831bcd0-14c0-4185-df3b-109faa78b4c7"
      },
      "execution_count": null,
      "outputs": [
        {
          "output_type": "execute_result",
          "data": {
            "text/plain": [
              "array([0, 1])"
            ]
          },
          "metadata": {},
          "execution_count": 53
        }
      ]
    },
    {
      "cell_type": "code",
      "source": [
        "#VERIFICANDO VALORES DE 'AceitouCampanha5'\n",
        "df1['AceitouCampanha5'].unique()"
      ],
      "metadata": {
        "colab": {
          "base_uri": "https://localhost:8080/"
        },
        "id": "2bKQNKDHOy4Y",
        "outputId": "885e7ad3-931f-4a74-df2a-ea5cff75e569"
      },
      "execution_count": null,
      "outputs": [
        {
          "output_type": "execute_result",
          "data": {
            "text/plain": [
              "array([0, 1])"
            ]
          },
          "metadata": {},
          "execution_count": 54
        }
      ]
    },
    {
      "cell_type": "code",
      "source": [
        "#VERIFICANDO VALORES DE 'AceitouCampanha1'\n",
        "df1['AceitouCampanha1'].unique()"
      ],
      "metadata": {
        "colab": {
          "base_uri": "https://localhost:8080/"
        },
        "id": "aoHeKe3RO1tH",
        "outputId": "3053a443-131e-4a61-cecb-b3404462cfae"
      },
      "execution_count": null,
      "outputs": [
        {
          "output_type": "execute_result",
          "data": {
            "text/plain": [
              "array([0, 1])"
            ]
          },
          "metadata": {},
          "execution_count": 55
        }
      ]
    },
    {
      "cell_type": "code",
      "source": [
        "#VERIFICANDO VALORES DE 'AceitouCampanha2'\n",
        "df1['AceitouCampanha2'].unique()"
      ],
      "metadata": {
        "colab": {
          "base_uri": "https://localhost:8080/"
        },
        "id": "WqjQDoZmPNtQ",
        "outputId": "77878021-b75a-43d7-84e5-a9349ae75e4e"
      },
      "execution_count": null,
      "outputs": [
        {
          "output_type": "execute_result",
          "data": {
            "text/plain": [
              "array([0, 1])"
            ]
          },
          "metadata": {},
          "execution_count": 56
        }
      ]
    },
    {
      "cell_type": "code",
      "source": [
        "#VERIFICANDO VALORES DE 'Reclamações'\n",
        "df1['Reclamações'].unique()"
      ],
      "metadata": {
        "colab": {
          "base_uri": "https://localhost:8080/"
        },
        "id": "YWM6cBt9PRLf",
        "outputId": "8353ce5e-b22c-474d-c399-0eb3c41e2b16"
      },
      "execution_count": null,
      "outputs": [
        {
          "output_type": "execute_result",
          "data": {
            "text/plain": [
              "array([0, 1])"
            ]
          },
          "metadata": {},
          "execution_count": 57
        }
      ]
    },
    {
      "cell_type": "code",
      "source": [
        "#VERIFICANDO VALORES DE 'Z_CustoContato'\n",
        "df1['Z_CustoContato'].unique()"
      ],
      "metadata": {
        "colab": {
          "base_uri": "https://localhost:8080/"
        },
        "id": "Glzk-GigPabh",
        "outputId": "8219099d-58f7-4e06-aae6-994257ce5e9e"
      },
      "execution_count": null,
      "outputs": [
        {
          "output_type": "execute_result",
          "data": {
            "text/plain": [
              "array([3])"
            ]
          },
          "metadata": {},
          "execution_count": 58
        }
      ]
    },
    {
      "cell_type": "code",
      "source": [
        "#VERIFICANDO VALORES DE 'Z_Receita'\n",
        "df1['Z_Receita'].unique()"
      ],
      "metadata": {
        "colab": {
          "base_uri": "https://localhost:8080/"
        },
        "id": "KHFzLQacQn4u",
        "outputId": "147aff8a-9d29-4cd5-89f4-29159e59f405"
      },
      "execution_count": null,
      "outputs": [
        {
          "output_type": "execute_result",
          "data": {
            "text/plain": [
              "array([11])"
            ]
          },
          "metadata": {},
          "execution_count": 59
        }
      ]
    },
    {
      "cell_type": "code",
      "source": [
        "#VERIFICANDO VALORES DE 'AceitouUltimaCampanha'\n",
        "df1['AceitouUltimaCampanha'].unique()"
      ],
      "metadata": {
        "colab": {
          "base_uri": "https://localhost:8080/"
        },
        "id": "CE2P8k77Pl3F",
        "outputId": "b2c9aca8-6fe3-43e8-fcd2-2a3b9d6d3430"
      },
      "execution_count": null,
      "outputs": [
        {
          "output_type": "execute_result",
          "data": {
            "text/plain": [
              "array([1, 0])"
            ]
          },
          "metadata": {},
          "execution_count": 60
        }
      ]
    },
    {
      "cell_type": "code",
      "source": [
        "#TOTAL DE LINHAS E COLUNAS\n",
        "df1.shape"
      ],
      "metadata": {
        "colab": {
          "base_uri": "https://localhost:8080/"
        },
        "id": "SrzDqwghvyOB",
        "outputId": "69704af9-ffbf-46fe-9e1e-a68ad14c5208"
      },
      "execution_count": null,
      "outputs": [
        {
          "output_type": "execute_result",
          "data": {
            "text/plain": [
              "(2240, 29)"
            ]
          },
          "metadata": {},
          "execution_count": 61
        }
      ]
    },
    {
      "cell_type": "code",
      "source": [
        "#DROPAR AS COLUNAS 'Z_CustoContato' E 'Z_Receita' POR SE TRATAREM DE COLUNAS COM VALORES FIXOS SEM VARIAÇÂO.\n",
        "df1.drop(['Z_CustoContato',\n",
        "          'Z_Receita'], axis=1, inplace=True)"
      ],
      "metadata": {
        "id": "cKka4KUXQffP"
      },
      "execution_count": null,
      "outputs": []
    },
    {
      "cell_type": "markdown",
      "source": [
        "<font color=cian>**PRÉ-ANÁLISE**"
      ],
      "metadata": {
        "id": "xX_aNrU3aNu0"
      }
    },
    {
      "cell_type": "code",
      "source": [
        "#TOTAL DE LINHAS E COLUNAS DEPOIS DA ALTERAÇÂO ANTERIOR\n",
        "df1.shape"
      ],
      "metadata": {
        "colab": {
          "base_uri": "https://localhost:8080/"
        },
        "id": "hrV23l2xvofI",
        "outputId": "d01a0bc4-b5d5-48ee-b0f4-226c6b0aeebe"
      },
      "execution_count": null,
      "outputs": [
        {
          "output_type": "execute_result",
          "data": {
            "text/plain": [
              "(2240, 27)"
            ]
          },
          "metadata": {},
          "execution_count": 63
        }
      ]
    },
    {
      "cell_type": "code",
      "source": [
        "#ALTERANDO OS VALORES DA COLUNA 'AceitouCampanha3' ONDE '0' SERÁ 'NÃO' E '1' SERÁ 'SIM' \n",
        "df1['AceitouCampanha3'].replace({0:'NÃO',\n",
        "                                 1:'SIM',\n",
        "                                 },inplace=True)\n",
        "df1['AceitouCampanha3'].value_counts()"
      ],
      "metadata": {
        "colab": {
          "base_uri": "https://localhost:8080/"
        },
        "id": "LltNEW2TZKNi",
        "outputId": "9943d9ad-dd23-42a6-c2d4-9971282609f6"
      },
      "execution_count": null,
      "outputs": [
        {
          "output_type": "stream",
          "name": "stdout",
          "text": [
            "Os clientes aceitaram a campanha 3?\n"
          ]
        },
        {
          "output_type": "execute_result",
          "data": {
            "text/plain": [
              "NÃO    2077\n",
              "SIM     163\n",
              "Name: AceitouCampanha3, dtype: int64"
            ]
          },
          "metadata": {},
          "execution_count": 117
        }
      ]
    },
    {
      "cell_type": "code",
      "source": [
        "#ALTERANDO OS VALORES DA COLUNA 'AceitouCampanha4' ONDE '0' SERÁ 'NÃO' E '1' SERÁ 'SIM' \n",
        "df1['AceitouCampanha4'].replace({0:'NÃO',\n",
        "                                 1:'SIM',\n",
        "                                 },inplace=True)\n",
        "df1['AceitouCampanha4'].value_counts()"
      ],
      "metadata": {
        "colab": {
          "base_uri": "https://localhost:8080/"
        },
        "id": "GxPDsJmrZ5gb",
        "outputId": "d5afa150-d2eb-4f47-ad91-da6c2a570113"
      },
      "execution_count": null,
      "outputs": [
        {
          "output_type": "stream",
          "name": "stdout",
          "text": [
            "Os clientes aceitaram a campanha 4?\n"
          ]
        },
        {
          "output_type": "execute_result",
          "data": {
            "text/plain": [
              "NÃO    2073\n",
              "SIM     167\n",
              "Name: AceitouCampanha4, dtype: int64"
            ]
          },
          "metadata": {},
          "execution_count": 118
        }
      ]
    },
    {
      "cell_type": "code",
      "source": [
        "#ALTERANDO OS VALORES DA COLUNA 'AceitouCampanha5' ONDE '0' SERÁ 'NÃO' E '1' SERÁ 'SIM' \n",
        "df1['AceitouCampanha5'].replace({0:'NÃO',\n",
        "                                 1:'SIM',\n",
        "                                 },inplace=True)\n",
        "df1['AceitouCampanha5'].value_counts()"
      ],
      "metadata": {
        "colab": {
          "base_uri": "https://localhost:8080/"
        },
        "id": "9zL8pX6wZ_NH",
        "outputId": "f2fcd3f3-f30c-44c3-bfe0-be4e437de8af"
      },
      "execution_count": null,
      "outputs": [
        {
          "output_type": "stream",
          "name": "stdout",
          "text": [
            "Os clientes aceitaram a campanha 5?\n"
          ]
        },
        {
          "output_type": "execute_result",
          "data": {
            "text/plain": [
              "NÃO    2077\n",
              "SIM     163\n",
              "Name: AceitouCampanha5, dtype: int64"
            ]
          },
          "metadata": {},
          "execution_count": 119
        }
      ]
    },
    {
      "cell_type": "code",
      "source": [
        "#ALTERANDO OS VALORES DA COLUNA 'AceitouCampanha1' ONDE '0' SERÁ 'NÃO' E '1' SERÁ 'SIM' \n",
        "df1['AceitouCampanha1'].replace({0:'NÃO',\n",
        "                                 1:'SIM',\n",
        "                                 },inplace=True)\n",
        "df1['AceitouCampanha1'].value_counts()"
      ],
      "metadata": {
        "colab": {
          "base_uri": "https://localhost:8080/"
        },
        "id": "MvjnJmQ-aHe5",
        "outputId": "84302f5f-7349-45fa-8dc9-ca63e95d962d"
      },
      "execution_count": null,
      "outputs": [
        {
          "output_type": "execute_result",
          "data": {
            "text/plain": [
              "NÃO    2096\n",
              "SIM     144\n",
              "Name: AceitouCampanha1, dtype: int64"
            ]
          },
          "metadata": {},
          "execution_count": 67
        }
      ]
    },
    {
      "cell_type": "code",
      "source": [
        "#ALTERANDO OS VALORES DA COLUNA 'AceitouCampanha2' ONDE '0' SERÁ 'NÃO' E '1' SERÁ 'SIM' \n",
        "df1['AceitouCampanha2'].replace({0:'NÃO',\n",
        "                                 1:'SIM',\n",
        "                                 },inplace=True)\n",
        "df1['AceitouCampanha2'].value_counts()"
      ],
      "metadata": {
        "colab": {
          "base_uri": "https://localhost:8080/"
        },
        "id": "NT-5AqZ7aKs5",
        "outputId": "8d851bc2-b46f-4fcf-a7be-c8bb1c599d47"
      },
      "execution_count": null,
      "outputs": [
        {
          "output_type": "execute_result",
          "data": {
            "text/plain": [
              "NÃO    2210\n",
              "SIM      30\n",
              "Name: AceitouCampanha2, dtype: int64"
            ]
          },
          "metadata": {},
          "execution_count": 68
        }
      ]
    },
    {
      "cell_type": "code",
      "source": [
        "#ALTERANDO OS VALORES DA COLUNA 'Reclamações' ONDE '0' SERÁ 'NÃO' E '1' SERÁ 'SIM' \n",
        "df1['Reclamações'].replace({0:'NÃO',\n",
        "                            1:'SIM',\n",
        "                            },inplace=True)\n",
        "df1['Reclamações'].value_counts()"
      ],
      "metadata": {
        "colab": {
          "base_uri": "https://localhost:8080/"
        },
        "id": "K6CBkCWdaYX_",
        "outputId": "4d2713a6-ae13-42c3-843c-3ee00f027442"
      },
      "execution_count": null,
      "outputs": [
        {
          "output_type": "execute_result",
          "data": {
            "text/plain": [
              "NÃO    2219\n",
              "SIM      21\n",
              "Name: Reclamações, dtype: int64"
            ]
          },
          "metadata": {},
          "execution_count": 69
        }
      ]
    },
    {
      "cell_type": "code",
      "source": [
        "#ALTERANDO OS VALORES DA COLUNA 'AceitouUltimaCampanha' ONDE '0' SERÁ 'NÃO' E '1' SERÁ 'SIM' \n",
        "df1['AceitouUltimaCampanha'].replace({0:'NÃO',\n",
        "                                      1:'SIM',\n",
        "                                      },inplace=True)\n",
        "df1['AceitouUltimaCampanha'].value_counts()"
      ],
      "metadata": {
        "colab": {
          "base_uri": "https://localhost:8080/"
        },
        "id": "wDneXJozcpQs",
        "outputId": "063ec2dd-1545-47b7-ebf1-b83278ab003a"
      },
      "execution_count": null,
      "outputs": [
        {
          "output_type": "execute_result",
          "data": {
            "text/plain": [
              "NÃO    1906\n",
              "SIM     334\n",
              "Name: AceitouUltimaCampanha, dtype: int64"
            ]
          },
          "metadata": {},
          "execution_count": 70
        }
      ]
    },
    {
      "cell_type": "code",
      "source": [
        "#VERIFICANDO AS MUDANÇAS\n",
        "df1.head(3)"
      ],
      "metadata": {
        "colab": {
          "base_uri": "https://localhost:8080/",
          "height": 260
        },
        "id": "v1BUgft0VRfP",
        "outputId": "b4fdb01b-16af-43d6-b743-36f507f992fd"
      },
      "execution_count": null,
      "outputs": [
        {
          "output_type": "execute_result",
          "data": {
            "text/plain": [
              "     ID  AnoDeNascimento     Escolaridade    EstadoCivil    Renda  \\\n",
              "0  5524             1957  Ensino Superior       Solteiro  58138.0   \n",
              "1  2174             1954  Ensino Superior       Solteiro  46344.0   \n",
              "2  4141             1965  Ensino Superior  União Estável  71613.0   \n",
              "\n",
              "   CriançasEmCasa  AdolescentesEmCasa DataDoCadastroDoCliente  \\\n",
              "0               0                   0              2012-04-09   \n",
              "1               1                   1              2014-08-03   \n",
              "2               0                   0              2013-08-21   \n",
              "\n",
              "   DiasDaUltimaCompra  TktMedioVinho  TktMedioFrutas  TktMedioCarne  \\\n",
              "0                  58            635              88            546   \n",
              "1                  38             11               1              6   \n",
              "2                  26            426              49            127   \n",
              "\n",
              "   TktMedioPeixe  TktMedioDoces  TktMedioOuro  ComprasEmOferta  \\\n",
              "0            172             88            88                3   \n",
              "1              2              1             6                2   \n",
              "2            111             21            42                1   \n",
              "\n",
              "   ComprasPelaInternet  ComprasPeloCatalogo  ComprasNaLoja  \\\n",
              "0                    8                   10              4   \n",
              "1                    1                    1              2   \n",
              "2                    8                    2             10   \n",
              "\n",
              "   VisitaPelaInternetNoMes AceitouCampanha3 AceitouCampanha4 AceitouCampanha5  \\\n",
              "0                        7              NÃO              NÃO              NÃO   \n",
              "1                        5              NÃO              NÃO              NÃO   \n",
              "2                        4              NÃO              NÃO              NÃO   \n",
              "\n",
              "  AceitouCampanha1 AceitouCampanha2 Reclamações AceitouUltimaCampanha  \n",
              "0              NÃO              NÃO         NÃO                   SIM  \n",
              "1              NÃO              NÃO         NÃO                   NÃO  \n",
              "2              NÃO              NÃO         NÃO                   NÃO  "
            ],
            "text/html": [
              "\n",
              "  <div id=\"df-55662053-fe65-46a3-812b-97be5c78a5aa\">\n",
              "    <div class=\"colab-df-container\">\n",
              "      <div>\n",
              "<style scoped>\n",
              "    .dataframe tbody tr th:only-of-type {\n",
              "        vertical-align: middle;\n",
              "    }\n",
              "\n",
              "    .dataframe tbody tr th {\n",
              "        vertical-align: top;\n",
              "    }\n",
              "\n",
              "    .dataframe thead th {\n",
              "        text-align: right;\n",
              "    }\n",
              "</style>\n",
              "<table border=\"1\" class=\"dataframe\">\n",
              "  <thead>\n",
              "    <tr style=\"text-align: right;\">\n",
              "      <th></th>\n",
              "      <th>ID</th>\n",
              "      <th>AnoDeNascimento</th>\n",
              "      <th>Escolaridade</th>\n",
              "      <th>EstadoCivil</th>\n",
              "      <th>Renda</th>\n",
              "      <th>CriançasEmCasa</th>\n",
              "      <th>AdolescentesEmCasa</th>\n",
              "      <th>DataDoCadastroDoCliente</th>\n",
              "      <th>DiasDaUltimaCompra</th>\n",
              "      <th>TktMedioVinho</th>\n",
              "      <th>TktMedioFrutas</th>\n",
              "      <th>TktMedioCarne</th>\n",
              "      <th>TktMedioPeixe</th>\n",
              "      <th>TktMedioDoces</th>\n",
              "      <th>TktMedioOuro</th>\n",
              "      <th>ComprasEmOferta</th>\n",
              "      <th>ComprasPelaInternet</th>\n",
              "      <th>ComprasPeloCatalogo</th>\n",
              "      <th>ComprasNaLoja</th>\n",
              "      <th>VisitaPelaInternetNoMes</th>\n",
              "      <th>AceitouCampanha3</th>\n",
              "      <th>AceitouCampanha4</th>\n",
              "      <th>AceitouCampanha5</th>\n",
              "      <th>AceitouCampanha1</th>\n",
              "      <th>AceitouCampanha2</th>\n",
              "      <th>Reclamações</th>\n",
              "      <th>AceitouUltimaCampanha</th>\n",
              "    </tr>\n",
              "  </thead>\n",
              "  <tbody>\n",
              "    <tr>\n",
              "      <th>0</th>\n",
              "      <td>5524</td>\n",
              "      <td>1957</td>\n",
              "      <td>Ensino Superior</td>\n",
              "      <td>Solteiro</td>\n",
              "      <td>58138.0</td>\n",
              "      <td>0</td>\n",
              "      <td>0</td>\n",
              "      <td>2012-04-09</td>\n",
              "      <td>58</td>\n",
              "      <td>635</td>\n",
              "      <td>88</td>\n",
              "      <td>546</td>\n",
              "      <td>172</td>\n",
              "      <td>88</td>\n",
              "      <td>88</td>\n",
              "      <td>3</td>\n",
              "      <td>8</td>\n",
              "      <td>10</td>\n",
              "      <td>4</td>\n",
              "      <td>7</td>\n",
              "      <td>NÃO</td>\n",
              "      <td>NÃO</td>\n",
              "      <td>NÃO</td>\n",
              "      <td>NÃO</td>\n",
              "      <td>NÃO</td>\n",
              "      <td>NÃO</td>\n",
              "      <td>SIM</td>\n",
              "    </tr>\n",
              "    <tr>\n",
              "      <th>1</th>\n",
              "      <td>2174</td>\n",
              "      <td>1954</td>\n",
              "      <td>Ensino Superior</td>\n",
              "      <td>Solteiro</td>\n",
              "      <td>46344.0</td>\n",
              "      <td>1</td>\n",
              "      <td>1</td>\n",
              "      <td>2014-08-03</td>\n",
              "      <td>38</td>\n",
              "      <td>11</td>\n",
              "      <td>1</td>\n",
              "      <td>6</td>\n",
              "      <td>2</td>\n",
              "      <td>1</td>\n",
              "      <td>6</td>\n",
              "      <td>2</td>\n",
              "      <td>1</td>\n",
              "      <td>1</td>\n",
              "      <td>2</td>\n",
              "      <td>5</td>\n",
              "      <td>NÃO</td>\n",
              "      <td>NÃO</td>\n",
              "      <td>NÃO</td>\n",
              "      <td>NÃO</td>\n",
              "      <td>NÃO</td>\n",
              "      <td>NÃO</td>\n",
              "      <td>NÃO</td>\n",
              "    </tr>\n",
              "    <tr>\n",
              "      <th>2</th>\n",
              "      <td>4141</td>\n",
              "      <td>1965</td>\n",
              "      <td>Ensino Superior</td>\n",
              "      <td>União Estável</td>\n",
              "      <td>71613.0</td>\n",
              "      <td>0</td>\n",
              "      <td>0</td>\n",
              "      <td>2013-08-21</td>\n",
              "      <td>26</td>\n",
              "      <td>426</td>\n",
              "      <td>49</td>\n",
              "      <td>127</td>\n",
              "      <td>111</td>\n",
              "      <td>21</td>\n",
              "      <td>42</td>\n",
              "      <td>1</td>\n",
              "      <td>8</td>\n",
              "      <td>2</td>\n",
              "      <td>10</td>\n",
              "      <td>4</td>\n",
              "      <td>NÃO</td>\n",
              "      <td>NÃO</td>\n",
              "      <td>NÃO</td>\n",
              "      <td>NÃO</td>\n",
              "      <td>NÃO</td>\n",
              "      <td>NÃO</td>\n",
              "      <td>NÃO</td>\n",
              "    </tr>\n",
              "  </tbody>\n",
              "</table>\n",
              "</div>\n",
              "      <button class=\"colab-df-convert\" onclick=\"convertToInteractive('df-55662053-fe65-46a3-812b-97be5c78a5aa')\"\n",
              "              title=\"Convert this dataframe to an interactive table.\"\n",
              "              style=\"display:none;\">\n",
              "        \n",
              "  <svg xmlns=\"http://www.w3.org/2000/svg\" height=\"24px\"viewBox=\"0 0 24 24\"\n",
              "       width=\"24px\">\n",
              "    <path d=\"M0 0h24v24H0V0z\" fill=\"none\"/>\n",
              "    <path d=\"M18.56 5.44l.94 2.06.94-2.06 2.06-.94-2.06-.94-.94-2.06-.94 2.06-2.06.94zm-11 1L8.5 8.5l.94-2.06 2.06-.94-2.06-.94L8.5 2.5l-.94 2.06-2.06.94zm10 10l.94 2.06.94-2.06 2.06-.94-2.06-.94-.94-2.06-.94 2.06-2.06.94z\"/><path d=\"M17.41 7.96l-1.37-1.37c-.4-.4-.92-.59-1.43-.59-.52 0-1.04.2-1.43.59L10.3 9.45l-7.72 7.72c-.78.78-.78 2.05 0 2.83L4 21.41c.39.39.9.59 1.41.59.51 0 1.02-.2 1.41-.59l7.78-7.78 2.81-2.81c.8-.78.8-2.07 0-2.86zM5.41 20L4 18.59l7.72-7.72 1.47 1.35L5.41 20z\"/>\n",
              "  </svg>\n",
              "      </button>\n",
              "      \n",
              "  <style>\n",
              "    .colab-df-container {\n",
              "      display:flex;\n",
              "      flex-wrap:wrap;\n",
              "      gap: 12px;\n",
              "    }\n",
              "\n",
              "    .colab-df-convert {\n",
              "      background-color: #E8F0FE;\n",
              "      border: none;\n",
              "      border-radius: 50%;\n",
              "      cursor: pointer;\n",
              "      display: none;\n",
              "      fill: #1967D2;\n",
              "      height: 32px;\n",
              "      padding: 0 0 0 0;\n",
              "      width: 32px;\n",
              "    }\n",
              "\n",
              "    .colab-df-convert:hover {\n",
              "      background-color: #E2EBFA;\n",
              "      box-shadow: 0px 1px 2px rgba(60, 64, 67, 0.3), 0px 1px 3px 1px rgba(60, 64, 67, 0.15);\n",
              "      fill: #174EA6;\n",
              "    }\n",
              "\n",
              "    [theme=dark] .colab-df-convert {\n",
              "      background-color: #3B4455;\n",
              "      fill: #D2E3FC;\n",
              "    }\n",
              "\n",
              "    [theme=dark] .colab-df-convert:hover {\n",
              "      background-color: #434B5C;\n",
              "      box-shadow: 0px 1px 3px 1px rgba(0, 0, 0, 0.15);\n",
              "      filter: drop-shadow(0px 1px 2px rgba(0, 0, 0, 0.3));\n",
              "      fill: #FFFFFF;\n",
              "    }\n",
              "  </style>\n",
              "\n",
              "      <script>\n",
              "        const buttonEl =\n",
              "          document.querySelector('#df-55662053-fe65-46a3-812b-97be5c78a5aa button.colab-df-convert');\n",
              "        buttonEl.style.display =\n",
              "          google.colab.kernel.accessAllowed ? 'block' : 'none';\n",
              "\n",
              "        async function convertToInteractive(key) {\n",
              "          const element = document.querySelector('#df-55662053-fe65-46a3-812b-97be5c78a5aa');\n",
              "          const dataTable =\n",
              "            await google.colab.kernel.invokeFunction('convertToInteractive',\n",
              "                                                     [key], {});\n",
              "          if (!dataTable) return;\n",
              "\n",
              "          const docLinkHtml = 'Like what you see? Visit the ' +\n",
              "            '<a target=\"_blank\" href=https://colab.research.google.com/notebooks/data_table.ipynb>data table notebook</a>'\n",
              "            + ' to learn more about interactive tables.';\n",
              "          element.innerHTML = '';\n",
              "          dataTable['output_type'] = 'display_data';\n",
              "          await google.colab.output.renderOutput(dataTable, element);\n",
              "          const docLink = document.createElement('div');\n",
              "          docLink.innerHTML = docLinkHtml;\n",
              "          element.appendChild(docLink);\n",
              "        }\n",
              "      </script>\n",
              "    </div>\n",
              "  </div>\n",
              "  "
            ]
          },
          "metadata": {},
          "execution_count": 71
        }
      ]
    },
    {
      "cell_type": "code",
      "source": [
        "#EXPORTANDO DF1 PARA BUCKET\n",
        "df1.to_csv('gs://', index=False) #caminho retirado"
      ],
      "metadata": {
        "id": "Dt9V1-PhawhF"
      },
      "execution_count": null,
      "outputs": []
    },
    {
      "cell_type": "markdown",
      "source": [
        "<font color=cyan>ENVIANDO COPIA DO QUE FOI TRATADO PARA O MONGO\n",
        "- Comentei as quatro celulas abaixo para evitar que fique com dados duplicados"
      ],
      "metadata": {
        "id": "zslCYN1Gkpyi"
      }
    },
    {
      "cell_type": "code",
      "source": [
        "#db = client['projetoindi']\n",
        "#colecaoprojetoindi = db.df1_marketing_campaign"
      ],
      "metadata": {
        "id": "NXbg8mNinC9K"
      },
      "execution_count": null,
      "outputs": []
    },
    {
      "cell_type": "code",
      "source": [
        "#df1 = df1.to_dict(\"records\")\n",
        "#colecaoprojetoindi.insert_many(df1)"
      ],
      "metadata": {
        "id": "IPa94yPonYVY"
      },
      "execution_count": null,
      "outputs": []
    },
    {
      "cell_type": "code",
      "source": [
        "#colecaoprojetoindi.count_documents({})"
      ],
      "metadata": {
        "id": "rWRKbTVGnnw7"
      },
      "execution_count": null,
      "outputs": []
    },
    {
      "cell_type": "code",
      "source": [
        "#REALIZANDO COPIA DO DF1 PARA O DF2\n",
        "df2 = df1.copy()"
      ],
      "metadata": {
        "id": "d8yGUSqJafnw"
      },
      "execution_count": null,
      "outputs": []
    },
    {
      "cell_type": "markdown",
      "source": [
        "##<font color=cyan>Spark\n",
        "\n",
        "- MONTAR ESTRUTURA DATAFRAME COM STRUCTTYPE\n",
        "- VERIFICAR A EXISTENCIA DE DADOS INCONSISTENTES, NULOS E REALIZAR A LIMPEZA\n",
        "- VERIFICAR A NECESSIDADE DE DROP DE COLUNAS\n",
        "- ALTERAR NOME DE PELO MENOS DUAS COLUNAS\n",
        "- CRIAR PELO MENOS DUAS NOVAS COLUNAS CONTENDO INFORMAÇÂO RELEVANTE\n",
        "- CRIAÇÃO DE COLUNAS COM FUNÇÃO DE AGRUPAMENTO\n",
        "- USAR FILTROS, ORDENAÇÃO E AGRUPAMENTO, TRAZENDO DADOS RELEVANTES\n",
        "- USAR PELO MENOS DUAS WINDOW FUNCTIONS\n"
      ],
      "metadata": {
        "id": "zOFk4cWOh-ao"
      }
    },
    {
      "cell_type": "code",
      "source": [
        "#VISUALIZANDO O COMEÇO DO DF2\n",
        "df2.head(3)"
      ],
      "metadata": {
        "colab": {
          "base_uri": "https://localhost:8080/",
          "height": 260
        },
        "id": "xqtS2dfRwoTg",
        "outputId": "051f841f-7b62-4503-d7ee-d7f5f58ba17d"
      },
      "execution_count": null,
      "outputs": [
        {
          "output_type": "execute_result",
          "data": {
            "text/plain": [
              "     ID  AnoDeNascimento     Escolaridade    EstadoCivil    Renda  \\\n",
              "0  5524             1957  Ensino Superior       Solteiro  58138.0   \n",
              "1  2174             1954  Ensino Superior       Solteiro  46344.0   \n",
              "2  4141             1965  Ensino Superior  União Estável  71613.0   \n",
              "\n",
              "   CriançasEmCasa  AdolescentesEmCasa DataDoCadastroDoCliente  \\\n",
              "0               0                   0              2012-04-09   \n",
              "1               1                   1              2014-08-03   \n",
              "2               0                   0              2013-08-21   \n",
              "\n",
              "   DiasDaUltimaCompra  TktMedioVinho  TktMedioFrutas  TktMedioCarne  \\\n",
              "0                  58            635              88            546   \n",
              "1                  38             11               1              6   \n",
              "2                  26            426              49            127   \n",
              "\n",
              "   TktMedioPeixe  TktMedioDoces  TktMedioOuro  ComprasEmOferta  \\\n",
              "0            172             88            88                3   \n",
              "1              2              1             6                2   \n",
              "2            111             21            42                1   \n",
              "\n",
              "   ComprasPelaInternet  ComprasPeloCatalogo  ComprasNaLoja  \\\n",
              "0                    8                   10              4   \n",
              "1                    1                    1              2   \n",
              "2                    8                    2             10   \n",
              "\n",
              "   VisitaPelaInternetNoMes AceitouCampanha3 AceitouCampanha4 AceitouCampanha5  \\\n",
              "0                        7              NÃO              NÃO              NÃO   \n",
              "1                        5              NÃO              NÃO              NÃO   \n",
              "2                        4              NÃO              NÃO              NÃO   \n",
              "\n",
              "  AceitouCampanha1 AceitouCampanha2 Reclamações AceitouUltimaCampanha  \n",
              "0              NÃO              NÃO         NÃO                   SIM  \n",
              "1              NÃO              NÃO         NÃO                   NÃO  \n",
              "2              NÃO              NÃO         NÃO                   NÃO  "
            ],
            "text/html": [
              "\n",
              "  <div id=\"df-33d4e9c5-0224-4386-8d6b-fd8ede6be918\">\n",
              "    <div class=\"colab-df-container\">\n",
              "      <div>\n",
              "<style scoped>\n",
              "    .dataframe tbody tr th:only-of-type {\n",
              "        vertical-align: middle;\n",
              "    }\n",
              "\n",
              "    .dataframe tbody tr th {\n",
              "        vertical-align: top;\n",
              "    }\n",
              "\n",
              "    .dataframe thead th {\n",
              "        text-align: right;\n",
              "    }\n",
              "</style>\n",
              "<table border=\"1\" class=\"dataframe\">\n",
              "  <thead>\n",
              "    <tr style=\"text-align: right;\">\n",
              "      <th></th>\n",
              "      <th>ID</th>\n",
              "      <th>AnoDeNascimento</th>\n",
              "      <th>Escolaridade</th>\n",
              "      <th>EstadoCivil</th>\n",
              "      <th>Renda</th>\n",
              "      <th>CriançasEmCasa</th>\n",
              "      <th>AdolescentesEmCasa</th>\n",
              "      <th>DataDoCadastroDoCliente</th>\n",
              "      <th>DiasDaUltimaCompra</th>\n",
              "      <th>TktMedioVinho</th>\n",
              "      <th>TktMedioFrutas</th>\n",
              "      <th>TktMedioCarne</th>\n",
              "      <th>TktMedioPeixe</th>\n",
              "      <th>TktMedioDoces</th>\n",
              "      <th>TktMedioOuro</th>\n",
              "      <th>ComprasEmOferta</th>\n",
              "      <th>ComprasPelaInternet</th>\n",
              "      <th>ComprasPeloCatalogo</th>\n",
              "      <th>ComprasNaLoja</th>\n",
              "      <th>VisitaPelaInternetNoMes</th>\n",
              "      <th>AceitouCampanha3</th>\n",
              "      <th>AceitouCampanha4</th>\n",
              "      <th>AceitouCampanha5</th>\n",
              "      <th>AceitouCampanha1</th>\n",
              "      <th>AceitouCampanha2</th>\n",
              "      <th>Reclamações</th>\n",
              "      <th>AceitouUltimaCampanha</th>\n",
              "    </tr>\n",
              "  </thead>\n",
              "  <tbody>\n",
              "    <tr>\n",
              "      <th>0</th>\n",
              "      <td>5524</td>\n",
              "      <td>1957</td>\n",
              "      <td>Ensino Superior</td>\n",
              "      <td>Solteiro</td>\n",
              "      <td>58138.0</td>\n",
              "      <td>0</td>\n",
              "      <td>0</td>\n",
              "      <td>2012-04-09</td>\n",
              "      <td>58</td>\n",
              "      <td>635</td>\n",
              "      <td>88</td>\n",
              "      <td>546</td>\n",
              "      <td>172</td>\n",
              "      <td>88</td>\n",
              "      <td>88</td>\n",
              "      <td>3</td>\n",
              "      <td>8</td>\n",
              "      <td>10</td>\n",
              "      <td>4</td>\n",
              "      <td>7</td>\n",
              "      <td>NÃO</td>\n",
              "      <td>NÃO</td>\n",
              "      <td>NÃO</td>\n",
              "      <td>NÃO</td>\n",
              "      <td>NÃO</td>\n",
              "      <td>NÃO</td>\n",
              "      <td>SIM</td>\n",
              "    </tr>\n",
              "    <tr>\n",
              "      <th>1</th>\n",
              "      <td>2174</td>\n",
              "      <td>1954</td>\n",
              "      <td>Ensino Superior</td>\n",
              "      <td>Solteiro</td>\n",
              "      <td>46344.0</td>\n",
              "      <td>1</td>\n",
              "      <td>1</td>\n",
              "      <td>2014-08-03</td>\n",
              "      <td>38</td>\n",
              "      <td>11</td>\n",
              "      <td>1</td>\n",
              "      <td>6</td>\n",
              "      <td>2</td>\n",
              "      <td>1</td>\n",
              "      <td>6</td>\n",
              "      <td>2</td>\n",
              "      <td>1</td>\n",
              "      <td>1</td>\n",
              "      <td>2</td>\n",
              "      <td>5</td>\n",
              "      <td>NÃO</td>\n",
              "      <td>NÃO</td>\n",
              "      <td>NÃO</td>\n",
              "      <td>NÃO</td>\n",
              "      <td>NÃO</td>\n",
              "      <td>NÃO</td>\n",
              "      <td>NÃO</td>\n",
              "    </tr>\n",
              "    <tr>\n",
              "      <th>2</th>\n",
              "      <td>4141</td>\n",
              "      <td>1965</td>\n",
              "      <td>Ensino Superior</td>\n",
              "      <td>União Estável</td>\n",
              "      <td>71613.0</td>\n",
              "      <td>0</td>\n",
              "      <td>0</td>\n",
              "      <td>2013-08-21</td>\n",
              "      <td>26</td>\n",
              "      <td>426</td>\n",
              "      <td>49</td>\n",
              "      <td>127</td>\n",
              "      <td>111</td>\n",
              "      <td>21</td>\n",
              "      <td>42</td>\n",
              "      <td>1</td>\n",
              "      <td>8</td>\n",
              "      <td>2</td>\n",
              "      <td>10</td>\n",
              "      <td>4</td>\n",
              "      <td>NÃO</td>\n",
              "      <td>NÃO</td>\n",
              "      <td>NÃO</td>\n",
              "      <td>NÃO</td>\n",
              "      <td>NÃO</td>\n",
              "      <td>NÃO</td>\n",
              "      <td>NÃO</td>\n",
              "    </tr>\n",
              "  </tbody>\n",
              "</table>\n",
              "</div>\n",
              "      <button class=\"colab-df-convert\" onclick=\"convertToInteractive('df-33d4e9c5-0224-4386-8d6b-fd8ede6be918')\"\n",
              "              title=\"Convert this dataframe to an interactive table.\"\n",
              "              style=\"display:none;\">\n",
              "        \n",
              "  <svg xmlns=\"http://www.w3.org/2000/svg\" height=\"24px\"viewBox=\"0 0 24 24\"\n",
              "       width=\"24px\">\n",
              "    <path d=\"M0 0h24v24H0V0z\" fill=\"none\"/>\n",
              "    <path d=\"M18.56 5.44l.94 2.06.94-2.06 2.06-.94-2.06-.94-.94-2.06-.94 2.06-2.06.94zm-11 1L8.5 8.5l.94-2.06 2.06-.94-2.06-.94L8.5 2.5l-.94 2.06-2.06.94zm10 10l.94 2.06.94-2.06 2.06-.94-2.06-.94-.94-2.06-.94 2.06-2.06.94z\"/><path d=\"M17.41 7.96l-1.37-1.37c-.4-.4-.92-.59-1.43-.59-.52 0-1.04.2-1.43.59L10.3 9.45l-7.72 7.72c-.78.78-.78 2.05 0 2.83L4 21.41c.39.39.9.59 1.41.59.51 0 1.02-.2 1.41-.59l7.78-7.78 2.81-2.81c.8-.78.8-2.07 0-2.86zM5.41 20L4 18.59l7.72-7.72 1.47 1.35L5.41 20z\"/>\n",
              "  </svg>\n",
              "      </button>\n",
              "      \n",
              "  <style>\n",
              "    .colab-df-container {\n",
              "      display:flex;\n",
              "      flex-wrap:wrap;\n",
              "      gap: 12px;\n",
              "    }\n",
              "\n",
              "    .colab-df-convert {\n",
              "      background-color: #E8F0FE;\n",
              "      border: none;\n",
              "      border-radius: 50%;\n",
              "      cursor: pointer;\n",
              "      display: none;\n",
              "      fill: #1967D2;\n",
              "      height: 32px;\n",
              "      padding: 0 0 0 0;\n",
              "      width: 32px;\n",
              "    }\n",
              "\n",
              "    .colab-df-convert:hover {\n",
              "      background-color: #E2EBFA;\n",
              "      box-shadow: 0px 1px 2px rgba(60, 64, 67, 0.3), 0px 1px 3px 1px rgba(60, 64, 67, 0.15);\n",
              "      fill: #174EA6;\n",
              "    }\n",
              "\n",
              "    [theme=dark] .colab-df-convert {\n",
              "      background-color: #3B4455;\n",
              "      fill: #D2E3FC;\n",
              "    }\n",
              "\n",
              "    [theme=dark] .colab-df-convert:hover {\n",
              "      background-color: #434B5C;\n",
              "      box-shadow: 0px 1px 3px 1px rgba(0, 0, 0, 0.15);\n",
              "      filter: drop-shadow(0px 1px 2px rgba(0, 0, 0, 0.3));\n",
              "      fill: #FFFFFF;\n",
              "    }\n",
              "  </style>\n",
              "\n",
              "      <script>\n",
              "        const buttonEl =\n",
              "          document.querySelector('#df-33d4e9c5-0224-4386-8d6b-fd8ede6be918 button.colab-df-convert');\n",
              "        buttonEl.style.display =\n",
              "          google.colab.kernel.accessAllowed ? 'block' : 'none';\n",
              "\n",
              "        async function convertToInteractive(key) {\n",
              "          const element = document.querySelector('#df-33d4e9c5-0224-4386-8d6b-fd8ede6be918');\n",
              "          const dataTable =\n",
              "            await google.colab.kernel.invokeFunction('convertToInteractive',\n",
              "                                                     [key], {});\n",
              "          if (!dataTable) return;\n",
              "\n",
              "          const docLinkHtml = 'Like what you see? Visit the ' +\n",
              "            '<a target=\"_blank\" href=https://colab.research.google.com/notebooks/data_table.ipynb>data table notebook</a>'\n",
              "            + ' to learn more about interactive tables.';\n",
              "          element.innerHTML = '';\n",
              "          dataTable['output_type'] = 'display_data';\n",
              "          await google.colab.output.renderOutput(dataTable, element);\n",
              "          const docLink = document.createElement('div');\n",
              "          docLink.innerHTML = docLinkHtml;\n",
              "          element.appendChild(docLink);\n",
              "        }\n",
              "      </script>\n",
              "    </div>\n",
              "  </div>\n",
              "  "
            ]
          },
          "metadata": {},
          "execution_count": 77
        }
      ]
    },
    {
      "cell_type": "code",
      "source": [
        "#EXPORTANDO DF2 PARA BUCKET\n",
        "df2.to_csv('gs://', index=False) #caminho retirado"
      ],
      "metadata": {
        "id": "Rs9o0xEYOdJO"
      },
      "execution_count": null,
      "outputs": []
    },
    {
      "cell_type": "code",
      "source": [
        "#CONFIGURAR A SPARKSESSION\n",
        "spark = ( SparkSession.builder\n",
        "         .master('local')\n",
        "         .appName('limpeza-spark')\n",
        "         .config('spark.ui.port', '4050')\n",
        "         .getOrCreate()\n",
        ")"
      ],
      "metadata": {
        "id": "U74kf7MMiAGD"
      },
      "execution_count": null,
      "outputs": []
    },
    {
      "cell_type": "code",
      "source": [
        "#ENVIAR DO PANDAS PARA O PYSPARK\n",
        "df3 = spark.createDataFrame(df2)"
      ],
      "metadata": {
        "id": "VHxPs6O8f7ih"
      },
      "execution_count": null,
      "outputs": []
    },
    {
      "cell_type": "code",
      "source": [
        "spark"
      ],
      "metadata": {
        "colab": {
          "base_uri": "https://localhost:8080/",
          "height": 221
        },
        "id": "vyzSYDux6-im",
        "outputId": "2576d932-0729-4bbc-e934-020485aa6381"
      },
      "execution_count": null,
      "outputs": [
        {
          "output_type": "execute_result",
          "data": {
            "text/plain": [
              "<pyspark.sql.session.SparkSession at 0x7f44a44d1590>"
            ],
            "text/html": [
              "\n",
              "            <div>\n",
              "                <p><b>SparkSession - in-memory</b></p>\n",
              "                \n",
              "        <div>\n",
              "            <p><b>SparkContext</b></p>\n",
              "\n",
              "            <p><a href=\"http://b47cce148631:4050\">Spark UI</a></p>\n",
              "\n",
              "            <dl>\n",
              "              <dt>Version</dt>\n",
              "                <dd><code>v3.3.0</code></dd>\n",
              "              <dt>Master</dt>\n",
              "                <dd><code>local</code></dd>\n",
              "              <dt>AppName</dt>\n",
              "                <dd><code>limpeza-spark</code></dd>\n",
              "            </dl>\n",
              "        </div>\n",
              "        \n",
              "            </div>\n",
              "        "
            ]
          },
          "metadata": {},
          "execution_count": 81
        }
      ]
    },
    {
      "cell_type": "code",
      "source": [
        "#MOSTRAR O DF\n",
        "df3.show(10)"
      ],
      "metadata": {
        "colab": {
          "base_uri": "https://localhost:8080/"
        },
        "id": "EFwAqWvA3TVz",
        "outputId": "3e566337-ab56-40ba-c2dd-3a9133f9191a"
      },
      "execution_count": null,
      "outputs": [
        {
          "output_type": "stream",
          "name": "stdout",
          "text": [
            "+----+---------------+---------------+-------------+-------+--------------+------------------+-----------------------+------------------+-------------+--------------+-------------+-------------+-------------+------------+---------------+-------------------+-------------------+-------------+-----------------------+----------------+----------------+----------------+----------------+----------------+-----------+---------------------+\n",
            "|  ID|AnoDeNascimento|   Escolaridade|  EstadoCivil|  Renda|CriançasEmCasa|AdolescentesEmCasa|DataDoCadastroDoCliente|DiasDaUltimaCompra|TktMedioVinho|TktMedioFrutas|TktMedioCarne|TktMedioPeixe|TktMedioDoces|TktMedioOuro|ComprasEmOferta|ComprasPelaInternet|ComprasPeloCatalogo|ComprasNaLoja|VisitaPelaInternetNoMes|AceitouCampanha3|AceitouCampanha4|AceitouCampanha5|AceitouCampanha1|AceitouCampanha2|Reclamações|AceitouUltimaCampanha|\n",
            "+----+---------------+---------------+-------------+-------+--------------+------------------+-----------------------+------------------+-------------+--------------+-------------+-------------+-------------+------------+---------------+-------------------+-------------------+-------------+-----------------------+----------------+----------------+----------------+----------------+----------------+-----------+---------------------+\n",
            "|5524|           1957|Ensino Superior|     Solteiro|58138.0|             0|                 0|    2012-04-09 00:00:00|                58|          635|            88|          546|          172|           88|          88|              3|                  8|                 10|            4|                      7|             NÃO|             NÃO|             NÃO|             NÃO|             NÃO|        NÃO|                  SIM|\n",
            "|2174|           1954|Ensino Superior|     Solteiro|46344.0|             1|                 1|    2014-08-03 00:00:00|                38|           11|             1|            6|            2|            1|           6|              2|                  1|                  1|            2|                      5|             NÃO|             NÃO|             NÃO|             NÃO|             NÃO|        NÃO|                  NÃO|\n",
            "|4141|           1965|Ensino Superior|União Estável|71613.0|             0|                 0|    2013-08-21 00:00:00|                26|          426|            49|          127|          111|           21|          42|              1|                  8|                  2|           10|                      4|             NÃO|             NÃO|             NÃO|             NÃO|             NÃO|        NÃO|                  NÃO|\n",
            "|6182|           1984|Ensino Superior|União Estável|26646.0|             1|                 0|    2014-10-02 00:00:00|                26|           11|             4|           20|           10|            3|           5|              2|                  2|                  0|            4|                      6|             NÃO|             NÃO|             NÃO|             NÃO|             NÃO|        NÃO|                  NÃO|\n",
            "|5324|           1981|      Doutorado|       Casado|58293.0|             1|                 0|    2014-01-19 00:00:00|                94|          173|            43|          118|           46|           27|          15|              5|                  5|                  3|            6|                      5|             NÃO|             NÃO|             NÃO|             NÃO|             NÃO|        NÃO|                  NÃO|\n",
            "|7446|           1967|       Mestrado|União Estável|62513.0|             0|                 1|    2013-09-09 00:00:00|                16|          520|            42|           98|            0|           42|          14|              2|                  6|                  4|           10|                      6|             NÃO|             NÃO|             NÃO|             NÃO|             NÃO|        NÃO|                  NÃO|\n",
            "| 965|           1971|Ensino Superior|   Divorciado|55635.0|             0|                 1|    2012-11-13 00:00:00|                34|          235|            65|          164|           50|           49|          27|              4|                  7|                  3|            7|                      6|             NÃO|             NÃO|             NÃO|             NÃO|             NÃO|        NÃO|                  NÃO|\n",
            "|6177|           1985|      Doutorado|       Casado|33454.0|             1|                 0|    2013-08-05 00:00:00|                32|           76|            10|           56|            3|            1|          23|              2|                  4|                  0|            4|                      8|             NÃO|             NÃO|             NÃO|             NÃO|             NÃO|        NÃO|                  NÃO|\n",
            "|4855|           1974|      Doutorado|União Estável|30351.0|             1|                 0|    2013-06-06 00:00:00|                19|           14|             0|           24|            3|            3|           2|              1|                  3|                  0|            2|                      9|             NÃO|             NÃO|             NÃO|             NÃO|             NÃO|        NÃO|                  SIM|\n",
            "|5899|           1950|      Doutorado|União Estável| 5648.0|             1|                 1|    2014-03-13 00:00:00|                68|           28|             0|            6|            1|            1|          13|              1|                  1|                  0|            0|                     20|             SIM|             NÃO|             NÃO|             NÃO|             NÃO|        NÃO|                  NÃO|\n",
            "+----+---------------+---------------+-------------+-------+--------------+------------------+-----------------------+------------------+-------------+--------------+-------------+-------------+-------------+------------+---------------+-------------------+-------------------+-------------+-----------------------+----------------+----------------+----------------+----------------+----------------+-----------+---------------------+\n",
            "only showing top 10 rows\n",
            "\n"
          ]
        }
      ]
    },
    {
      "cell_type": "code",
      "source": [
        "# DEFININDO O ESQUEMA DOS DADOS\n",
        "schema = (\n",
        "    StructType([\n",
        "        StructField('ID', IntegerType(), True),\n",
        "        StructField('AnoDeNascimento', DataType(), True),\n",
        "        StructField('Escolaridade', StringType(), True),\n",
        "        StructField('EstadoCivil', StringType(), True),\n",
        "        StructField('Renda', DoubleType(), True),\n",
        "        StructField('CriançasEmCasa', IntegerType(), True),\n",
        "        StructField('AdolescentesEmCasa', IntegerType(), True),\n",
        "        StructField('DataDoCadastroDoCliente', DataType(), True),\n",
        "        StructField('DiasDaUltimaCompra', IntegerType(), True),\n",
        "        StructField('TktMedioVinho', IntegerType(), True),\n",
        "        StructField('TktMedioFrutas',IntegerType(), True), \n",
        "        StructField('TktMedioCarne ', IntegerType(), True),\n",
        "        StructField('TktMedioPeixe', IntegerType(), True),\n",
        "        StructField('TktMedioDoces', IntegerType(), True),\n",
        "        StructField('TktMedioOuro',IntegerType(), True),\n",
        "        StructField('ComprasEmOferta', IntegerType(), True),\n",
        "        StructField('ComprasPelaInternet', IntegerType(), True),\n",
        "        StructField('ComprasPeloCatalogo', IntegerType(), True),\n",
        "        StructField('ComprasNaLoja', IntegerType(), True),\n",
        "        StructField('VisitaPelaInternetNoMes', IntegerType(), True), \n",
        "        StructField('AceitouCampanha3',StringType(), True),\n",
        "        StructField('AceitouCampanha4',StringType(), True),\n",
        "        StructField('AceitouCampanha5',StringType(), True),\n",
        "        StructField('AceitouCampanha1',StringType(), True),\n",
        "        StructField('AceitouCampanha2',StringType(), True),\n",
        "        StructField('Reclamações', StringType(), True),\n",
        "        StructField('AceitouUltimaCampanha', StringType(), True),\n",
        "    ])\n",
        ")"
      ],
      "metadata": {
        "id": "wAqhHjHl6ybw"
      },
      "execution_count": null,
      "outputs": []
    },
    {
      "cell_type": "code",
      "source": [
        "#MOSTRAR O SCHEMA\n",
        "df3.printSchema()"
      ],
      "metadata": {
        "colab": {
          "base_uri": "https://localhost:8080/"
        },
        "id": "KFR6Zo_NwFtr",
        "outputId": "1c06af16-35c7-4e9d-9dd4-a8ebbd3bc8f5"
      },
      "execution_count": null,
      "outputs": [
        {
          "output_type": "stream",
          "name": "stdout",
          "text": [
            "root\n",
            " |-- ID: long (nullable = true)\n",
            " |-- AnoDeNascimento: long (nullable = true)\n",
            " |-- Escolaridade: string (nullable = true)\n",
            " |-- EstadoCivil: string (nullable = true)\n",
            " |-- Renda: double (nullable = true)\n",
            " |-- CriançasEmCasa: long (nullable = true)\n",
            " |-- AdolescentesEmCasa: long (nullable = true)\n",
            " |-- DataDoCadastroDoCliente: timestamp (nullable = true)\n",
            " |-- DiasDaUltimaCompra: long (nullable = true)\n",
            " |-- TktMedioVinho: long (nullable = true)\n",
            " |-- TktMedioFrutas: long (nullable = true)\n",
            " |-- TktMedioCarne: long (nullable = true)\n",
            " |-- TktMedioPeixe: long (nullable = true)\n",
            " |-- TktMedioDoces: long (nullable = true)\n",
            " |-- TktMedioOuro: long (nullable = true)\n",
            " |-- ComprasEmOferta: long (nullable = true)\n",
            " |-- ComprasPelaInternet: long (nullable = true)\n",
            " |-- ComprasPeloCatalogo: long (nullable = true)\n",
            " |-- ComprasNaLoja: long (nullable = true)\n",
            " |-- VisitaPelaInternetNoMes: long (nullable = true)\n",
            " |-- AceitouCampanha3: string (nullable = true)\n",
            " |-- AceitouCampanha4: string (nullable = true)\n",
            " |-- AceitouCampanha5: string (nullable = true)\n",
            " |-- AceitouCampanha1: string (nullable = true)\n",
            " |-- AceitouCampanha2: string (nullable = true)\n",
            " |-- Reclamações: string (nullable = true)\n",
            " |-- AceitouUltimaCampanha: string (nullable = true)\n",
            "\n"
          ]
        }
      ]
    },
    {
      "cell_type": "code",
      "source": [
        "#MOSTRAR A QUANTIDADE DE REGISTROS\n",
        "df3.count()"
      ],
      "metadata": {
        "colab": {
          "base_uri": "https://localhost:8080/"
        },
        "id": "tmbCeBkO4r9B",
        "outputId": "774bea4b-4aba-4a4c-cb8b-386dc35a260e"
      },
      "execution_count": null,
      "outputs": [
        {
          "output_type": "execute_result",
          "data": {
            "text/plain": [
              "2240"
            ]
          },
          "metadata": {},
          "execution_count": 85
        }
      ]
    },
    {
      "cell_type": "code",
      "source": [
        "#CORREÇÃO DO TITULO DAS COLUNAS\n",
        "df3 = df3.withColumnRenamed('TktMedioVinho','QntVinhos')\\\n",
        "         .withColumnRenamed('TktMedioFrutas','QntFrutas')\\\n",
        "         .withColumnRenamed('TktMedioCarne','QntCarne')\\\n",
        "         .withColumnRenamed('TktMedioPeixe','QntPeixe')\\\n",
        "         .withColumnRenamed('TktMedioDoces','QntDoces')\\\n",
        "         .withColumnRenamed('TktMedioOuro','QntOuro')\n",
        "df3.show(10)"
      ],
      "metadata": {
        "colab": {
          "base_uri": "https://localhost:8080/"
        },
        "id": "cP1Vp52VNDlU",
        "outputId": "2e4bcce8-a61f-43f2-c2f7-0f6935dea29e"
      },
      "execution_count": null,
      "outputs": [
        {
          "output_type": "stream",
          "name": "stdout",
          "text": [
            "+----+---------------+---------------+-------------+-------+--------------+------------------+-----------------------+------------------+---------+---------+--------+--------+--------+-------+---------------+-------------------+-------------------+-------------+-----------------------+----------------+----------------+----------------+----------------+----------------+-----------+---------------------+\n",
            "|  ID|AnoDeNascimento|   Escolaridade|  EstadoCivil|  Renda|CriançasEmCasa|AdolescentesEmCasa|DataDoCadastroDoCliente|DiasDaUltimaCompra|QntVinhos|QntFrutas|QntCarne|QntPeixe|QntDoces|QntOuro|ComprasEmOferta|ComprasPelaInternet|ComprasPeloCatalogo|ComprasNaLoja|VisitaPelaInternetNoMes|AceitouCampanha3|AceitouCampanha4|AceitouCampanha5|AceitouCampanha1|AceitouCampanha2|Reclamações|AceitouUltimaCampanha|\n",
            "+----+---------------+---------------+-------------+-------+--------------+------------------+-----------------------+------------------+---------+---------+--------+--------+--------+-------+---------------+-------------------+-------------------+-------------+-----------------------+----------------+----------------+----------------+----------------+----------------+-----------+---------------------+\n",
            "|5524|           1957|Ensino Superior|     Solteiro|58138.0|             0|                 0|    2012-04-09 00:00:00|                58|      635|       88|     546|     172|      88|     88|              3|                  8|                 10|            4|                      7|             NÃO|             NÃO|             NÃO|             NÃO|             NÃO|        NÃO|                  SIM|\n",
            "|2174|           1954|Ensino Superior|     Solteiro|46344.0|             1|                 1|    2014-08-03 00:00:00|                38|       11|        1|       6|       2|       1|      6|              2|                  1|                  1|            2|                      5|             NÃO|             NÃO|             NÃO|             NÃO|             NÃO|        NÃO|                  NÃO|\n",
            "|4141|           1965|Ensino Superior|União Estável|71613.0|             0|                 0|    2013-08-21 00:00:00|                26|      426|       49|     127|     111|      21|     42|              1|                  8|                  2|           10|                      4|             NÃO|             NÃO|             NÃO|             NÃO|             NÃO|        NÃO|                  NÃO|\n",
            "|6182|           1984|Ensino Superior|União Estável|26646.0|             1|                 0|    2014-10-02 00:00:00|                26|       11|        4|      20|      10|       3|      5|              2|                  2|                  0|            4|                      6|             NÃO|             NÃO|             NÃO|             NÃO|             NÃO|        NÃO|                  NÃO|\n",
            "|5324|           1981|      Doutorado|       Casado|58293.0|             1|                 0|    2014-01-19 00:00:00|                94|      173|       43|     118|      46|      27|     15|              5|                  5|                  3|            6|                      5|             NÃO|             NÃO|             NÃO|             NÃO|             NÃO|        NÃO|                  NÃO|\n",
            "|7446|           1967|       Mestrado|União Estável|62513.0|             0|                 1|    2013-09-09 00:00:00|                16|      520|       42|      98|       0|      42|     14|              2|                  6|                  4|           10|                      6|             NÃO|             NÃO|             NÃO|             NÃO|             NÃO|        NÃO|                  NÃO|\n",
            "| 965|           1971|Ensino Superior|   Divorciado|55635.0|             0|                 1|    2012-11-13 00:00:00|                34|      235|       65|     164|      50|      49|     27|              4|                  7|                  3|            7|                      6|             NÃO|             NÃO|             NÃO|             NÃO|             NÃO|        NÃO|                  NÃO|\n",
            "|6177|           1985|      Doutorado|       Casado|33454.0|             1|                 0|    2013-08-05 00:00:00|                32|       76|       10|      56|       3|       1|     23|              2|                  4|                  0|            4|                      8|             NÃO|             NÃO|             NÃO|             NÃO|             NÃO|        NÃO|                  NÃO|\n",
            "|4855|           1974|      Doutorado|União Estável|30351.0|             1|                 0|    2013-06-06 00:00:00|                19|       14|        0|      24|       3|       3|      2|              1|                  3|                  0|            2|                      9|             NÃO|             NÃO|             NÃO|             NÃO|             NÃO|        NÃO|                  SIM|\n",
            "|5899|           1950|      Doutorado|União Estável| 5648.0|             1|                 1|    2014-03-13 00:00:00|                68|       28|        0|       6|       1|       1|     13|              1|                  1|                  0|            0|                     20|             SIM|             NÃO|             NÃO|             NÃO|             NÃO|        NÃO|                  NÃO|\n",
            "+----+---------------+---------------+-------------+-------+--------------+------------------+-----------------------+------------------+---------+---------+--------+--------+--------+-------+---------------+-------------------+-------------------+-------------+-----------------------+----------------+----------------+----------------+----------------+----------------+-----------+---------------------+\n",
            "only showing top 10 rows\n",
            "\n"
          ]
        }
      ]
    },
    {
      "cell_type": "code",
      "source": [
        "#MOSTRAR COLUNAS ESPECIFICAS DE 'AnoDeNascimento', 'Escolaridade', 'EstadoCivil','DiasDaUltimaCompra'\n",
        "df3.select('AnoDeNascimento',\n",
        "           'Escolaridade',\n",
        "           'EstadoCivil',\n",
        "           'DiasDaUltimaCompra'\n",
        "           ).show(10)"
      ],
      "metadata": {
        "colab": {
          "base_uri": "https://localhost:8080/"
        },
        "id": "goyaGobY445P",
        "outputId": "917b7b8a-4225-400e-a011-22ea7de1a3ad"
      },
      "execution_count": null,
      "outputs": [
        {
          "output_type": "stream",
          "name": "stdout",
          "text": [
            "+---------------+---------------+-------------+------------------+\n",
            "|AnoDeNascimento|   Escolaridade|  EstadoCivil|DiasDaUltimaCompra|\n",
            "+---------------+---------------+-------------+------------------+\n",
            "|           1957|Ensino Superior|     Solteiro|                58|\n",
            "|           1954|Ensino Superior|     Solteiro|                38|\n",
            "|           1965|Ensino Superior|União Estável|                26|\n",
            "|           1984|Ensino Superior|União Estável|                26|\n",
            "|           1981|      Doutorado|       Casado|                94|\n",
            "|           1967|       Mestrado|União Estável|                16|\n",
            "|           1971|Ensino Superior|   Divorciado|                34|\n",
            "|           1985|      Doutorado|       Casado|                32|\n",
            "|           1974|      Doutorado|União Estável|                19|\n",
            "|           1950|      Doutorado|União Estável|                68|\n",
            "+---------------+---------------+-------------+------------------+\n",
            "only showing top 10 rows\n",
            "\n"
          ]
        }
      ]
    },
    {
      "cell_type": "code",
      "source": [
        "#MOSTRAR COLUNAS ESPECIFICAS POR CLIENTE ('ID'), 'QntVinhos','QntFrutas','QntCarne','QntPeixe','QntDoces','QntOuro'\n",
        "df3.select('ID',\n",
        "           'QntVinhos',\n",
        "           'QntFrutas',\n",
        "           'QntCarne',\n",
        "           'QntPeixe',\n",
        "           'QntDoces',\n",
        "           'QntOuro'\n",
        "           ).show(10)"
      ],
      "metadata": {
        "colab": {
          "base_uri": "https://localhost:8080/"
        },
        "id": "FJSE9W373W9K",
        "outputId": "a7562a0e-4e9c-4ec2-a817-43c48a8e8839"
      },
      "execution_count": null,
      "outputs": [
        {
          "output_type": "stream",
          "name": "stdout",
          "text": [
            "+----+---------+---------+--------+--------+--------+-------+\n",
            "|  ID|QntVinhos|QntFrutas|QntCarne|QntPeixe|QntDoces|QntOuro|\n",
            "+----+---------+---------+--------+--------+--------+-------+\n",
            "|5524|      635|       88|     546|     172|      88|     88|\n",
            "|2174|       11|        1|       6|       2|       1|      6|\n",
            "|4141|      426|       49|     127|     111|      21|     42|\n",
            "|6182|       11|        4|      20|      10|       3|      5|\n",
            "|5324|      173|       43|     118|      46|      27|     15|\n",
            "|7446|      520|       42|      98|       0|      42|     14|\n",
            "| 965|      235|       65|     164|      50|      49|     27|\n",
            "|6177|       76|       10|      56|       3|       1|     23|\n",
            "|4855|       14|        0|      24|       3|       3|      2|\n",
            "|5899|       28|        0|       6|       1|       1|     13|\n",
            "+----+---------+---------+--------+--------+--------+-------+\n",
            "only showing top 10 rows\n",
            "\n"
          ]
        }
      ]
    },
    {
      "cell_type": "code",
      "source": [
        "#SOMA TOTAL DAS COMPRAS POR TIPO DE PRODUTO\n",
        "dfCompras = df3.agg(F.sum('QntVinhos').alias('TOTAL DE VINHOS COMPRADOS'),\\\n",
        "                    F.sum('QntFrutas').alias('TOTAL DE FRUTAS COMPRADAS'),\\\n",
        "                    F.sum('QntCarne').alias('TOTAL DE CARNE COMPRADAS'),\\\n",
        "                    F.sum('QntPeixe').alias('TOTAL DE PEIXE COMPRADOS'),\\\n",
        "                    F.sum('QntDoces').alias('TOTAL DE DOCES COMPRADOS'),\\\n",
        "                    F.sum('QntOuro').alias('TOTAL DE OURO COMPRADO'),\\\n",
        "                    )\n",
        "dfCompras.show()"
      ],
      "metadata": {
        "colab": {
          "base_uri": "https://localhost:8080/"
        },
        "id": "dMvNewZL-XWL",
        "outputId": "0fbdbb34-dc0e-41c9-f33d-1fbf80ad16f8"
      },
      "execution_count": null,
      "outputs": [
        {
          "output_type": "stream",
          "name": "stdout",
          "text": [
            "+-------------------------+-------------------------+------------------------+------------------------+------------------------+----------------------+\n",
            "|TOTAL DE VINHOS COMPRADOS|TOTAL DE FRUTAS COMPRADAS|TOTAL DE CARNE COMPRADAS|TOTAL DE PEIXE COMPRADOS|TOTAL DE DOCES COMPRADOS|TOTAL DE OURO COMPRADO|\n",
            "+-------------------------+-------------------------+------------------------+------------------------+------------------------+----------------------+\n",
            "|                   680816|                    58917|                  373968|                   84057|                   60621|                 98609|\n",
            "+-------------------------+-------------------------+------------------------+------------------------+------------------------+----------------------+\n",
            "\n"
          ]
        }
      ]
    },
    {
      "cell_type": "code",
      "source": [
        "#MÉDIA TOTAL DAS COMPRAS POR TIPO DE PRODUTO + MÉDIA DE IDADE DOS CLIENTES\n",
        "dfMedias = df3.agg(F.round(2022 - F.mean('AnoDeNascimento')).cast(IntegerType()).alias('MEDIA DE IDADE DOS CLIENTES'),\\\n",
        "                   F.mean('QntVinhos').cast(IntegerType()).alias('MÉDIA DE VINHOS COMPRADOS'),\\\n",
        "                   F.mean('QntFrutas').cast(IntegerType()).alias('MÉDIA DE FRUTAS COMPRADAS'),\\\n",
        "                   F.mean('QntCarne').cast(IntegerType()).alias('MÉDIA DE CARNE COMPRADAS'),\\\n",
        "                   F.mean('QntPeixe').cast(IntegerType()).alias('MÉDIA DE PEIXE COMPRADOS'),\\\n",
        "                   F.mean('QntDoces').cast(IntegerType()).alias('MÉDIA DE DOCES COMPRADOS'),\\\n",
        "                   F.mean('QntOuro').cast(IntegerType()).alias('MÉDIA DE OURO COMPRADO'),\\\n",
        "                   )\n",
        "dfMedias.show()"
      ],
      "metadata": {
        "colab": {
          "base_uri": "https://localhost:8080/"
        },
        "id": "L5bX6-lGAZHy",
        "outputId": "5d2c2ea2-9b00-46a4-91ce-5b6674d614d6"
      },
      "execution_count": null,
      "outputs": [
        {
          "output_type": "stream",
          "name": "stdout",
          "text": [
            "+---------------------------+-------------------------+-------------------------+------------------------+------------------------+------------------------+----------------------+\n",
            "|MEDIA DE IDADE DOS CLIENTES|MÉDIA DE VINHOS COMPRADOS|MÉDIA DE FRUTAS COMPRADAS|MÉDIA DE CARNE COMPRADAS|MÉDIA DE PEIXE COMPRADOS|MÉDIA DE DOCES COMPRADOS|MÉDIA DE OURO COMPRADO|\n",
            "+---------------------------+-------------------------+-------------------------+------------------------+------------------------+------------------------+----------------------+\n",
            "|                         53|                      303|                       26|                     166|                      37|                      27|                    44|\n",
            "+---------------------------+-------------------------+-------------------------+------------------------+------------------------+------------------------+----------------------+\n",
            "\n"
          ]
        }
      ]
    },
    {
      "cell_type": "code",
      "source": [
        "#SOMA TOTAL DAS COMPRAS EM OFERTA E LOCAL DE COMPRA\n",
        "dflocalCompras = df3.agg(F.sum('ComprasEmOferta').alias('TOTAL DE COMPRAS EM OFERTA'),\\\n",
        "                         F.sum('ComprasPelaInternet').alias('TOTAL DE COMPRAS PELA INTERNET'),\\\n",
        "                         F.sum('ComprasPeloCatalogo').alias('TOTAL DE COMPRAS PELO CATALOGO'),\\\n",
        "                         F.sum('ComprasNaLoja').alias('TOTAL DE COMPRAS NA LOJA'),\\\n",
        "                         )\n",
        "dflocalCompras.show()"
      ],
      "metadata": {
        "colab": {
          "base_uri": "https://localhost:8080/"
        },
        "id": "eCN4ww0RU_K9",
        "outputId": "16afd0b9-4f5d-4e44-ee55-7180ab5b25d3"
      },
      "execution_count": null,
      "outputs": [
        {
          "output_type": "stream",
          "name": "stdout",
          "text": [
            "+--------------------------+------------------------------+------------------------------+------------------------+\n",
            "|TOTAL DE COMPRAS EM OFERTA|TOTAL DE COMPRAS PELA INTERNET|TOTAL DE COMPRAS PELO CATALOGO|TOTAL DE COMPRAS NA LOJA|\n",
            "+--------------------------+------------------------------+------------------------------+------------------------+\n",
            "|                      5208|                          9150|                          5963|                   12970|\n",
            "+--------------------------+------------------------------+------------------------------+------------------------+\n",
            "\n"
          ]
        }
      ]
    },
    {
      "cell_type": "code",
      "source": [
        "#MÉDIA DAS COMPRAS EM OFERTA E LOCAL DE COMPRA POR CLIENTE\n",
        "dfMEDlocalCompras = df3.agg(F.mean('ComprasEmOferta').cast(IntegerType()).alias('MÉDIA DE COMPRAS EM OFERTA'),\\\n",
        "                         F.mean('ComprasPelaInternet').cast(IntegerType()).alias('MÉDIA DE COMPRAS PELA INTERNET'),\\\n",
        "                         F.mean('ComprasPeloCatalogo').cast(IntegerType()).alias('MÉDIA DE COMPRAS PELO CATALOGO'),\\\n",
        "                         F.mean('ComprasNaLoja').cast(IntegerType()).alias('MÉDIA DE COMPRAS NA LOJA'),\\\n",
        "                         )\n",
        "dfMEDlocalCompras.show()"
      ],
      "metadata": {
        "colab": {
          "base_uri": "https://localhost:8080/"
        },
        "id": "SAvWWcMhWl_K",
        "outputId": "7d789c0c-61f0-44d8-94a0-daa798f566d0"
      },
      "execution_count": null,
      "outputs": [
        {
          "output_type": "stream",
          "name": "stdout",
          "text": [
            "+--------------------------+------------------------------+------------------------------+------------------------+\n",
            "|MÉDIA DE COMPRAS EM OFERTA|MÉDIA DE COMPRAS PELA INTERNET|MÉDIA DE COMPRAS PELO CATALOGO|MÉDIA DE COMPRAS NA LOJA|\n",
            "+--------------------------+------------------------------+------------------------------+------------------------+\n",
            "|                         2|                             4|                             2|                       5|\n",
            "+--------------------------+------------------------------+------------------------------+------------------------+\n",
            "\n"
          ]
        }
      ]
    },
    {
      "cell_type": "code",
      "source": [
        "#ADICIONANDO AS COLUNAS 'Idade', 'Dependentes', 'QntProdutosTotal', 'TotalDeCompras' \n",
        "df4 = df3.withColumn('Idade', 2022 - df3.AnoDeNascimento)\\\n",
        "         .withColumn('Dependentes', df3.CriançasEmCasa+df3.AdolescentesEmCasa)\\\n",
        "         .withColumn('QntProdutosTotal', df3.QntVinhos+df3.QntFrutas+df3.QntCarne+df3.QntPeixe+df3.QntDoces+df3.QntOuro)\\\n",
        "         .withColumn('TotalDeCompras',df3.ComprasPelaInternet+df3.ComprasPeloCatalogo+df3.ComprasNaLoja)\n",
        "         \n",
        "df4.show()"
      ],
      "metadata": {
        "colab": {
          "base_uri": "https://localhost:8080/"
        },
        "id": "jaowkmDGmTee",
        "outputId": "4c97c9d5-247c-4371-9b3e-725c30dd2c9f"
      },
      "execution_count": null,
      "outputs": [
        {
          "output_type": "stream",
          "name": "stdout",
          "text": [
            "+----+---------------+------------------+-------------+-------+--------------+------------------+-----------------------+------------------+---------+---------+--------+--------+--------+-------+---------------+-------------------+-------------------+-------------+-----------------------+----------------+----------------+----------------+----------------+----------------+-----------+---------------------+-----+-----------+----------------+--------------+\n",
            "|  ID|AnoDeNascimento|      Escolaridade|  EstadoCivil|  Renda|CriançasEmCasa|AdolescentesEmCasa|DataDoCadastroDoCliente|DiasDaUltimaCompra|QntVinhos|QntFrutas|QntCarne|QntPeixe|QntDoces|QntOuro|ComprasEmOferta|ComprasPelaInternet|ComprasPeloCatalogo|ComprasNaLoja|VisitaPelaInternetNoMes|AceitouCampanha3|AceitouCampanha4|AceitouCampanha5|AceitouCampanha1|AceitouCampanha2|Reclamações|AceitouUltimaCampanha|Idade|Dependentes|QntProdutosTotal|TotalDeCompras|\n",
            "+----+---------------+------------------+-------------+-------+--------------+------------------+-----------------------+------------------+---------+---------+--------+--------+--------+-------+---------------+-------------------+-------------------+-------------+-----------------------+----------------+----------------+----------------+----------------+----------------+-----------+---------------------+-----+-----------+----------------+--------------+\n",
            "|5524|           1957|   Ensino Superior|     Solteiro|58138.0|             0|                 0|    2012-04-09 00:00:00|                58|      635|       88|     546|     172|      88|     88|              3|                  8|                 10|            4|                      7|             NÃO|             NÃO|             NÃO|             NÃO|             NÃO|        NÃO|                  SIM|   65|          0|            1617|            22|\n",
            "|2174|           1954|   Ensino Superior|     Solteiro|46344.0|             1|                 1|    2014-08-03 00:00:00|                38|       11|        1|       6|       2|       1|      6|              2|                  1|                  1|            2|                      5|             NÃO|             NÃO|             NÃO|             NÃO|             NÃO|        NÃO|                  NÃO|   68|          2|              27|             4|\n",
            "|4141|           1965|   Ensino Superior|União Estável|71613.0|             0|                 0|    2013-08-21 00:00:00|                26|      426|       49|     127|     111|      21|     42|              1|                  8|                  2|           10|                      4|             NÃO|             NÃO|             NÃO|             NÃO|             NÃO|        NÃO|                  NÃO|   57|          0|             776|            20|\n",
            "|6182|           1984|   Ensino Superior|União Estável|26646.0|             1|                 0|    2014-10-02 00:00:00|                26|       11|        4|      20|      10|       3|      5|              2|                  2|                  0|            4|                      6|             NÃO|             NÃO|             NÃO|             NÃO|             NÃO|        NÃO|                  NÃO|   38|          1|              53|             6|\n",
            "|5324|           1981|         Doutorado|       Casado|58293.0|             1|                 0|    2014-01-19 00:00:00|                94|      173|       43|     118|      46|      27|     15|              5|                  5|                  3|            6|                      5|             NÃO|             NÃO|             NÃO|             NÃO|             NÃO|        NÃO|                  NÃO|   41|          1|             422|            14|\n",
            "|7446|           1967|          Mestrado|União Estável|62513.0|             0|                 1|    2013-09-09 00:00:00|                16|      520|       42|      98|       0|      42|     14|              2|                  6|                  4|           10|                      6|             NÃO|             NÃO|             NÃO|             NÃO|             NÃO|        NÃO|                  NÃO|   55|          1|             716|            20|\n",
            "| 965|           1971|   Ensino Superior|   Divorciado|55635.0|             0|                 1|    2012-11-13 00:00:00|                34|      235|       65|     164|      50|      49|     27|              4|                  7|                  3|            7|                      6|             NÃO|             NÃO|             NÃO|             NÃO|             NÃO|        NÃO|                  NÃO|   51|          1|             590|            17|\n",
            "|6177|           1985|         Doutorado|       Casado|33454.0|             1|                 0|    2013-08-05 00:00:00|                32|       76|       10|      56|       3|       1|     23|              2|                  4|                  0|            4|                      8|             NÃO|             NÃO|             NÃO|             NÃO|             NÃO|        NÃO|                  NÃO|   37|          1|             169|             8|\n",
            "|4855|           1974|         Doutorado|União Estável|30351.0|             1|                 0|    2013-06-06 00:00:00|                19|       14|        0|      24|       3|       3|      2|              1|                  3|                  0|            2|                      9|             NÃO|             NÃO|             NÃO|             NÃO|             NÃO|        NÃO|                  SIM|   48|          1|              46|             5|\n",
            "|5899|           1950|         Doutorado|União Estável| 5648.0|             1|                 1|    2014-03-13 00:00:00|                68|       28|        0|       6|       1|       1|     13|              1|                  1|                  0|            0|                     20|             SIM|             NÃO|             NÃO|             NÃO|             NÃO|        NÃO|                  NÃO|   72|          2|              49|             1|\n",
            "|1994|           1983|   Ensino Superior|       Casado|    NaN|             1|                 0|    2013-11-15 00:00:00|                11|        5|        5|       6|       0|       2|      1|              1|                  1|                  0|            2|                      7|             NÃO|             NÃO|             NÃO|             NÃO|             NÃO|        NÃO|                  NÃO|   39|          1|              19|             3|\n",
            "| 387|           1976|Ensino Fundamental|       Casado| 7500.0|             0|                 0|    2012-11-13 00:00:00|                59|        6|       16|      11|      11|       1|     16|              1|                  2|                  0|            3|                      8|             NÃO|             NÃO|             NÃO|             NÃO|             NÃO|        NÃO|                  NÃO|   46|          0|              61|             5|\n",
            "|2125|           1959|   Ensino Superior|   Divorciado|63033.0|             0|                 0|    2013-11-15 00:00:00|                82|      194|       61|     480|     225|     112|     30|              1|                  3|                  4|            8|                      2|             NÃO|             NÃO|             NÃO|             NÃO|             NÃO|        NÃO|                  NÃO|   63|          0|            1102|            15|\n",
            "|8180|           1952|          Mestrado|   Divorciado|59354.0|             1|                 1|    2013-11-15 00:00:00|                53|      233|        2|      53|       3|       5|     14|              3|                  6|                  1|            5|                      6|             NÃO|             NÃO|             NÃO|             NÃO|             NÃO|        NÃO|                  NÃO|   70|          2|             310|            12|\n",
            "|2569|           1987|   Ensino Superior|       Casado|17323.0|             0|                 0|    2012-10-10 00:00:00|                38|        3|       14|      17|       6|       1|      5|              1|                  1|                  0|            3|                      8|             NÃO|             NÃO|             NÃO|             NÃO|             NÃO|        NÃO|                  NÃO|   35|          0|              46|             4|\n",
            "|2114|           1946|         Doutorado|     Solteiro|82800.0|             0|                 0|    2012-11-24 00:00:00|                23|     1006|       22|     115|      59|      68|     45|              1|                  7|                  6|           12|                      3|             NÃO|             NÃO|             SIM|             SIM|             NÃO|        NÃO|                  SIM|   76|          0|            1315|            25|\n",
            "|9736|           1980|   Ensino Superior|       Casado|41850.0|             1|                 1|    2012-12-24 00:00:00|                51|       53|        5|      19|       2|      13|      4|              3|                  3|                  0|            3|                      8|             NÃO|             NÃO|             NÃO|             NÃO|             NÃO|        NÃO|                  NÃO|   42|          2|              96|             6|\n",
            "|4939|           1946|   Ensino Superior|União Estável|37760.0|             0|                 0|    2012-08-31 00:00:00|                20|       84|        5|      38|     150|      12|     28|              2|                  4|                  1|            6|                      7|             NÃO|             NÃO|             NÃO|             NÃO|             NÃO|        NÃO|                  NÃO|   76|          0|             317|            11|\n",
            "|6565|           1949|          Mestrado|       Casado|76995.0|             0|                 1|    2013-03-28 00:00:00|                91|     1012|       80|     498|       0|      16|    176|              2|                 11|                  4|            9|                      5|             NÃO|             NÃO|             NÃO|             SIM|             NÃO|        NÃO|                  NÃO|   73|          1|            1782|            24|\n",
            "|2278|           1985|      Ensino Médio|     Solteiro|33812.0|             1|                 0|    2012-03-11 00:00:00|                86|        4|       17|      19|      30|      24|     39|              2|                  2|                  1|            3|                      6|             NÃO|             NÃO|             NÃO|             NÃO|             NÃO|        NÃO|                  NÃO|   37|          1|             133|             6|\n",
            "+----+---------------+------------------+-------------+-------+--------------+------------------+-----------------------+------------------+---------+---------+--------+--------+--------+-------+---------------+-------------------+-------------------+-------------+-----------------------+----------------+----------------+----------------+----------------+----------------+-----------+---------------------+-----+-----------+----------------+--------------+\n",
            "only showing top 20 rows\n",
            "\n"
          ]
        }
      ]
    },
    {
      "cell_type": "markdown",
      "source": [
        "WINDOW FUNCTIONS"
      ],
      "metadata": {
        "id": "7f8mN5myys7k"
      }
    },
    {
      "cell_type": "code",
      "source": [
        "#CRIANDO UMA CÓPIA DO DF4 NO DF5\n",
        "df5 = df4"
      ],
      "metadata": {
        "id": "B15Jy0oU0bhA"
      },
      "execution_count": null,
      "outputs": []
    },
    {
      "cell_type": "code",
      "source": [
        "#CRIANDO UMA PARTIÇÃO\n",
        "w0 = Window.partitionBy(F.col('Escolaridade')).orderBy('Renda')"
      ],
      "metadata": {
        "id": "hJcvUNTGD0ku"
      },
      "execution_count": null,
      "outputs": []
    },
    {
      "cell_type": "code",
      "source": [
        "#USANDO A FUNÇÃO RANK\n",
        "df5.withColumn('Rank', F.rank().over(w0)).show()                                  "
      ],
      "metadata": {
        "colab": {
          "base_uri": "https://localhost:8080/"
        },
        "id": "0kDZw6B8yrLT",
        "outputId": "36228ceb-5bdd-4fad-83dd-3ad18d7c5ad9"
      },
      "execution_count": null,
      "outputs": [
        {
          "output_type": "stream",
          "name": "stdout",
          "text": [
            "+-----+---------------+------------+-------------+-------+--------------+------------------+-----------------------+------------------+---------+---------+--------+--------+--------+-------+---------------+-------------------+-------------------+-------------+-----------------------+----------------+----------------+----------------+----------------+----------------+-----------+---------------------+-----+-----------+----------------+--------------+----+\n",
            "|   ID|AnoDeNascimento|Escolaridade|  EstadoCivil|  Renda|CriançasEmCasa|AdolescentesEmCasa|DataDoCadastroDoCliente|DiasDaUltimaCompra|QntVinhos|QntFrutas|QntCarne|QntPeixe|QntDoces|QntOuro|ComprasEmOferta|ComprasPelaInternet|ComprasPeloCatalogo|ComprasNaLoja|VisitaPelaInternetNoMes|AceitouCampanha3|AceitouCampanha4|AceitouCampanha5|AceitouCampanha1|AceitouCampanha2|Reclamações|AceitouUltimaCampanha|Idade|Dependentes|QntProdutosTotal|TotalDeCompras|Rank|\n",
            "+-----+---------------+------------+-------------+-------+--------------+------------------+-----------------------+------------------+---------+---------+--------+--------+--------+-------+---------------+-------------------+-------------------+-------------+-----------------------+----------------+----------------+----------------+----------------+----------------+-----------+---------------------+-----+-----------+----------------+--------------+----+\n",
            "| 9931|           1963|   Doutorado|       Casado| 4023.0|             1|                 1|    2014-06-23 00:00:00|                29|        5|        0|       1|       1|       1|      1|             15|                  0|                  0|            0|                     19|             NÃO|             NÃO|             NÃO|             NÃO|             NÃO|        NÃO|                  NÃO|   59|          2|               9|             0|   1|\n",
            "| 5899|           1950|   Doutorado|União Estável| 5648.0|             1|                 1|    2014-03-13 00:00:00|                68|       28|        0|       6|       1|       1|     13|              1|                  1|                  0|            0|                     20|             SIM|             NÃO|             NÃO|             NÃO|             NÃO|        NÃO|                  NÃO|   72|          2|              49|             1|   2|\n",
            "| 4303|           1957|   Doutorado|União Estável| 6835.0|             0|                 1|    2012-08-12 00:00:00|                76|      107|        2|      12|       2|       2|     12|              0|                  0|                  0|            1|                     20|             NÃO|             NÃO|             NÃO|             NÃO|             NÃO|        NÃO|                  NÃO|   65|          1|             137|             1|   3|\n",
            "| 6237|           1966|   Doutorado|     Solteiro| 7144.0|             0|                 2|    2013-07-12 00:00:00|                92|       81|        4|      33|       5|       2|    291|              0|                 23|                  1|            1|                      0|             NÃO|             NÃO|             NÃO|             NÃO|             NÃO|        NÃO|                  NÃO|   56|          2|             416|            25|   4|\n",
            "| 5835|           1976|   Doutorado|   Divorciado|14849.0|             1|                 0|    2013-02-07 00:00:00|                39|       21|        2|      28|       3|       2|      9|              3|                  2|                  0|            4|                      8|             NÃO|             NÃO|             NÃO|             NÃO|             NÃO|        NÃO|                  NÃO|   46|          1|              65|             6|   5|\n",
            "|11010|           1984|   Doutorado|     Solteiro|16269.0|             1|                 0|    2013-08-30 00:00:00|                75|       19|        3|      18|       3|       1|      0|              3|                  3|                  0|            3|                      8|             NÃO|             NÃO|             NÃO|             NÃO|             NÃO|        NÃO|                  NÃO|   38|          1|              44|             6|   6|\n",
            "|10031|           1976|   Doutorado|       Casado|16927.0|             1|                 1|    2013-10-02 00:00:00|                50|       20|        2|      23|       3|       1|      4|              5|                  3|                  0|            4|                      8|             NÃO|             NÃO|             NÃO|             NÃO|             NÃO|        NÃO|                  NÃO|   46|          2|              53|             7|   7|\n",
            "|10790|           1985|   Doutorado|       Casado|18169.0|             1|                 0|    2013-02-19 00:00:00|                40|        9|        0|       5|       0|       0|      7|              1|                  1|                  0|            2|                      8|             NÃO|             NÃO|             NÃO|             NÃO|             NÃO|        NÃO|                  NÃO|   37|          1|              21|             3|   8|\n",
            "| 4329|           1984|   Doutorado|       Casado|18988.0|             1|                 0|    2014-05-23 00:00:00|                43|        6|        0|       6|       2|       1|      1|              2|                  1|                  0|            3|                      7|             NÃO|             NÃO|             NÃO|             NÃO|             NÃO|        NÃO|                  NÃO|   38|          1|              16|             4|   9|\n",
            "| 4298|           1973|   Doutorado|União Estável|20427.0|             1|                 0|    2014-03-24 00:00:00|                63|        5|        0|       4|       0|       0|      1|              1|                  1|                  0|            2|                      8|             NÃO|             NÃO|             NÃO|             NÃO|             NÃO|        NÃO|                  NÃO|   49|          1|              10|             3|  10|\n",
            "| 2549|           1983|   Doutorado|União Estável|21840.0|             1|                 0|    2013-07-21 00:00:00|                80|       17|        0|       9|       0|       0|      1|              1|                  1|                  0|            3|                      9|             NÃO|             NÃO|             NÃO|             NÃO|             NÃO|        NÃO|                  NÃO|   39|          1|              27|             4|  11|\n",
            "| 2156|           1955|   Doutorado|       Casado|22554.0|             1|                 1|    2012-03-11 00:00:00|                38|       27|        0|      10|       0|       0|      4|              4|                  2|                  0|            4|                      5|             NÃO|             NÃO|             NÃO|             NÃO|             NÃO|        NÃO|                  NÃO|   67|          2|              41|             6|  12|\n",
            "|  213|           1963|   Doutorado|     Solteiro|23091.0|             1|                 1|    2014-05-28 00:00:00|                98|       35|        0|      11|       0|       0|      2|              4|                  2|                  1|            3|                      7|             NÃO|             NÃO|             NÃO|             NÃO|             NÃO|        NÃO|                  NÃO|   59|          2|              48|             6|  13|\n",
            "| 7788|           1983|   Doutorado|       Casado|23536.0|             1|                 0|    2014-04-06 00:00:00|                53|        6|        0|       3|       0|       0|      1|              1|                  0|                  0|            3|                      3|             NÃO|             NÃO|             NÃO|             NÃO|             NÃO|        NÃO|                  NÃO|   39|          1|              10|             3|  14|\n",
            "| 2230|           1970|   Doutorado|       Casado|23626.0|             1|                 0|    2014-05-24 00:00:00|                84|       27|        2|      14|       0|       0|      0|              3|                  3|                  1|            3|                      5|             NÃO|             NÃO|             NÃO|             NÃO|             NÃO|        NÃO|                  NÃO|   52|          1|              43|             7|  15|\n",
            "|   13|           1947|   Doutorado|        Viúvo|25358.0|             0|                 1|    2013-07-22 00:00:00|                57|       19|        0|       5|       0|       0|      8|              2|                  1|                  0|            3|                      6|             NÃO|             NÃO|             NÃO|             NÃO|             NÃO|        NÃO|                  NÃO|   75|          1|              32|             4|  16|\n",
            "| 5093|           1974|   Doutorado|   Divorciado|25509.0|             1|                 0|    2012-09-18 00:00:00|                15|       40|        3|      30|      10|       7|     11|              3|                  3|                  0|            3|                      9|             NÃO|             NÃO|             NÃO|             NÃO|             NÃO|        NÃO|                  SIM|   48|          1|             101|             6|  17|\n",
            "| 8524|           1974|   Doutorado|   Divorciado|25509.0|             1|                 0|    2012-09-18 00:00:00|                15|       40|        3|      30|      10|       7|     11|              3|                  3|                  0|            3|                      9|             NÃO|             NÃO|             NÃO|             NÃO|             NÃO|        NÃO|                  SIM|   48|          1|             101|             6|  17|\n",
            "| 2868|           1949|   Doutorado|     Solteiro|26518.0|             1|                 1|    2013-08-04 00:00:00|                33|       20|        1|      28|       3|       3|      2|              3|                  2|                  0|            3|                      8|             NÃO|             NÃO|             NÃO|             NÃO|             NÃO|        NÃO|                  SIM|   73|          2|              57|             5|  19|\n",
            "| 3286|           1967|   Doutorado|   Divorciado|26642.0|             1|                 0|    2014-01-03 00:00:00|                71|       13|        2|      15|       2|       2|      8|              2|                  2|                  0|            3|                      6|             NÃO|             NÃO|             NÃO|             NÃO|             NÃO|        NÃO|                  NÃO|   55|          1|              42|             5|  20|\n",
            "+-----+---------------+------------+-------------+-------+--------------+------------------+-----------------------+------------------+---------+---------+--------+--------+--------+-------+---------------+-------------------+-------------------+-------------+-----------------------+----------------+----------------+----------------+----------------+----------------+-----------+---------------------+-----+-----------+----------------+--------------+----+\n",
            "only showing top 20 rows\n",
            "\n"
          ]
        }
      ]
    },
    {
      "cell_type": "code",
      "source": [
        "#USANDO A FUNÇÃO 'DENSE_RANK' QUE FAZ O RANQUEAMENTO ENTRE TODOS OS DEPARTAMENTOS\n",
        "df5.withColumn('dense_rank', F.dense_rank().over(w0)).show()"
      ],
      "metadata": {
        "colab": {
          "base_uri": "https://localhost:8080/"
        },
        "id": "b1h-RGd5Fpmw",
        "outputId": "8f263d0c-ed03-446d-aa6c-6954f913a27c"
      },
      "execution_count": null,
      "outputs": [
        {
          "output_type": "stream",
          "name": "stdout",
          "text": [
            "+-----+---------------+------------+-------------+-------+--------------+------------------+-----------------------+------------------+---------+---------+--------+--------+--------+-------+---------------+-------------------+-------------------+-------------+-----------------------+----------------+----------------+----------------+----------------+----------------+-----------+---------------------+-----+-----------+----------------+--------------+----------+\n",
            "|   ID|AnoDeNascimento|Escolaridade|  EstadoCivil|  Renda|CriançasEmCasa|AdolescentesEmCasa|DataDoCadastroDoCliente|DiasDaUltimaCompra|QntVinhos|QntFrutas|QntCarne|QntPeixe|QntDoces|QntOuro|ComprasEmOferta|ComprasPelaInternet|ComprasPeloCatalogo|ComprasNaLoja|VisitaPelaInternetNoMes|AceitouCampanha3|AceitouCampanha4|AceitouCampanha5|AceitouCampanha1|AceitouCampanha2|Reclamações|AceitouUltimaCampanha|Idade|Dependentes|QntProdutosTotal|TotalDeCompras|dense_rank|\n",
            "+-----+---------------+------------+-------------+-------+--------------+------------------+-----------------------+------------------+---------+---------+--------+--------+--------+-------+---------------+-------------------+-------------------+-------------+-----------------------+----------------+----------------+----------------+----------------+----------------+-----------+---------------------+-----+-----------+----------------+--------------+----------+\n",
            "| 9931|           1963|   Doutorado|       Casado| 4023.0|             1|                 1|    2014-06-23 00:00:00|                29|        5|        0|       1|       1|       1|      1|             15|                  0|                  0|            0|                     19|             NÃO|             NÃO|             NÃO|             NÃO|             NÃO|        NÃO|                  NÃO|   59|          2|               9|             0|         1|\n",
            "| 5899|           1950|   Doutorado|União Estável| 5648.0|             1|                 1|    2014-03-13 00:00:00|                68|       28|        0|       6|       1|       1|     13|              1|                  1|                  0|            0|                     20|             SIM|             NÃO|             NÃO|             NÃO|             NÃO|        NÃO|                  NÃO|   72|          2|              49|             1|         2|\n",
            "| 4303|           1957|   Doutorado|União Estável| 6835.0|             0|                 1|    2012-08-12 00:00:00|                76|      107|        2|      12|       2|       2|     12|              0|                  0|                  0|            1|                     20|             NÃO|             NÃO|             NÃO|             NÃO|             NÃO|        NÃO|                  NÃO|   65|          1|             137|             1|         3|\n",
            "| 6237|           1966|   Doutorado|     Solteiro| 7144.0|             0|                 2|    2013-07-12 00:00:00|                92|       81|        4|      33|       5|       2|    291|              0|                 23|                  1|            1|                      0|             NÃO|             NÃO|             NÃO|             NÃO|             NÃO|        NÃO|                  NÃO|   56|          2|             416|            25|         4|\n",
            "| 5835|           1976|   Doutorado|   Divorciado|14849.0|             1|                 0|    2013-02-07 00:00:00|                39|       21|        2|      28|       3|       2|      9|              3|                  2|                  0|            4|                      8|             NÃO|             NÃO|             NÃO|             NÃO|             NÃO|        NÃO|                  NÃO|   46|          1|              65|             6|         5|\n",
            "|11010|           1984|   Doutorado|     Solteiro|16269.0|             1|                 0|    2013-08-30 00:00:00|                75|       19|        3|      18|       3|       1|      0|              3|                  3|                  0|            3|                      8|             NÃO|             NÃO|             NÃO|             NÃO|             NÃO|        NÃO|                  NÃO|   38|          1|              44|             6|         6|\n",
            "|10031|           1976|   Doutorado|       Casado|16927.0|             1|                 1|    2013-10-02 00:00:00|                50|       20|        2|      23|       3|       1|      4|              5|                  3|                  0|            4|                      8|             NÃO|             NÃO|             NÃO|             NÃO|             NÃO|        NÃO|                  NÃO|   46|          2|              53|             7|         7|\n",
            "|10790|           1985|   Doutorado|       Casado|18169.0|             1|                 0|    2013-02-19 00:00:00|                40|        9|        0|       5|       0|       0|      7|              1|                  1|                  0|            2|                      8|             NÃO|             NÃO|             NÃO|             NÃO|             NÃO|        NÃO|                  NÃO|   37|          1|              21|             3|         8|\n",
            "| 4329|           1984|   Doutorado|       Casado|18988.0|             1|                 0|    2014-05-23 00:00:00|                43|        6|        0|       6|       2|       1|      1|              2|                  1|                  0|            3|                      7|             NÃO|             NÃO|             NÃO|             NÃO|             NÃO|        NÃO|                  NÃO|   38|          1|              16|             4|         9|\n",
            "| 4298|           1973|   Doutorado|União Estável|20427.0|             1|                 0|    2014-03-24 00:00:00|                63|        5|        0|       4|       0|       0|      1|              1|                  1|                  0|            2|                      8|             NÃO|             NÃO|             NÃO|             NÃO|             NÃO|        NÃO|                  NÃO|   49|          1|              10|             3|        10|\n",
            "| 2549|           1983|   Doutorado|União Estável|21840.0|             1|                 0|    2013-07-21 00:00:00|                80|       17|        0|       9|       0|       0|      1|              1|                  1|                  0|            3|                      9|             NÃO|             NÃO|             NÃO|             NÃO|             NÃO|        NÃO|                  NÃO|   39|          1|              27|             4|        11|\n",
            "| 2156|           1955|   Doutorado|       Casado|22554.0|             1|                 1|    2012-03-11 00:00:00|                38|       27|        0|      10|       0|       0|      4|              4|                  2|                  0|            4|                      5|             NÃO|             NÃO|             NÃO|             NÃO|             NÃO|        NÃO|                  NÃO|   67|          2|              41|             6|        12|\n",
            "|  213|           1963|   Doutorado|     Solteiro|23091.0|             1|                 1|    2014-05-28 00:00:00|                98|       35|        0|      11|       0|       0|      2|              4|                  2|                  1|            3|                      7|             NÃO|             NÃO|             NÃO|             NÃO|             NÃO|        NÃO|                  NÃO|   59|          2|              48|             6|        13|\n",
            "| 7788|           1983|   Doutorado|       Casado|23536.0|             1|                 0|    2014-04-06 00:00:00|                53|        6|        0|       3|       0|       0|      1|              1|                  0|                  0|            3|                      3|             NÃO|             NÃO|             NÃO|             NÃO|             NÃO|        NÃO|                  NÃO|   39|          1|              10|             3|        14|\n",
            "| 2230|           1970|   Doutorado|       Casado|23626.0|             1|                 0|    2014-05-24 00:00:00|                84|       27|        2|      14|       0|       0|      0|              3|                  3|                  1|            3|                      5|             NÃO|             NÃO|             NÃO|             NÃO|             NÃO|        NÃO|                  NÃO|   52|          1|              43|             7|        15|\n",
            "|   13|           1947|   Doutorado|        Viúvo|25358.0|             0|                 1|    2013-07-22 00:00:00|                57|       19|        0|       5|       0|       0|      8|              2|                  1|                  0|            3|                      6|             NÃO|             NÃO|             NÃO|             NÃO|             NÃO|        NÃO|                  NÃO|   75|          1|              32|             4|        16|\n",
            "| 5093|           1974|   Doutorado|   Divorciado|25509.0|             1|                 0|    2012-09-18 00:00:00|                15|       40|        3|      30|      10|       7|     11|              3|                  3|                  0|            3|                      9|             NÃO|             NÃO|             NÃO|             NÃO|             NÃO|        NÃO|                  SIM|   48|          1|             101|             6|        17|\n",
            "| 8524|           1974|   Doutorado|   Divorciado|25509.0|             1|                 0|    2012-09-18 00:00:00|                15|       40|        3|      30|      10|       7|     11|              3|                  3|                  0|            3|                      9|             NÃO|             NÃO|             NÃO|             NÃO|             NÃO|        NÃO|                  SIM|   48|          1|             101|             6|        17|\n",
            "| 2868|           1949|   Doutorado|     Solteiro|26518.0|             1|                 1|    2013-08-04 00:00:00|                33|       20|        1|      28|       3|       3|      2|              3|                  2|                  0|            3|                      8|             NÃO|             NÃO|             NÃO|             NÃO|             NÃO|        NÃO|                  SIM|   73|          2|              57|             5|        18|\n",
            "| 3286|           1967|   Doutorado|   Divorciado|26642.0|             1|                 0|    2014-01-03 00:00:00|                71|       13|        2|      15|       2|       2|      8|              2|                  2|                  0|            3|                      6|             NÃO|             NÃO|             NÃO|             NÃO|             NÃO|        NÃO|                  NÃO|   55|          1|              42|             5|        19|\n",
            "+-----+---------------+------------+-------------+-------+--------------+------------------+-----------------------+------------------+---------+---------+--------+--------+--------+-------+---------------+-------------------+-------------------+-------------+-----------------------+----------------+----------------+----------------+----------------+----------------+-----------+---------------------+-----+-----------+----------------+--------------+----------+\n",
            "only showing top 20 rows\n",
            "\n"
          ]
        }
      ]
    },
    {
      "cell_type": "code",
      "source": [
        "#CONVERTENDO PARA PANDAS PARA SUBIR PARA O MONGO\n",
        "dfP = df5.toPandas()"
      ],
      "metadata": {
        "id": "1XaUJ5p8r7Be"
      },
      "execution_count": null,
      "outputs": []
    },
    {
      "cell_type": "markdown",
      "source": [
        "#Carregamento"
      ],
      "metadata": {
        "id": "pIGYJUF-PW6b"
      }
    },
    {
      "cell_type": "markdown",
      "source": [
        "<font color=cyan>ENVIANDO COPIA DO QUE FOI TRATADO PARA O MONGO\n",
        "- As três celulas abaixo estão comentadas para evitar que o banco seja duplicado"
      ],
      "metadata": {
        "id": "tKndBPOjPeGK"
      }
    },
    {
      "cell_type": "code",
      "source": [
        "#CARREGANDO ARQUIVO PARA O MONGO\n"
      ],
      "metadata": {
        "id": "ytiLtVHfPnNJ"
      },
      "execution_count": null,
      "outputs": []
    },
    {
      "cell_type": "code",
      "source": [
        "#"
      ],
      "metadata": {
        "id": "wVk1ODMCPnKq"
      },
      "execution_count": null,
      "outputs": []
    },
    {
      "cell_type": "code",
      "source": [
        "#"
      ],
      "metadata": {
        "colab": {
          "base_uri": "https://localhost:8080/"
        },
        "id": "_SGj12KaPnIF",
        "outputId": "446f5b92-63c5-4318-b6d0-b644a4ae1f10"
      },
      "execution_count": null,
      "outputs": [
        {
          "output_type": "execute_result",
          "data": {
            "text/plain": [
              "2240"
            ]
          },
          "metadata": {},
          "execution_count": 110
        }
      ]
    }
  ]
}